{
 "cells": [
  {
   "cell_type": "markdown",
   "metadata": {},
   "source": [
    "# Shifting peaks: Data analysis"
   ]
  },
  {
   "cell_type": "code",
   "execution_count": 1,
   "metadata": {
    "ExecuteTime": {
     "end_time": "2019-06-30T06:23:09.381929Z",
     "start_time": "2019-06-30T06:23:09.052769Z"
    }
   },
   "outputs": [],
   "source": [
    "%matplotlib inline\n",
    "%load_ext autoreload\n",
    "%autoreload 2\n",
    "from IPython.core.interactiveshell import InteractiveShell\n",
    "InteractiveShell.ast_node_interactivity = \"all\""
   ]
  },
  {
   "cell_type": "markdown",
   "metadata": {},
   "source": [
    "## Imports"
   ]
  },
  {
   "cell_type": "code",
   "execution_count": 2,
   "metadata": {
    "ExecuteTime": {
     "end_time": "2019-06-30T06:23:09.568017Z",
     "start_time": "2019-06-30T06:23:09.383672Z"
    }
   },
   "outputs": [],
   "source": [
    "import matplotlib.pyplot as plt\n",
    "import numpy as np\n",
    "import logging\n",
    "\n",
    "from constants import PATH_PURE_COMPONENTS, PATH_MIXTURES, X\n",
    "from file_io import load_pickle_file\n",
    "from nnls_fit_with_x_axis_correction import analysis\n",
    "from utils import calculate_signal, nnls_fit"
   ]
  },
  {
   "cell_type": "code",
   "execution_count": 3,
   "metadata": {
    "ExecuteTime": {
     "end_time": "2019-06-30T06:23:09.636657Z",
     "start_time": "2019-06-30T06:23:09.569799Z"
    }
   },
   "outputs": [],
   "source": [
    "logging.basicConfig(level=logging.INFO)"
   ]
  },
  {
   "cell_type": "markdown",
   "metadata": {},
   "source": [
    "## Load data"
   ]
  },
  {
   "cell_type": "code",
   "execution_count": 4,
   "metadata": {
    "ExecuteTime": {
     "end_time": "2019-06-30T06:23:09.711811Z",
     "start_time": "2019-06-30T06:23:09.638615Z"
    }
   },
   "outputs": [],
   "source": [
    "pure_components = load_pickle_file(PATH_PURE_COMPONENTS)\n",
    "mixtures_data = load_pickle_file(PATH_MIXTURES)"
   ]
  },
  {
   "cell_type": "markdown",
   "metadata": {},
   "source": [
    "## Analyze data"
   ]
  },
  {
   "cell_type": "code",
   "execution_count": 5,
   "metadata": {
    "ExecuteTime": {
     "end_time": "2019-06-30T06:23:21.143035Z",
     "start_time": "2019-06-30T06:23:09.714416Z"
    },
    "scrolled": true
   },
   "outputs": [
    {
     "name": "stderr",
     "output_type": "stream",
     "text": [
      "INFO:nnls_fit_with_x_axis_correction:Fit converged: iteration 10, RSS 91.22975243617573\n"
     ]
    },
    {
     "name": "stdout",
     "output_type": "stream",
     "text": [
      "1/100\n",
      "2/100\n"
     ]
    },
    {
     "name": "stderr",
     "output_type": "stream",
     "text": [
      "INFO:nnls_fit_with_x_axis_correction:Fit converged: iteration 10, RSS 98.90104760781318\n",
      "INFO:nnls_fit_with_x_axis_correction:Fit converged: iteration 10, RSS 85.5471677083484\n"
     ]
    },
    {
     "name": "stdout",
     "output_type": "stream",
     "text": [
      "3/100\n",
      "4/100\n"
     ]
    },
    {
     "name": "stderr",
     "output_type": "stream",
     "text": [
      "INFO:nnls_fit_with_x_axis_correction:Fit converged: iteration 10, RSS 72.68260805424596\n",
      "INFO:nnls_fit_with_x_axis_correction:Fit converged: iteration 10, RSS 101.33424047727446\n"
     ]
    },
    {
     "name": "stdout",
     "output_type": "stream",
     "text": [
      "5/100\n",
      "6/100\n"
     ]
    },
    {
     "name": "stderr",
     "output_type": "stream",
     "text": [
      "INFO:nnls_fit_with_x_axis_correction:Fit converged: iteration 10, RSS 97.75487078646928\n",
      "INFO:nnls_fit_with_x_axis_correction:Fit converged: iteration 10, RSS 95.97854417964568\n"
     ]
    },
    {
     "name": "stdout",
     "output_type": "stream",
     "text": [
      "7/100\n",
      "8/100\n"
     ]
    },
    {
     "name": "stderr",
     "output_type": "stream",
     "text": [
      "INFO:nnls_fit_with_x_axis_correction:Fit converged: iteration 10, RSS 63.81588476317507\n",
      "INFO:nnls_fit_with_x_axis_correction:Fit converged: iteration 10, RSS 91.79919837411937\n"
     ]
    },
    {
     "name": "stdout",
     "output_type": "stream",
     "text": [
      "9/100\n",
      "10/100\n"
     ]
    },
    {
     "name": "stderr",
     "output_type": "stream",
     "text": [
      "INFO:nnls_fit_with_x_axis_correction:Fit converged: iteration 10, RSS 100.90959772084877\n",
      "INFO:nnls_fit_with_x_axis_correction:Fit converged: iteration 10, RSS 86.63587429594175\n"
     ]
    },
    {
     "name": "stdout",
     "output_type": "stream",
     "text": [
      "11/100\n",
      "12/100\n"
     ]
    },
    {
     "name": "stderr",
     "output_type": "stream",
     "text": [
      "INFO:nnls_fit_with_x_axis_correction:Fit converged: iteration 10, RSS 100.29433792507301\n",
      "INFO:nnls_fit_with_x_axis_correction:Fit converged: iteration 10, RSS 95.45970018813317\n"
     ]
    },
    {
     "name": "stdout",
     "output_type": "stream",
     "text": [
      "13/100\n",
      "14/100\n"
     ]
    },
    {
     "name": "stderr",
     "output_type": "stream",
     "text": [
      "INFO:nnls_fit_with_x_axis_correction:Fit converged: iteration 10, RSS 110.85551147106293\n",
      "INFO:nnls_fit_with_x_axis_correction:Fit converged: iteration 10, RSS 112.05469655442252\n"
     ]
    },
    {
     "name": "stdout",
     "output_type": "stream",
     "text": [
      "15/100\n",
      "16/100\n"
     ]
    },
    {
     "name": "stderr",
     "output_type": "stream",
     "text": [
      "INFO:nnls_fit_with_x_axis_correction:Fit converged: iteration 10, RSS 111.3808955568148\n",
      "INFO:nnls_fit_with_x_axis_correction:Fit converged: iteration 10, RSS 102.48019997592894\n"
     ]
    },
    {
     "name": "stdout",
     "output_type": "stream",
     "text": [
      "17/100\n",
      "18/100\n"
     ]
    },
    {
     "name": "stderr",
     "output_type": "stream",
     "text": [
      "INFO:nnls_fit_with_x_axis_correction:Fit converged: iteration 10, RSS 102.47910814748509\n",
      "INFO:nnls_fit_with_x_axis_correction:Fit converged: iteration 10, RSS 88.44991924629728\n"
     ]
    },
    {
     "name": "stdout",
     "output_type": "stream",
     "text": [
      "19/100\n",
      "20/100\n"
     ]
    },
    {
     "name": "stderr",
     "output_type": "stream",
     "text": [
      "INFO:nnls_fit_with_x_axis_correction:Fit converged: iteration 10, RSS 67.45659684688688\n",
      "INFO:nnls_fit_with_x_axis_correction:Fit converged: iteration 10, RSS 76.17815133175166\n"
     ]
    },
    {
     "name": "stdout",
     "output_type": "stream",
     "text": [
      "21/100\n",
      "22/100\n"
     ]
    },
    {
     "name": "stderr",
     "output_type": "stream",
     "text": [
      "INFO:nnls_fit_with_x_axis_correction:Fit converged: iteration 10, RSS 76.294995095018\n",
      "INFO:nnls_fit_with_x_axis_correction:Fit converged: iteration 10, RSS 94.95349821446523\n"
     ]
    },
    {
     "name": "stdout",
     "output_type": "stream",
     "text": [
      "23/100\n",
      "24/100\n"
     ]
    },
    {
     "name": "stderr",
     "output_type": "stream",
     "text": [
      "INFO:nnls_fit_with_x_axis_correction:Fit converged: iteration 10, RSS 93.92572190057085\n",
      "INFO:nnls_fit_with_x_axis_correction:Fit converged: iteration 10, RSS 89.60463056999032\n"
     ]
    },
    {
     "name": "stdout",
     "output_type": "stream",
     "text": [
      "25/100\n",
      "26/100\n"
     ]
    },
    {
     "name": "stderr",
     "output_type": "stream",
     "text": [
      "INFO:nnls_fit_with_x_axis_correction:Fit converged: iteration 10, RSS 93.45412763250593\n",
      "INFO:nnls_fit_with_x_axis_correction:Fit converged: iteration 10, RSS 111.94905330445538\n"
     ]
    },
    {
     "name": "stdout",
     "output_type": "stream",
     "text": [
      "27/100\n",
      "28/100\n"
     ]
    },
    {
     "name": "stderr",
     "output_type": "stream",
     "text": [
      "INFO:nnls_fit_with_x_axis_correction:Fit converged: iteration 10, RSS 75.6776356489448\n",
      "INFO:nnls_fit_with_x_axis_correction:Fit converged: iteration 10, RSS 112.12795796733846\n"
     ]
    },
    {
     "name": "stdout",
     "output_type": "stream",
     "text": [
      "29/100\n",
      "30/100\n"
     ]
    },
    {
     "name": "stderr",
     "output_type": "stream",
     "text": [
      "INFO:nnls_fit_with_x_axis_correction:Fit converged: iteration 10, RSS 89.5397893776796\n",
      "INFO:nnls_fit_with_x_axis_correction:Fit converged: iteration 10, RSS 103.47489134659783\n"
     ]
    },
    {
     "name": "stdout",
     "output_type": "stream",
     "text": [
      "31/100\n",
      "32/100\n"
     ]
    },
    {
     "name": "stderr",
     "output_type": "stream",
     "text": [
      "INFO:nnls_fit_with_x_axis_correction:Fit converged: iteration 10, RSS 93.91234655424195\n",
      "INFO:nnls_fit_with_x_axis_correction:Fit converged: iteration 10, RSS 85.02927781172714\n"
     ]
    },
    {
     "name": "stdout",
     "output_type": "stream",
     "text": [
      "33/100\n",
      "34/100\n"
     ]
    },
    {
     "name": "stderr",
     "output_type": "stream",
     "text": [
      "INFO:nnls_fit_with_x_axis_correction:Fit converged: iteration 10, RSS 79.75269556580048\n",
      "INFO:nnls_fit_with_x_axis_correction:Fit converged: iteration 10, RSS 97.51687935758872\n"
     ]
    },
    {
     "name": "stdout",
     "output_type": "stream",
     "text": [
      "35/100\n",
      "36/100\n"
     ]
    },
    {
     "name": "stderr",
     "output_type": "stream",
     "text": [
      "INFO:nnls_fit_with_x_axis_correction:Fit converged: iteration 10, RSS 93.30654639968824\n",
      "INFO:nnls_fit_with_x_axis_correction:Fit converged: iteration 10, RSS 83.04535263898721\n"
     ]
    },
    {
     "name": "stdout",
     "output_type": "stream",
     "text": [
      "37/100\n",
      "38/100\n"
     ]
    },
    {
     "name": "stderr",
     "output_type": "stream",
     "text": [
      "INFO:nnls_fit_with_x_axis_correction:Fit converged: iteration 10, RSS 72.15111274140399\n",
      "INFO:nnls_fit_with_x_axis_correction:Fit converged: iteration 10, RSS 74.89318169923975\n"
     ]
    },
    {
     "name": "stdout",
     "output_type": "stream",
     "text": [
      "39/100\n",
      "40/100\n"
     ]
    },
    {
     "name": "stderr",
     "output_type": "stream",
     "text": [
      "INFO:nnls_fit_with_x_axis_correction:Fit converged: iteration 10, RSS 95.79566275182628\n",
      "INFO:nnls_fit_with_x_axis_correction:Fit converged: iteration 10, RSS 87.77373816322827\n"
     ]
    },
    {
     "name": "stdout",
     "output_type": "stream",
     "text": [
      "41/100\n",
      "42/100\n"
     ]
    },
    {
     "name": "stderr",
     "output_type": "stream",
     "text": [
      "INFO:nnls_fit_with_x_axis_correction:Fit converged: iteration 10, RSS 105.07944634487515\n",
      "INFO:nnls_fit_with_x_axis_correction:Fit converged: iteration 10, RSS 83.74240438190786\n"
     ]
    },
    {
     "name": "stdout",
     "output_type": "stream",
     "text": [
      "43/100\n",
      "44/100\n"
     ]
    },
    {
     "name": "stderr",
     "output_type": "stream",
     "text": [
      "INFO:nnls_fit_with_x_axis_correction:Fit converged: iteration 10, RSS 85.25233304759395\n",
      "INFO:nnls_fit_with_x_axis_correction:Fit converged: iteration 10, RSS 101.90953501382316\n"
     ]
    },
    {
     "name": "stdout",
     "output_type": "stream",
     "text": [
      "45/100\n",
      "46/100\n"
     ]
    },
    {
     "name": "stderr",
     "output_type": "stream",
     "text": [
      "INFO:nnls_fit_with_x_axis_correction:Fit converged: iteration 10, RSS 77.79878621092561\n",
      "INFO:nnls_fit_with_x_axis_correction:Fit converged: iteration 10, RSS 86.73097889807427\n"
     ]
    },
    {
     "name": "stdout",
     "output_type": "stream",
     "text": [
      "47/100\n",
      "48/100\n"
     ]
    },
    {
     "name": "stderr",
     "output_type": "stream",
     "text": [
      "INFO:nnls_fit_with_x_axis_correction:Fit converged: iteration 10, RSS 77.0569602030102\n",
      "INFO:nnls_fit_with_x_axis_correction:Fit converged: iteration 10, RSS 100.13681201682147\n"
     ]
    },
    {
     "name": "stdout",
     "output_type": "stream",
     "text": [
      "49/100\n",
      "50/100\n"
     ]
    },
    {
     "name": "stderr",
     "output_type": "stream",
     "text": [
      "INFO:nnls_fit_with_x_axis_correction:Fit converged: iteration 10, RSS 85.96749086182118\n",
      "INFO:nnls_fit_with_x_axis_correction:Fit converged: iteration 10, RSS 100.5253574324369\n"
     ]
    },
    {
     "name": "stdout",
     "output_type": "stream",
     "text": [
      "51/100\n",
      "52/100\n"
     ]
    },
    {
     "name": "stderr",
     "output_type": "stream",
     "text": [
      "INFO:nnls_fit_with_x_axis_correction:Fit converged: iteration 10, RSS 105.32880642831113\n",
      "INFO:nnls_fit_with_x_axis_correction:Fit converged: iteration 10, RSS 113.01629920530338\n"
     ]
    },
    {
     "name": "stdout",
     "output_type": "stream",
     "text": [
      "53/100\n",
      "54/100\n"
     ]
    },
    {
     "name": "stderr",
     "output_type": "stream",
     "text": [
      "INFO:nnls_fit_with_x_axis_correction:Fit converged: iteration 10, RSS 105.62150100536347\n",
      "INFO:nnls_fit_with_x_axis_correction:Fit converged: iteration 10, RSS 94.86364729355434\n"
     ]
    },
    {
     "name": "stdout",
     "output_type": "stream",
     "text": [
      "55/100\n",
      "56/100\n"
     ]
    },
    {
     "name": "stderr",
     "output_type": "stream",
     "text": [
      "INFO:nnls_fit_with_x_axis_correction:Fit converged: iteration 10, RSS 94.56172974362704\n",
      "INFO:nnls_fit_with_x_axis_correction:Fit converged: iteration 10, RSS 77.06701634007027\n"
     ]
    },
    {
     "name": "stdout",
     "output_type": "stream",
     "text": [
      "57/100\n",
      "58/100\n"
     ]
    },
    {
     "name": "stderr",
     "output_type": "stream",
     "text": [
      "INFO:nnls_fit_with_x_axis_correction:Fit converged: iteration 10, RSS 109.50393228282913\n",
      "INFO:nnls_fit_with_x_axis_correction:Fit converged: iteration 11, RSS 97.09922461704218\n"
     ]
    },
    {
     "name": "stdout",
     "output_type": "stream",
     "text": [
      "59/100\n",
      "60/100\n"
     ]
    },
    {
     "name": "stderr",
     "output_type": "stream",
     "text": [
      "INFO:nnls_fit_with_x_axis_correction:Fit converged: iteration 10, RSS 72.63868364822594\n",
      "INFO:nnls_fit_with_x_axis_correction:Fit converged: iteration 10, RSS 85.2568972224597\n"
     ]
    },
    {
     "name": "stdout",
     "output_type": "stream",
     "text": [
      "61/100\n",
      "62/100\n"
     ]
    },
    {
     "name": "stderr",
     "output_type": "stream",
     "text": [
      "INFO:nnls_fit_with_x_axis_correction:Fit converged: iteration 10, RSS 88.16494517511799\n",
      "INFO:nnls_fit_with_x_axis_correction:Fit converged: iteration 10, RSS 67.49693986321473\n"
     ]
    },
    {
     "name": "stdout",
     "output_type": "stream",
     "text": [
      "63/100\n",
      "64/100\n"
     ]
    },
    {
     "name": "stderr",
     "output_type": "stream",
     "text": [
      "INFO:nnls_fit_with_x_axis_correction:Fit converged: iteration 10, RSS 88.06483933376829\n",
      "INFO:nnls_fit_with_x_axis_correction:Fit converged: iteration 10, RSS 114.44937311003703\n"
     ]
    },
    {
     "name": "stdout",
     "output_type": "stream",
     "text": [
      "65/100\n",
      "66/100\n"
     ]
    },
    {
     "name": "stderr",
     "output_type": "stream",
     "text": [
      "INFO:nnls_fit_with_x_axis_correction:Fit converged: iteration 10, RSS 87.21344129739438\n",
      "INFO:nnls_fit_with_x_axis_correction:Fit converged: iteration 10, RSS 117.241953873258\n"
     ]
    },
    {
     "name": "stdout",
     "output_type": "stream",
     "text": [
      "67/100\n",
      "68/100\n"
     ]
    },
    {
     "name": "stderr",
     "output_type": "stream",
     "text": [
      "INFO:nnls_fit_with_x_axis_correction:Fit converged: iteration 10, RSS 95.6138054180326\n",
      "INFO:nnls_fit_with_x_axis_correction:Fit converged: iteration 10, RSS 88.19962551182087\n"
     ]
    },
    {
     "name": "stdout",
     "output_type": "stream",
     "text": [
      "69/100\n",
      "70/100\n"
     ]
    },
    {
     "name": "stderr",
     "output_type": "stream",
     "text": [
      "INFO:nnls_fit_with_x_axis_correction:Fit converged: iteration 10, RSS 72.88764733339814\n",
      "INFO:nnls_fit_with_x_axis_correction:Fit converged: iteration 10, RSS 76.40742189259504\n"
     ]
    },
    {
     "name": "stdout",
     "output_type": "stream",
     "text": [
      "71/100\n",
      "72/100\n"
     ]
    },
    {
     "name": "stderr",
     "output_type": "stream",
     "text": [
      "INFO:nnls_fit_with_x_axis_correction:Fit converged: iteration 10, RSS 94.5122910470353\n",
      "INFO:nnls_fit_with_x_axis_correction:Fit converged: iteration 10, RSS 93.22263577428458\n"
     ]
    },
    {
     "name": "stdout",
     "output_type": "stream",
     "text": [
      "73/100\n",
      "74/100\n"
     ]
    },
    {
     "name": "stderr",
     "output_type": "stream",
     "text": [
      "INFO:nnls_fit_with_x_axis_correction:Fit converged: iteration 10, RSS 78.30076026468078\n",
      "INFO:nnls_fit_with_x_axis_correction:Fit converged: iteration 10, RSS 88.30774304938059\n"
     ]
    },
    {
     "name": "stdout",
     "output_type": "stream",
     "text": [
      "75/100\n",
      "76/100\n"
     ]
    },
    {
     "name": "stderr",
     "output_type": "stream",
     "text": [
      "INFO:nnls_fit_with_x_axis_correction:Fit converged: iteration 10, RSS 118.53024948352854\n",
      "INFO:nnls_fit_with_x_axis_correction:Fit converged: iteration 10, RSS 75.53831727112032\n"
     ]
    },
    {
     "name": "stdout",
     "output_type": "stream",
     "text": [
      "77/100\n",
      "78/100\n"
     ]
    },
    {
     "name": "stderr",
     "output_type": "stream",
     "text": [
      "INFO:nnls_fit_with_x_axis_correction:Fit converged: iteration 10, RSS 84.24568818830676\n",
      "INFO:nnls_fit_with_x_axis_correction:Fit converged: iteration 10, RSS 87.93143225772624\n"
     ]
    },
    {
     "name": "stdout",
     "output_type": "stream",
     "text": [
      "79/100\n",
      "80/100\n"
     ]
    },
    {
     "name": "stderr",
     "output_type": "stream",
     "text": [
      "INFO:nnls_fit_with_x_axis_correction:Fit converged: iteration 10, RSS 97.49774878998889\n",
      "INFO:nnls_fit_with_x_axis_correction:Fit converged: iteration 10, RSS 78.26985173504633\n"
     ]
    },
    {
     "name": "stdout",
     "output_type": "stream",
     "text": [
      "81/100\n",
      "82/100\n"
     ]
    },
    {
     "name": "stderr",
     "output_type": "stream",
     "text": [
      "INFO:nnls_fit_with_x_axis_correction:Fit converged: iteration 10, RSS 117.66806005042748\n",
      "INFO:nnls_fit_with_x_axis_correction:Fit converged: iteration 10, RSS 91.73864877350972\n"
     ]
    },
    {
     "name": "stdout",
     "output_type": "stream",
     "text": [
      "83/100\n",
      "84/100\n"
     ]
    },
    {
     "name": "stderr",
     "output_type": "stream",
     "text": [
      "INFO:nnls_fit_with_x_axis_correction:Fit converged: iteration 10, RSS 65.40876007813655\n",
      "INFO:nnls_fit_with_x_axis_correction:Fit converged: iteration 10, RSS 96.68090059863651\n"
     ]
    },
    {
     "name": "stdout",
     "output_type": "stream",
     "text": [
      "85/100\n",
      "86/100\n"
     ]
    },
    {
     "name": "stderr",
     "output_type": "stream",
     "text": [
      "INFO:nnls_fit_with_x_axis_correction:Fit converged: iteration 10, RSS 98.7627047508532\n",
      "INFO:nnls_fit_with_x_axis_correction:Fit converged: iteration 10, RSS 111.5374174532777\n",
      "INFO:nnls_fit_with_x_axis_correction:Fit converged: iteration 10, RSS 79.40888873862495\n"
     ]
    },
    {
     "name": "stdout",
     "output_type": "stream",
     "text": [
      "87/100\n",
      "88/100\n"
     ]
    },
    {
     "name": "stderr",
     "output_type": "stream",
     "text": [
      "INFO:nnls_fit_with_x_axis_correction:Fit converged: iteration 10, RSS 68.03194328215453\n",
      "INFO:nnls_fit_with_x_axis_correction:Fit converged: iteration 10, RSS 101.77413589475889\n"
     ]
    },
    {
     "name": "stdout",
     "output_type": "stream",
     "text": [
      "89/100\n",
      "90/100\n",
      "91/100\n"
     ]
    },
    {
     "name": "stderr",
     "output_type": "stream",
     "text": [
      "INFO:nnls_fit_with_x_axis_correction:Fit converged: iteration 10, RSS 91.6908898044656\n",
      "INFO:nnls_fit_with_x_axis_correction:Fit converged: iteration 10, RSS 90.8923414297916\n"
     ]
    },
    {
     "name": "stdout",
     "output_type": "stream",
     "text": [
      "92/100\n",
      "93/100\n"
     ]
    },
    {
     "name": "stderr",
     "output_type": "stream",
     "text": [
      "INFO:nnls_fit_with_x_axis_correction:Fit converged: iteration 10, RSS 85.91325267895623\n",
      "INFO:nnls_fit_with_x_axis_correction:Fit converged: iteration 10, RSS 70.00037416181154\n"
     ]
    },
    {
     "name": "stdout",
     "output_type": "stream",
     "text": [
      "94/100\n",
      "95/100\n"
     ]
    },
    {
     "name": "stderr",
     "output_type": "stream",
     "text": [
      "INFO:nnls_fit_with_x_axis_correction:Fit converged: iteration 10, RSS 76.53915770640845\n",
      "INFO:nnls_fit_with_x_axis_correction:Fit converged: iteration 10, RSS 113.00587552329029\n"
     ]
    },
    {
     "name": "stdout",
     "output_type": "stream",
     "text": [
      "96/100\n",
      "97/100\n"
     ]
    },
    {
     "name": "stderr",
     "output_type": "stream",
     "text": [
      "INFO:nnls_fit_with_x_axis_correction:Fit converged: iteration 10, RSS 87.93144220750034\n",
      "INFO:nnls_fit_with_x_axis_correction:Fit converged: iteration 10, RSS 109.97358309956199\n"
     ]
    },
    {
     "name": "stdout",
     "output_type": "stream",
     "text": [
      "98/100\n",
      "99/100\n"
     ]
    },
    {
     "name": "stderr",
     "output_type": "stream",
     "text": [
      "INFO:nnls_fit_with_x_axis_correction:Fit converged: iteration 10, RSS 98.89437644152184\n",
      "INFO:nnls_fit_with_x_axis_correction:Fit converged: iteration 10, RSS 111.12926140471598\n"
     ]
    },
    {
     "name": "stdout",
     "output_type": "stream",
     "text": [
      "100/100\n"
     ]
    }
   ],
   "source": [
    "results = []\n",
    "for i, sample in enumerate(mixtures_data, 1):\n",
    "    print(f'{i}/{len(mixtures_data)}')\n",
    "    true_contributions = sample['contributions']\n",
    "    signal = sample['signal']\n",
    "    result = [true_contributions[-1],\n",
    "              nnls_fit(signal, pure_components)[-1],\n",
    "              analysis(X, signal, pure_components)[0][-1]]\n",
    "    results.append(result)\n",
    "results = np.array(results)"
   ]
  },
  {
   "cell_type": "markdown",
   "metadata": {},
   "source": [
    "## Show results"
   ]
  },
  {
   "cell_type": "code",
   "execution_count": 6,
   "metadata": {
    "ExecuteTime": {
     "end_time": "2019-06-30T06:23:21.463177Z",
     "start_time": "2019-06-30T06:23:21.146026Z"
    }
   },
   "outputs": [
    {
     "data": {
      "image/png": "[encoded data removed]",
      "text/plain": [
       "<Figure size 432x288 with 1 Axes>"
      ]
     },
     "metadata": {},
     "output_type": "display_data"
    },
    {
     "data": {
      "image/png": "[encoded data removed]",
      "text/plain": [
       "<Figure size 432x288 with 1 Axes>"
      ]
     },
     "metadata": {},
     "output_type": "display_data"
    }
   ],
   "source": [
    "_ = plt.figure()\n",
    "_ = plt.plot(results[:, 0], 'b-', results[:, 1], 'r-', results[:, 1] - results[:, 0], 'g-')\n",
    "plt.grid()\n",
    "_ = plt.title('NNLS without correction')\n",
    "_ = plt.legend(['True', 'Predicted', 'Error'])\n",
    "plt.show()\n",
    "\n",
    "_ = plt.figure()\n",
    "_ = plt.plot(results[:, 0], 'b-', results[:, 2], 'r-', results[:, 2] - results[:, 0], 'g-')\n",
    "plt.grid()\n",
    "_ = plt.title('NNLS with correction')\n",
    "_ = plt.legend(['True', 'Predicted', 'Error'])\n",
    "plt.show()"
   ]
  },
  {
   "cell_type": "code",
   "execution_count": 7,
   "metadata": {
    "ExecuteTime": {
     "end_time": "2019-06-30T06:23:21.762381Z",
     "start_time": "2019-06-30T06:23:21.465172Z"
    }
   },
   "outputs": [
    {
     "name": "stderr",
     "output_type": "stream",
     "text": [
      "INFO:nnls_fit_with_x_axis_correction:Fit converged: iteration 10, RSS 98.90104760781318\n"
     ]
    },
    {
     "data": {
      "image/png": "[encoded data removed]",
      "text/plain": [
       "<Figure size 432x288 with 1 Axes>"
      ]
     },
     "metadata": {},
     "output_type": "display_data"
    },
    {
     "name": "stdout",
     "output_type": "stream",
     "text": [
      "Prediction without correction [81.04619618 24.73476966 30.41792386]\n",
      "Prediction with correction [81.04955789 24.36622788 33.21343327]\n",
      "True [81.09093465 24.37816706 33.34504186]\n"
     ]
    }
   ],
   "source": [
    "index = 1\n",
    "true_concentrations = mixtures_data[index]['contributions']\n",
    "signal = mixtures_data[index]['signal']\n",
    "\n",
    "prediction0 = nnls_fit(signal, pure_components)\n",
    "prediction = analysis(X, signal, pure_components)[0]\n",
    "\n",
    "signal_estimate = calculate_signal(prediction0, pure_components)\n",
    "residual = signal_estimate - signal\n",
    "\n",
    "_ = plt.plot(signal, 'b', linewidth=2, label='True')\n",
    "_ = plt.plot(signal_estimate, 'r', linewidth=2, label='Estimate')\n",
    "_ = plt.plot(residual, 'g', linewidth=2, label='Residual')\n",
    "plt.grid()\n",
    "_ = plt.title('True signal, estimated signal and residual')\n",
    "_ = plt.legend()\n",
    "plt.show()\n",
    "\n",
    "print('Prediction without correction', prediction0)\n",
    "print('Prediction with correction', prediction)\n",
    "print('True', true_concentrations)"
   ]
  },
  {
   "cell_type": "code",
   "execution_count": null,
   "metadata": {},
   "outputs": [],
   "source": []
  }
 ],
 "metadata": {
  "kernelspec": {
   "display_name": "Python 3",
   "language": "python",
   "name": "python3"
  },
  "language_info": {
   "codemirror_mode": {
    "name": "ipython",
    "version": 3
   },
   "file_extension": ".py",
   "mimetype": "text/x-python",
   "name": "python",
   "nbconvert_exporter": "python",
   "pygments_lexer": "ipython3",
   "version": "3.6.5"
  },
  "varInspector": {
   "cols": {
    "lenName": 16,
    "lenType": 16,
    "lenVar": 40
   },
   "kernels_config": {
    "python": {
     "delete_cmd_postfix": "",
     "delete_cmd_prefix": "del ",
     "library": "var_list.py",
     "varRefreshCmd": "print(var_dic_list())"
    },
    "r": {
     "delete_cmd_postfix": ") ",
     "delete_cmd_prefix": "rm(",
     "library": "var_list.r",
     "varRefreshCmd": "cat(var_dic_list()) "
    }
   },
   "types_to_exclude": [
    "module",
    "function",
    "builtin_function_or_method",
    "instance",
    "_Feature"
   ],
   "window_display": false
  }
 },
 "nbformat": 4,
 "nbformat_minor": 2
}

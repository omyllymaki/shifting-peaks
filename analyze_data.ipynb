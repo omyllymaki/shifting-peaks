{
 "cells": [
  {
   "cell_type": "markdown",
   "metadata": {},
   "source": [
    "# Shifting peaks: Data analysis"
   ]
  },
  {
   "cell_type": "code",
   "execution_count": 1,
   "metadata": {
    "ExecuteTime": {
     "end_time": "2019-07-01T06:02:01.753332Z",
     "start_time": "2019-07-01T06:02:01.401133Z"
    }
   },
   "outputs": [],
   "source": [
    "%matplotlib inline\n",
    "%load_ext autoreload\n",
    "%autoreload 2\n",
    "from IPython.core.interactiveshell import InteractiveShell\n",
    "InteractiveShell.ast_node_interactivity = \"all\""
   ]
  },
  {
   "cell_type": "markdown",
   "metadata": {},
   "source": [
    "## Imports"
   ]
  },
  {
   "cell_type": "code",
   "execution_count": 2,
   "metadata": {
    "ExecuteTime": {
     "end_time": "2019-07-01T06:02:01.940114Z",
     "start_time": "2019-07-01T06:02:01.755186Z"
    }
   },
   "outputs": [],
   "source": [
    "import matplotlib.pyplot as plt\n",
    "import numpy as np\n",
    "import logging\n",
    "\n",
    "from constants import PATH_PURE_COMPONENTS, PATH_MIXTURES, X\n",
    "from file_io import load_pickle_file\n",
    "from nnls_fit_with_x_axis_correction import analyze\n",
    "from utils import calculate_signal, nnls_fit"
   ]
  },
  {
   "cell_type": "code",
   "execution_count": 3,
   "metadata": {
    "ExecuteTime": {
     "end_time": "2019-07-01T06:02:02.012913Z",
     "start_time": "2019-07-01T06:02:01.942102Z"
    }
   },
   "outputs": [],
   "source": [
    "logging.basicConfig(level=logging.INFO)"
   ]
  },
  {
   "cell_type": "markdown",
   "metadata": {},
   "source": [
    "## Load data"
   ]
  },
  {
   "cell_type": "code",
   "execution_count": 4,
   "metadata": {
    "ExecuteTime": {
     "end_time": "2019-07-01T06:02:02.088709Z",
     "start_time": "2019-07-01T06:02:02.015904Z"
    }
   },
   "outputs": [],
   "source": [
    "pure_components = load_pickle_file(PATH_PURE_COMPONENTS)\n",
    "mixtures_data = load_pickle_file(PATH_MIXTURES)"
   ]
  },
  {
   "cell_type": "markdown",
   "metadata": {},
   "source": [
    "## Analyze data"
   ]
  },
  {
   "cell_type": "code",
   "execution_count": 5,
   "metadata": {
    "ExecuteTime": {
     "end_time": "2019-07-01T06:02:13.611428Z",
     "start_time": "2019-07-01T06:02:02.090704Z"
    },
    "scrolled": true
   },
   "outputs": [
    {
     "name": "stderr",
     "output_type": "stream",
     "text": [
      "INFO:nnls_fit_with_x_axis_correction:Fit converged: iteration 10, RSS 104.35525231275645\n"
     ]
    },
    {
     "name": "stdout",
     "output_type": "stream",
     "text": [
      "1/100\n",
      "2/100\n"
     ]
    },
    {
     "name": "stderr",
     "output_type": "stream",
     "text": [
      "INFO:nnls_fit_with_x_axis_correction:Fit converged: iteration 10, RSS 81.43125890908553\n",
      "INFO:nnls_fit_with_x_axis_correction:Fit converged: iteration 10, RSS 96.11037905246617\n"
     ]
    },
    {
     "name": "stdout",
     "output_type": "stream",
     "text": [
      "3/100\n",
      "4/100\n"
     ]
    },
    {
     "name": "stderr",
     "output_type": "stream",
     "text": [
      "INFO:nnls_fit_with_x_axis_correction:Fit converged: iteration 10, RSS 83.50236345165635\n",
      "INFO:nnls_fit_with_x_axis_correction:Fit converged: iteration 10, RSS 92.57257823087974\n"
     ]
    },
    {
     "name": "stdout",
     "output_type": "stream",
     "text": [
      "5/100\n",
      "6/100\n"
     ]
    },
    {
     "name": "stderr",
     "output_type": "stream",
     "text": [
      "INFO:nnls_fit_with_x_axis_correction:Fit converged: iteration 10, RSS 93.49555632231042\n",
      "INFO:nnls_fit_with_x_axis_correction:Fit converged: iteration 10, RSS 74.04841223732515\n"
     ]
    },
    {
     "name": "stdout",
     "output_type": "stream",
     "text": [
      "7/100\n",
      "8/100\n"
     ]
    },
    {
     "name": "stderr",
     "output_type": "stream",
     "text": [
      "INFO:nnls_fit_with_x_axis_correction:Fit converged: iteration 10, RSS 91.64375483758164\n",
      "INFO:nnls_fit_with_x_axis_correction:Fit converged: iteration 10, RSS 95.61109882857743\n"
     ]
    },
    {
     "name": "stdout",
     "output_type": "stream",
     "text": [
      "9/100\n",
      "10/100\n"
     ]
    },
    {
     "name": "stderr",
     "output_type": "stream",
     "text": [
      "INFO:nnls_fit_with_x_axis_correction:Fit converged: iteration 10, RSS 92.46735022630637\n",
      "INFO:nnls_fit_with_x_axis_correction:Fit converged: iteration 10, RSS 78.8879838817705\n"
     ]
    },
    {
     "name": "stdout",
     "output_type": "stream",
     "text": [
      "11/100\n",
      "12/100\n"
     ]
    },
    {
     "name": "stderr",
     "output_type": "stream",
     "text": [
      "INFO:nnls_fit_with_x_axis_correction:Fit converged: iteration 10, RSS 87.94919670803903\n",
      "INFO:nnls_fit_with_x_axis_correction:Fit converged: iteration 10, RSS 87.53871545720511\n"
     ]
    },
    {
     "name": "stdout",
     "output_type": "stream",
     "text": [
      "13/100\n",
      "14/100\n"
     ]
    },
    {
     "name": "stderr",
     "output_type": "stream",
     "text": [
      "INFO:nnls_fit_with_x_axis_correction:Fit converged: iteration 10, RSS 88.32276843333244\n",
      "INFO:nnls_fit_with_x_axis_correction:Fit converged: iteration 10, RSS 94.0666578330415\n"
     ]
    },
    {
     "name": "stdout",
     "output_type": "stream",
     "text": [
      "15/100\n",
      "16/100\n"
     ]
    },
    {
     "name": "stderr",
     "output_type": "stream",
     "text": [
      "INFO:nnls_fit_with_x_axis_correction:Fit converged: iteration 10, RSS 98.60729128013305\n",
      "INFO:nnls_fit_with_x_axis_correction:Fit converged: iteration 10, RSS 99.5195442051062\n"
     ]
    },
    {
     "name": "stdout",
     "output_type": "stream",
     "text": [
      "17/100\n",
      "18/100\n"
     ]
    },
    {
     "name": "stderr",
     "output_type": "stream",
     "text": [
      "INFO:nnls_fit_with_x_axis_correction:Fit converged: iteration 10, RSS 93.48740326169113\n",
      "INFO:nnls_fit_with_x_axis_correction:Fit converged: iteration 10, RSS 109.52057788799696\n"
     ]
    },
    {
     "name": "stdout",
     "output_type": "stream",
     "text": [
      "19/100\n",
      "20/100\n"
     ]
    },
    {
     "name": "stderr",
     "output_type": "stream",
     "text": [
      "INFO:nnls_fit_with_x_axis_correction:Fit converged: iteration 10, RSS 88.2014158215617\n",
      "INFO:nnls_fit_with_x_axis_correction:Fit converged: iteration 10, RSS 104.51647848747821\n"
     ]
    },
    {
     "name": "stdout",
     "output_type": "stream",
     "text": [
      "21/100\n",
      "22/100\n"
     ]
    },
    {
     "name": "stderr",
     "output_type": "stream",
     "text": [
      "INFO:nnls_fit_with_x_axis_correction:Fit converged: iteration 10, RSS 94.85366199453962\n",
      "INFO:nnls_fit_with_x_axis_correction:Fit converged: iteration 10, RSS 71.38906258090209\n"
     ]
    },
    {
     "name": "stdout",
     "output_type": "stream",
     "text": [
      "23/100\n",
      "24/100\n"
     ]
    },
    {
     "name": "stderr",
     "output_type": "stream",
     "text": [
      "INFO:nnls_fit_with_x_axis_correction:Fit converged: iteration 10, RSS 70.92938006610281\n",
      "INFO:nnls_fit_with_x_axis_correction:Fit converged: iteration 10, RSS 90.95076491681378\n"
     ]
    },
    {
     "name": "stdout",
     "output_type": "stream",
     "text": [
      "25/100\n",
      "26/100\n"
     ]
    },
    {
     "name": "stderr",
     "output_type": "stream",
     "text": [
      "INFO:nnls_fit_with_x_axis_correction:Fit converged: iteration 10, RSS 106.57769710623712\n",
      "INFO:nnls_fit_with_x_axis_correction:Fit converged: iteration 10, RSS 106.85467635886182\n"
     ]
    },
    {
     "name": "stdout",
     "output_type": "stream",
     "text": [
      "27/100\n",
      "28/100\n"
     ]
    },
    {
     "name": "stderr",
     "output_type": "stream",
     "text": [
      "INFO:nnls_fit_with_x_axis_correction:Fit converged: iteration 10, RSS 94.12903646021944\n",
      "INFO:nnls_fit_with_x_axis_correction:Fit converged: iteration 10, RSS 99.94418865076842\n"
     ]
    },
    {
     "name": "stdout",
     "output_type": "stream",
     "text": [
      "29/100\n",
      "30/100\n"
     ]
    },
    {
     "name": "stderr",
     "output_type": "stream",
     "text": [
      "INFO:nnls_fit_with_x_axis_correction:Fit converged: iteration 10, RSS 108.89762423705477\n",
      "INFO:nnls_fit_with_x_axis_correction:Fit converged: iteration 10, RSS 98.46244125793264\n"
     ]
    },
    {
     "name": "stdout",
     "output_type": "stream",
     "text": [
      "31/100\n",
      "32/100\n"
     ]
    },
    {
     "name": "stderr",
     "output_type": "stream",
     "text": [
      "INFO:nnls_fit_with_x_axis_correction:Fit converged: iteration 10, RSS 119.5183824958093\n",
      "INFO:nnls_fit_with_x_axis_correction:Fit converged: iteration 10, RSS 106.20310642816143\n"
     ]
    },
    {
     "name": "stdout",
     "output_type": "stream",
     "text": [
      "33/100\n",
      "34/100\n"
     ]
    },
    {
     "name": "stderr",
     "output_type": "stream",
     "text": [
      "INFO:nnls_fit_with_x_axis_correction:Fit converged: iteration 10, RSS 92.87255676603306\n",
      "INFO:nnls_fit_with_x_axis_correction:Fit converged: iteration 10, RSS 105.42012508921236\n"
     ]
    },
    {
     "name": "stdout",
     "output_type": "stream",
     "text": [
      "35/100\n",
      "36/100\n"
     ]
    },
    {
     "name": "stderr",
     "output_type": "stream",
     "text": [
      "INFO:nnls_fit_with_x_axis_correction:Fit converged: iteration 10, RSS 113.20747210821087\n",
      "INFO:nnls_fit_with_x_axis_correction:Fit converged: iteration 10, RSS 83.45744282459246\n"
     ]
    },
    {
     "name": "stdout",
     "output_type": "stream",
     "text": [
      "37/100\n",
      "38/100\n"
     ]
    },
    {
     "name": "stderr",
     "output_type": "stream",
     "text": [
      "INFO:nnls_fit_with_x_axis_correction:Fit converged: iteration 10, RSS 72.49490506566494\n",
      "INFO:nnls_fit_with_x_axis_correction:Fit converged: iteration 10, RSS 82.90915025565526\n"
     ]
    },
    {
     "name": "stdout",
     "output_type": "stream",
     "text": [
      "39/100\n",
      "40/100\n"
     ]
    },
    {
     "name": "stderr",
     "output_type": "stream",
     "text": [
      "INFO:nnls_fit_with_x_axis_correction:Fit converged: iteration 10, RSS 92.37455737850993\n",
      "INFO:nnls_fit_with_x_axis_correction:Fit converged: iteration 10, RSS 101.90766393441955\n"
     ]
    },
    {
     "name": "stdout",
     "output_type": "stream",
     "text": [
      "41/100\n",
      "42/100\n"
     ]
    },
    {
     "name": "stderr",
     "output_type": "stream",
     "text": [
      "INFO:nnls_fit_with_x_axis_correction:Fit converged: iteration 10, RSS 88.08694957690116\n",
      "INFO:nnls_fit_with_x_axis_correction:Fit converged: iteration 10, RSS 95.11204032457029\n"
     ]
    },
    {
     "name": "stdout",
     "output_type": "stream",
     "text": [
      "43/100\n",
      "44/100\n"
     ]
    },
    {
     "name": "stderr",
     "output_type": "stream",
     "text": [
      "INFO:nnls_fit_with_x_axis_correction:Fit converged: iteration 10, RSS 103.97196664466496\n",
      "INFO:nnls_fit_with_x_axis_correction:Fit converged: iteration 10, RSS 80.75163764500101\n"
     ]
    },
    {
     "name": "stdout",
     "output_type": "stream",
     "text": [
      "45/100\n",
      "46/100\n"
     ]
    },
    {
     "name": "stderr",
     "output_type": "stream",
     "text": [
      "INFO:nnls_fit_with_x_axis_correction:Fit converged: iteration 10, RSS 100.78927193518471\n",
      "INFO:nnls_fit_with_x_axis_correction:Fit converged: iteration 10, RSS 114.24875116460794\n"
     ]
    },
    {
     "name": "stdout",
     "output_type": "stream",
     "text": [
      "47/100\n",
      "48/100\n"
     ]
    },
    {
     "name": "stderr",
     "output_type": "stream",
     "text": [
      "INFO:nnls_fit_with_x_axis_correction:Fit converged: iteration 10, RSS 116.29605027062821\n",
      "INFO:nnls_fit_with_x_axis_correction:Fit converged: iteration 10, RSS 74.81707888689432\n"
     ]
    },
    {
     "name": "stdout",
     "output_type": "stream",
     "text": [
      "49/100\n",
      "50/100\n"
     ]
    },
    {
     "name": "stderr",
     "output_type": "stream",
     "text": [
      "INFO:nnls_fit_with_x_axis_correction:Fit converged: iteration 10, RSS 76.8553210937584\n",
      "INFO:nnls_fit_with_x_axis_correction:Fit converged: iteration 10, RSS 90.53960858056728\n"
     ]
    },
    {
     "name": "stdout",
     "output_type": "stream",
     "text": [
      "51/100\n",
      "52/100\n"
     ]
    },
    {
     "name": "stderr",
     "output_type": "stream",
     "text": [
      "INFO:nnls_fit_with_x_axis_correction:Fit converged: iteration 10, RSS 96.06605171231317\n",
      "INFO:nnls_fit_with_x_axis_correction:Fit converged: iteration 10, RSS 97.68504564191817\n"
     ]
    },
    {
     "name": "stdout",
     "output_type": "stream",
     "text": [
      "53/100\n",
      "54/100\n"
     ]
    },
    {
     "name": "stderr",
     "output_type": "stream",
     "text": [
      "INFO:nnls_fit_with_x_axis_correction:Fit converged: iteration 10, RSS 79.66252197709116\n",
      "INFO:nnls_fit_with_x_axis_correction:Fit converged: iteration 10, RSS 104.55811274326163\n"
     ]
    },
    {
     "name": "stdout",
     "output_type": "stream",
     "text": [
      "55/100\n",
      "56/100\n"
     ]
    },
    {
     "name": "stderr",
     "output_type": "stream",
     "text": [
      "INFO:nnls_fit_with_x_axis_correction:Fit converged: iteration 10, RSS 83.40615589137198\n",
      "INFO:nnls_fit_with_x_axis_correction:Fit converged: iteration 10, RSS 81.14925003215653\n"
     ]
    },
    {
     "name": "stdout",
     "output_type": "stream",
     "text": [
      "57/100\n",
      "58/100\n"
     ]
    },
    {
     "name": "stderr",
     "output_type": "stream",
     "text": [
      "INFO:nnls_fit_with_x_axis_correction:Fit converged: iteration 10, RSS 91.28553403707501\n",
      "INFO:nnls_fit_with_x_axis_correction:Fit converged: iteration 10, RSS 82.64014651416292\n"
     ]
    },
    {
     "name": "stdout",
     "output_type": "stream",
     "text": [
      "59/100\n",
      "60/100\n"
     ]
    },
    {
     "name": "stderr",
     "output_type": "stream",
     "text": [
      "INFO:nnls_fit_with_x_axis_correction:Fit converged: iteration 10, RSS 105.86791049713081\n",
      "INFO:nnls_fit_with_x_axis_correction:Fit converged: iteration 10, RSS 90.1500665433412\n"
     ]
    },
    {
     "name": "stdout",
     "output_type": "stream",
     "text": [
      "61/100\n",
      "62/100\n"
     ]
    },
    {
     "name": "stderr",
     "output_type": "stream",
     "text": [
      "INFO:nnls_fit_with_x_axis_correction:Fit converged: iteration 10, RSS 85.41105992716831\n",
      "INFO:nnls_fit_with_x_axis_correction:Fit converged: iteration 10, RSS 80.72446059130857\n"
     ]
    },
    {
     "name": "stdout",
     "output_type": "stream",
     "text": [
      "63/100\n",
      "64/100\n"
     ]
    },
    {
     "name": "stderr",
     "output_type": "stream",
     "text": [
      "INFO:nnls_fit_with_x_axis_correction:Fit converged: iteration 10, RSS 78.21482798259653\n",
      "INFO:nnls_fit_with_x_axis_correction:Fit converged: iteration 10, RSS 103.30496399104254\n"
     ]
    },
    {
     "name": "stdout",
     "output_type": "stream",
     "text": [
      "65/100\n",
      "66/100\n"
     ]
    },
    {
     "name": "stderr",
     "output_type": "stream",
     "text": [
      "INFO:nnls_fit_with_x_axis_correction:Fit converged: iteration 10, RSS 74.80199774109161\n",
      "INFO:nnls_fit_with_x_axis_correction:Fit converged: iteration 10, RSS 84.96562054560127\n"
     ]
    },
    {
     "name": "stdout",
     "output_type": "stream",
     "text": [
      "67/100\n",
      "68/100\n"
     ]
    },
    {
     "name": "stderr",
     "output_type": "stream",
     "text": [
      "INFO:nnls_fit_with_x_axis_correction:Fit converged: iteration 10, RSS 97.60647782806153\n",
      "INFO:nnls_fit_with_x_axis_correction:Fit converged: iteration 10, RSS 68.14970604803364\n"
     ]
    },
    {
     "name": "stdout",
     "output_type": "stream",
     "text": [
      "69/100\n",
      "70/100\n"
     ]
    },
    {
     "name": "stderr",
     "output_type": "stream",
     "text": [
      "INFO:nnls_fit_with_x_axis_correction:Fit converged: iteration 10, RSS 90.82358810474466\n",
      "INFO:nnls_fit_with_x_axis_correction:Fit converged: iteration 10, RSS 92.48353619818339\n"
     ]
    },
    {
     "name": "stdout",
     "output_type": "stream",
     "text": [
      "71/100\n",
      "72/100\n"
     ]
    },
    {
     "name": "stderr",
     "output_type": "stream",
     "text": [
      "INFO:nnls_fit_with_x_axis_correction:Fit converged: iteration 10, RSS 100.30087517876504\n",
      "INFO:nnls_fit_with_x_axis_correction:Fit converged: iteration 10, RSS 98.89397840327565\n"
     ]
    },
    {
     "name": "stdout",
     "output_type": "stream",
     "text": [
      "73/100\n",
      "74/100\n"
     ]
    },
    {
     "name": "stderr",
     "output_type": "stream",
     "text": [
      "INFO:nnls_fit_with_x_axis_correction:Fit converged: iteration 10, RSS 83.92123588462492\n",
      "INFO:nnls_fit_with_x_axis_correction:Fit converged: iteration 10, RSS 74.23128331364887\n"
     ]
    },
    {
     "name": "stdout",
     "output_type": "stream",
     "text": [
      "75/100\n",
      "76/100\n"
     ]
    },
    {
     "name": "stderr",
     "output_type": "stream",
     "text": [
      "INFO:nnls_fit_with_x_axis_correction:Fit converged: iteration 10, RSS 93.57966871125322\n",
      "INFO:nnls_fit_with_x_axis_correction:Fit converged: iteration 10, RSS 109.80656769626543\n"
     ]
    },
    {
     "name": "stdout",
     "output_type": "stream",
     "text": [
      "77/100\n",
      "78/100\n"
     ]
    },
    {
     "name": "stderr",
     "output_type": "stream",
     "text": [
      "INFO:nnls_fit_with_x_axis_correction:Fit converged: iteration 10, RSS 61.64555960403664\n",
      "INFO:nnls_fit_with_x_axis_correction:Fit converged: iteration 10, RSS 123.8568295616814\n"
     ]
    },
    {
     "name": "stdout",
     "output_type": "stream",
     "text": [
      "79/100\n",
      "80/100\n"
     ]
    },
    {
     "name": "stderr",
     "output_type": "stream",
     "text": [
      "INFO:nnls_fit_with_x_axis_correction:Fit converged: iteration 10, RSS 114.16156893063756\n",
      "INFO:nnls_fit_with_x_axis_correction:Fit converged: iteration 10, RSS 82.53590898874707\n"
     ]
    },
    {
     "name": "stdout",
     "output_type": "stream",
     "text": [
      "81/100\n",
      "82/100\n"
     ]
    },
    {
     "name": "stderr",
     "output_type": "stream",
     "text": [
      "INFO:nnls_fit_with_x_axis_correction:Fit converged: iteration 10, RSS 82.11123451294002\n",
      "INFO:nnls_fit_with_x_axis_correction:Fit converged: iteration 10, RSS 68.10229175607424\n"
     ]
    },
    {
     "name": "stdout",
     "output_type": "stream",
     "text": [
      "83/100\n",
      "84/100\n"
     ]
    },
    {
     "name": "stderr",
     "output_type": "stream",
     "text": [
      "INFO:nnls_fit_with_x_axis_correction:Fit converged: iteration 10, RSS 79.99914785985061\n",
      "INFO:nnls_fit_with_x_axis_correction:Fit converged: iteration 10, RSS 86.1908594730226\n"
     ]
    },
    {
     "name": "stdout",
     "output_type": "stream",
     "text": [
      "85/100\n",
      "86/100\n"
     ]
    },
    {
     "name": "stderr",
     "output_type": "stream",
     "text": [
      "INFO:nnls_fit_with_x_axis_correction:Fit converged: iteration 10, RSS 66.50746408442866\n",
      "INFO:nnls_fit_with_x_axis_correction:Fit converged: iteration 10, RSS 73.25115421928139\n"
     ]
    },
    {
     "name": "stdout",
     "output_type": "stream",
     "text": [
      "87/100\n",
      "88/100\n"
     ]
    },
    {
     "name": "stderr",
     "output_type": "stream",
     "text": [
      "INFO:nnls_fit_with_x_axis_correction:Fit converged: iteration 10, RSS 95.49443587309231\n",
      "INFO:nnls_fit_with_x_axis_correction:Fit converged: iteration 10, RSS 86.91051132896986\n"
     ]
    },
    {
     "name": "stdout",
     "output_type": "stream",
     "text": [
      "89/100\n",
      "90/100\n"
     ]
    },
    {
     "name": "stderr",
     "output_type": "stream",
     "text": [
      "INFO:nnls_fit_with_x_axis_correction:Fit converged: iteration 10, RSS 73.13227606964577\n",
      "INFO:nnls_fit_with_x_axis_correction:Fit converged: iteration 10, RSS 76.65050617526998\n"
     ]
    },
    {
     "name": "stdout",
     "output_type": "stream",
     "text": [
      "91/100\n",
      "92/100\n"
     ]
    },
    {
     "name": "stderr",
     "output_type": "stream",
     "text": [
      "INFO:nnls_fit_with_x_axis_correction:Fit converged: iteration 10, RSS 85.09148740286749\n",
      "INFO:nnls_fit_with_x_axis_correction:Fit converged: iteration 10, RSS 71.28737939581222\n"
     ]
    },
    {
     "name": "stdout",
     "output_type": "stream",
     "text": [
      "93/100\n",
      "94/100\n"
     ]
    },
    {
     "name": "stderr",
     "output_type": "stream",
     "text": [
      "INFO:nnls_fit_with_x_axis_correction:Fit converged: iteration 10, RSS 96.61994151880023\n",
      "INFO:nnls_fit_with_x_axis_correction:Fit converged: iteration 10, RSS 114.3051383129335\n"
     ]
    },
    {
     "name": "stdout",
     "output_type": "stream",
     "text": [
      "95/100\n",
      "96/100\n"
     ]
    },
    {
     "name": "stderr",
     "output_type": "stream",
     "text": [
      "INFO:nnls_fit_with_x_axis_correction:Fit converged: iteration 10, RSS 97.36809341044666\n",
      "INFO:nnls_fit_with_x_axis_correction:Fit converged: iteration 10, RSS 106.93553492023254\n"
     ]
    },
    {
     "name": "stdout",
     "output_type": "stream",
     "text": [
      "97/100\n",
      "98/100\n"
     ]
    },
    {
     "name": "stderr",
     "output_type": "stream",
     "text": [
      "INFO:nnls_fit_with_x_axis_correction:Fit converged: iteration 10, RSS 83.76555168055734\n",
      "INFO:nnls_fit_with_x_axis_correction:Fit converged: iteration 10, RSS 92.37343746038718\n"
     ]
    },
    {
     "name": "stdout",
     "output_type": "stream",
     "text": [
      "99/100\n",
      "100/100\n"
     ]
    },
    {
     "name": "stderr",
     "output_type": "stream",
     "text": [
      "INFO:nnls_fit_with_x_axis_correction:Fit converged: iteration 10, RSS 91.4523282700214\n"
     ]
    }
   ],
   "source": [
    "results = []\n",
    "for i, sample in enumerate(mixtures_data, 1):\n",
    "    print(f'{i}/{len(mixtures_data)}')\n",
    "    true_contributions = sample['contributions']\n",
    "    signal = sample['signal']\n",
    "    result = [true_contributions[-1],\n",
    "              nnls_fit(signal, pure_components)[-1],\n",
    "              analyze(X, signal, pure_components)[0][-1]]\n",
    "    results.append(result)\n",
    "results = np.array(results)"
   ]
  },
  {
   "cell_type": "markdown",
   "metadata": {},
   "source": [
    "## Show results"
   ]
  },
  {
   "cell_type": "code",
   "execution_count": 6,
   "metadata": {
    "ExecuteTime": {
     "end_time": "2019-07-01T06:02:13.928579Z",
     "start_time": "2019-07-01T06:02:13.613424Z"
    }
   },
   "outputs": [
    {
     "data": {
      "image/png": "[encoded data removed]",
      "text/plain": [
       "<Figure size 432x288 with 1 Axes>"
      ]
     },
     "metadata": {},
     "output_type": "display_data"
    },
    {
     "data": {
      "image/png": "[encoded data removed]",
      "text/plain": [
       "<Figure size 432x288 with 1 Axes>"
      ]
     },
     "metadata": {},
     "output_type": "display_data"
    }
   ],
   "source": [
    "_ = plt.figure()\n",
    "_ = plt.plot(results[:, 0], 'b-', results[:, 1], 'r-', results[:, 1] - results[:, 0], 'g-')\n",
    "plt.grid()\n",
    "_ = plt.title('NNLS without correction')\n",
    "_ = plt.legend(['True', 'Predicted', 'Error'])\n",
    "plt.show()\n",
    "\n",
    "_ = plt.figure()\n",
    "_ = plt.plot(results[:, 0], 'b-', results[:, 2], 'r-', results[:, 2] - results[:, 0], 'g-')\n",
    "plt.grid()\n",
    "_ = plt.title('NNLS with correction')\n",
    "_ = plt.legend(['True', 'Predicted', 'Error'])\n",
    "plt.show()"
   ]
  },
  {
   "cell_type": "code",
   "execution_count": 7,
   "metadata": {
    "ExecuteTime": {
     "end_time": "2019-07-01T06:02:14.239748Z",
     "start_time": "2019-07-01T06:02:13.930576Z"
    }
   },
   "outputs": [
    {
     "name": "stderr",
     "output_type": "stream",
     "text": [
      "INFO:nnls_fit_with_x_axis_correction:Fit converged: iteration 10, RSS 81.43125890908553\n"
     ]
    },
    {
     "data": {
      "image/png": "[encoded data removed]",
      "text/plain": [
       "<Figure size 432x288 with 1 Axes>"
      ]
     },
     "metadata": {},
     "output_type": "display_data"
    },
    {
     "name": "stdout",
     "output_type": "stream",
     "text": [
      "Prediction without correction [ 86.46636736 266.382097     0.        ]\n",
      "Prediction with correction [ 86.58499955 264.29999874  30.92947335]\n",
      "True [ 86.65952907 264.33344049  30.82045407]\n"
     ]
    }
   ],
   "source": [
    "index = 1\n",
    "true_concentrations = mixtures_data[index]['contributions']\n",
    "signal = mixtures_data[index]['signal']\n",
    "\n",
    "prediction0 = nnls_fit(signal, pure_components)\n",
    "prediction = analyze(X, signal, pure_components)[0]\n",
    "\n",
    "signal_estimate = calculate_signal(prediction0, pure_components)\n",
    "residual = signal_estimate - signal\n",
    "\n",
    "_ = plt.plot(signal, 'b', linewidth=2, label='True')\n",
    "_ = plt.plot(signal_estimate, 'r', linewidth=2, label='Estimate')\n",
    "_ = plt.plot(residual, 'g', linewidth=2, label='Residual')\n",
    "plt.grid()\n",
    "_ = plt.title('True signal, estimated signal and residual')\n",
    "_ = plt.legend()\n",
    "plt.show()\n",
    "\n",
    "print('Prediction without correction', prediction0)\n",
    "print('Prediction with correction', prediction)\n",
    "print('True', true_concentrations)"
   ]
  },
  {
   "cell_type": "code",
   "execution_count": null,
   "metadata": {},
   "outputs": [],
   "source": []
  }
 ],
 "metadata": {
  "kernelspec": {
   "display_name": "Python 3",
   "language": "python",
   "name": "python3"
  },
  "language_info": {
   "codemirror_mode": {
    "name": "ipython",
    "version": 3
   },
   "file_extension": ".py",
   "mimetype": "text/x-python",
   "name": "python",
   "nbconvert_exporter": "python",
   "pygments_lexer": "ipython3",
   "version": "3.6.5"
  },
  "varInspector": {
   "cols": {
    "lenName": 16,
    "lenType": 16,
    "lenVar": 40
   },
   "kernels_config": {
    "python": {
     "delete_cmd_postfix": "",
     "delete_cmd_prefix": "del ",
     "library": "var_list.py",
     "varRefreshCmd": "print(var_dic_list())"
    },
    "r": {
     "delete_cmd_postfix": ") ",
     "delete_cmd_prefix": "rm(",
     "library": "var_list.r",
     "varRefreshCmd": "cat(var_dic_list()) "
    }
   },
   "types_to_exclude": [
    "module",
    "function",
    "builtin_function_or_method",
    "instance",
    "_Feature"
   ],
   "window_display": false
  }
 },
 "nbformat": 4,
 "nbformat_minor": 2
}

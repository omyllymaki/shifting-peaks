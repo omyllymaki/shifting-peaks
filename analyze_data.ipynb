{
 "cells": [
  {
   "cell_type": "markdown",
   "metadata": {},
   "source": [
    "# Shifting peaks: Data analysis"
   ]
  },
  {
   "cell_type": "code",
   "execution_count": 1,
   "metadata": {
    "ExecuteTime": {
     "end_time": "2019-06-29T15:31:52.685653Z",
     "start_time": "2019-06-29T15:31:52.218567Z"
    }
   },
   "outputs": [],
   "source": [
    "%matplotlib inline\n",
    "%load_ext autoreload\n",
    "%autoreload 2\n",
    "from IPython.core.interactiveshell import InteractiveShell\n",
    "InteractiveShell.ast_node_interactivity = \"all\""
   ]
  },
  {
   "cell_type": "markdown",
   "metadata": {},
   "source": [
    "## Imports"
   ]
  },
  {
   "cell_type": "code",
   "execution_count": 2,
   "metadata": {
    "ExecuteTime": {
     "end_time": "2019-06-29T15:31:52.877395Z",
     "start_time": "2019-06-29T15:31:52.687646Z"
    }
   },
   "outputs": [],
   "source": [
    "import matplotlib.pyplot as plt\n",
    "import numpy as np\n",
    "import logging\n",
    "\n",
    "from constants import PATH_PURE_COMPONENTS, PATH_MIXTURES, X\n",
    "from file_io import load_pickle_file\n",
    "from nnls_fit_with_x_axis_correction import analysis\n",
    "from utils import calculate_signal, nnls_fit"
   ]
  },
  {
   "cell_type": "code",
   "execution_count": 3,
   "metadata": {
    "ExecuteTime": {
     "end_time": "2019-06-29T15:31:52.942228Z",
     "start_time": "2019-06-29T15:31:52.879393Z"
    }
   },
   "outputs": [],
   "source": [
    "logging.basicConfig(level=logging.INFO)"
   ]
  },
  {
   "cell_type": "markdown",
   "metadata": {},
   "source": [
    "## Load data"
   ]
  },
  {
   "cell_type": "code",
   "execution_count": 4,
   "metadata": {
    "ExecuteTime": {
     "end_time": "2019-06-29T15:31:53.020017Z",
     "start_time": "2019-06-29T15:31:52.944220Z"
    }
   },
   "outputs": [],
   "source": [
    "library = load_pickle_file(PATH_PURE_COMPONENTS)\n",
    "mixtures_data = load_pickle_file(PATH_MIXTURES)"
   ]
  },
  {
   "cell_type": "markdown",
   "metadata": {},
   "source": [
    "## Analyze data"
   ]
  },
  {
   "cell_type": "code",
   "execution_count": 5,
   "metadata": {
    "ExecuteTime": {
     "end_time": "2019-06-29T15:32:05.387428Z",
     "start_time": "2019-06-29T15:31:53.023009Z"
    },
    "scrolled": true
   },
   "outputs": [
    {
     "name": "stderr",
     "output_type": "stream",
     "text": [
      "INFO:nnls_fit_with_x_axis_correction:Fit converged: iteration 10, RSS 3.9267678326428928\n"
     ]
    },
    {
     "name": "stdout",
     "output_type": "stream",
     "text": [
      "1/100\n",
      "2/100\n"
     ]
    },
    {
     "name": "stderr",
     "output_type": "stream",
     "text": [
      "INFO:nnls_fit_with_x_axis_correction:Fit converged: iteration 10, RSS 2.774236875460632\n",
      "INFO:nnls_fit_with_x_axis_correction:Fit converged: iteration 10, RSS 3.303528035878295\n"
     ]
    },
    {
     "name": "stdout",
     "output_type": "stream",
     "text": [
      "3/100\n",
      "4/100\n"
     ]
    },
    {
     "name": "stderr",
     "output_type": "stream",
     "text": [
      "INFO:nnls_fit_with_x_axis_correction:Fit converged: iteration 10, RSS 3.472246740754902\n",
      "INFO:nnls_fit_with_x_axis_correction:Fit converged: iteration 10, RSS 3.0530535070602385\n"
     ]
    },
    {
     "name": "stdout",
     "output_type": "stream",
     "text": [
      "5/100\n",
      "6/100\n"
     ]
    },
    {
     "name": "stderr",
     "output_type": "stream",
     "text": [
      "INFO:nnls_fit_with_x_axis_correction:Fit converged: iteration 10, RSS 3.7789944747116557\n",
      "INFO:nnls_fit_with_x_axis_correction:Fit converged: iteration 10, RSS 3.768665743301261\n"
     ]
    },
    {
     "name": "stdout",
     "output_type": "stream",
     "text": [
      "7/100\n",
      "8/100\n"
     ]
    },
    {
     "name": "stderr",
     "output_type": "stream",
     "text": [
      "INFO:nnls_fit_with_x_axis_correction:Fit converged: iteration 10, RSS 3.5871416081315455\n",
      "INFO:nnls_fit_with_x_axis_correction:Fit converged: iteration 10, RSS 3.6694581144715817\n"
     ]
    },
    {
     "name": "stdout",
     "output_type": "stream",
     "text": [
      "9/100\n",
      "10/100\n"
     ]
    },
    {
     "name": "stderr",
     "output_type": "stream",
     "text": [
      "INFO:nnls_fit_with_x_axis_correction:Fit converged: iteration 10, RSS 4.271146950232371\n",
      "INFO:nnls_fit_with_x_axis_correction:Fit converged: iteration 10, RSS 3.2418458515136606\n"
     ]
    },
    {
     "name": "stdout",
     "output_type": "stream",
     "text": [
      "11/100\n",
      "12/100\n"
     ]
    },
    {
     "name": "stderr",
     "output_type": "stream",
     "text": [
      "INFO:nnls_fit_with_x_axis_correction:Fit converged: iteration 10, RSS 2.9329877311654173\n",
      "INFO:nnls_fit_with_x_axis_correction:Fit converged: iteration 10, RSS 3.32889778571708\n"
     ]
    },
    {
     "name": "stdout",
     "output_type": "stream",
     "text": [
      "13/100\n",
      "14/100\n"
     ]
    },
    {
     "name": "stderr",
     "output_type": "stream",
     "text": [
      "INFO:nnls_fit_with_x_axis_correction:Fit converged: iteration 10, RSS 4.3835712509801175\n",
      "INFO:nnls_fit_with_x_axis_correction:Fit converged: iteration 10, RSS 3.5340317380421737\n"
     ]
    },
    {
     "name": "stdout",
     "output_type": "stream",
     "text": [
      "15/100\n",
      "16/100\n"
     ]
    },
    {
     "name": "stderr",
     "output_type": "stream",
     "text": [
      "INFO:nnls_fit_with_x_axis_correction:Fit converged: iteration 10, RSS 4.7592981968085635\n",
      "INFO:nnls_fit_with_x_axis_correction:Fit converged: iteration 10, RSS 3.3530770895767437\n"
     ]
    },
    {
     "name": "stdout",
     "output_type": "stream",
     "text": [
      "17/100\n",
      "18/100\n"
     ]
    },
    {
     "name": "stderr",
     "output_type": "stream",
     "text": [
      "INFO:nnls_fit_with_x_axis_correction:Fit converged: iteration 10, RSS 3.5693890179075414\n",
      "INFO:nnls_fit_with_x_axis_correction:Fit converged: iteration 10, RSS 3.5815416808314198\n"
     ]
    },
    {
     "name": "stdout",
     "output_type": "stream",
     "text": [
      "19/100\n",
      "20/100\n"
     ]
    },
    {
     "name": "stderr",
     "output_type": "stream",
     "text": [
      "INFO:nnls_fit_with_x_axis_correction:Fit converged: iteration 10, RSS 3.242722640142282\n",
      "INFO:nnls_fit_with_x_axis_correction:Fit converged: iteration 10, RSS 3.0100329017469694\n"
     ]
    },
    {
     "name": "stdout",
     "output_type": "stream",
     "text": [
      "21/100\n",
      "22/100\n"
     ]
    },
    {
     "name": "stderr",
     "output_type": "stream",
     "text": [
      "INFO:nnls_fit_with_x_axis_correction:Fit converged: iteration 11, RSS 4.028880387777448\n",
      "INFO:nnls_fit_with_x_axis_correction:Fit converged: iteration 10, RSS 3.300832772820642\n"
     ]
    },
    {
     "name": "stdout",
     "output_type": "stream",
     "text": [
      "23/100\n",
      "24/100\n"
     ]
    },
    {
     "name": "stderr",
     "output_type": "stream",
     "text": [
      "INFO:nnls_fit_with_x_axis_correction:Fit converged: iteration 10, RSS 3.3266516294324995\n",
      "INFO:nnls_fit_with_x_axis_correction:Fit converged: iteration 10, RSS 4.149181754537404\n"
     ]
    },
    {
     "name": "stdout",
     "output_type": "stream",
     "text": [
      "25/100\n",
      "26/100\n"
     ]
    },
    {
     "name": "stderr",
     "output_type": "stream",
     "text": [
      "INFO:nnls_fit_with_x_axis_correction:Fit converged: iteration 10, RSS 3.7461403391250108\n",
      "INFO:nnls_fit_with_x_axis_correction:Fit converged: iteration 10, RSS 4.423637660786734\n"
     ]
    },
    {
     "name": "stdout",
     "output_type": "stream",
     "text": [
      "27/100\n",
      "28/100\n"
     ]
    },
    {
     "name": "stderr",
     "output_type": "stream",
     "text": [
      "INFO:nnls_fit_with_x_axis_correction:Fit converged: iteration 10, RSS 4.052305634798144\n",
      "INFO:nnls_fit_with_x_axis_correction:Fit converged: iteration 10, RSS 4.362811124747109\n"
     ]
    },
    {
     "name": "stdout",
     "output_type": "stream",
     "text": [
      "29/100\n",
      "30/100\n"
     ]
    },
    {
     "name": "stderr",
     "output_type": "stream",
     "text": [
      "INFO:nnls_fit_with_x_axis_correction:Fit converged: iteration 10, RSS 3.828221439583481\n",
      "INFO:nnls_fit_with_x_axis_correction:Fit converged: iteration 10, RSS 3.750810325704752\n"
     ]
    },
    {
     "name": "stdout",
     "output_type": "stream",
     "text": [
      "31/100\n",
      "32/100\n"
     ]
    },
    {
     "name": "stderr",
     "output_type": "stream",
     "text": [
      "INFO:nnls_fit_with_x_axis_correction:Fit converged: iteration 10, RSS 2.83928346672775\n",
      "INFO:nnls_fit_with_x_axis_correction:Fit converged: iteration 10, RSS 3.4262045948142843\n"
     ]
    },
    {
     "name": "stdout",
     "output_type": "stream",
     "text": [
      "33/100\n",
      "34/100\n"
     ]
    },
    {
     "name": "stderr",
     "output_type": "stream",
     "text": [
      "INFO:nnls_fit_with_x_axis_correction:Fit converged: iteration 10, RSS 4.595276038437439\n",
      "INFO:nnls_fit_with_x_axis_correction:Fit converged: iteration 10, RSS 3.571722553295074\n"
     ]
    },
    {
     "name": "stdout",
     "output_type": "stream",
     "text": [
      "35/100\n",
      "36/100\n"
     ]
    },
    {
     "name": "stderr",
     "output_type": "stream",
     "text": [
      "INFO:nnls_fit_with_x_axis_correction:Fit converged: iteration 10, RSS 3.5989557570721624\n",
      "INFO:nnls_fit_with_x_axis_correction:Fit converged: iteration 10, RSS 3.757380645019023\n"
     ]
    },
    {
     "name": "stdout",
     "output_type": "stream",
     "text": [
      "37/100\n",
      "38/100\n"
     ]
    },
    {
     "name": "stderr",
     "output_type": "stream",
     "text": [
      "INFO:nnls_fit_with_x_axis_correction:Fit converged: iteration 10, RSS 4.482429607834298\n",
      "INFO:nnls_fit_with_x_axis_correction:Fit converged: iteration 10, RSS 3.204126764339372\n"
     ]
    },
    {
     "name": "stdout",
     "output_type": "stream",
     "text": [
      "39/100\n",
      "40/100\n"
     ]
    },
    {
     "name": "stderr",
     "output_type": "stream",
     "text": [
      "INFO:nnls_fit_with_x_axis_correction:Fit converged: iteration 11, RSS 3.257643164836032\n",
      "INFO:nnls_fit_with_x_axis_correction:Fit converged: iteration 10, RSS 3.818858026886472\n"
     ]
    },
    {
     "name": "stdout",
     "output_type": "stream",
     "text": [
      "41/100\n",
      "42/100\n"
     ]
    },
    {
     "name": "stderr",
     "output_type": "stream",
     "text": [
      "INFO:nnls_fit_with_x_axis_correction:Fit converged: iteration 10, RSS 3.611456022100615\n",
      "INFO:nnls_fit_with_x_axis_correction:Fit converged: iteration 10, RSS 3.783482154022837\n"
     ]
    },
    {
     "name": "stdout",
     "output_type": "stream",
     "text": [
      "43/100\n",
      "44/100\n"
     ]
    },
    {
     "name": "stderr",
     "output_type": "stream",
     "text": [
      "INFO:nnls_fit_with_x_axis_correction:Fit converged: iteration 10, RSS 3.510931859989915\n",
      "INFO:nnls_fit_with_x_axis_correction:Fit converged: iteration 10, RSS 3.1160029729265517\n"
     ]
    },
    {
     "name": "stdout",
     "output_type": "stream",
     "text": [
      "45/100\n",
      "46/100\n"
     ]
    },
    {
     "name": "stderr",
     "output_type": "stream",
     "text": [
      "INFO:nnls_fit_with_x_axis_correction:Fit converged: iteration 10, RSS 3.019615360901252\n",
      "INFO:nnls_fit_with_x_axis_correction:Fit converged: iteration 10, RSS 3.461744459901606\n"
     ]
    },
    {
     "name": "stdout",
     "output_type": "stream",
     "text": [
      "47/100\n",
      "48/100\n"
     ]
    },
    {
     "name": "stderr",
     "output_type": "stream",
     "text": [
      "INFO:nnls_fit_with_x_axis_correction:Fit converged: iteration 10, RSS 4.127140996768793\n",
      "INFO:nnls_fit_with_x_axis_correction:Fit converged: iteration 10, RSS 3.5230711120087506\n"
     ]
    },
    {
     "name": "stdout",
     "output_type": "stream",
     "text": [
      "49/100\n",
      "50/100\n"
     ]
    },
    {
     "name": "stderr",
     "output_type": "stream",
     "text": [
      "INFO:nnls_fit_with_x_axis_correction:Fit converged: iteration 10, RSS 3.065944440973076\n",
      "INFO:nnls_fit_with_x_axis_correction:Fit converged: iteration 10, RSS 2.9889968216692213\n"
     ]
    },
    {
     "name": "stdout",
     "output_type": "stream",
     "text": [
      "51/100\n",
      "52/100\n"
     ]
    },
    {
     "name": "stderr",
     "output_type": "stream",
     "text": [
      "INFO:nnls_fit_with_x_axis_correction:Fit converged: iteration 10, RSS 3.274062637175867\n",
      "INFO:nnls_fit_with_x_axis_correction:Fit converged: iteration 10, RSS 3.0535062932645336\n"
     ]
    },
    {
     "name": "stdout",
     "output_type": "stream",
     "text": [
      "53/100\n",
      "54/100\n"
     ]
    },
    {
     "name": "stderr",
     "output_type": "stream",
     "text": [
      "INFO:nnls_fit_with_x_axis_correction:Fit converged: iteration 10, RSS 3.9605083216881516\n",
      "INFO:nnls_fit_with_x_axis_correction:Fit converged: iteration 10, RSS 3.8074958507722263\n"
     ]
    },
    {
     "name": "stdout",
     "output_type": "stream",
     "text": [
      "55/100\n",
      "56/100\n"
     ]
    },
    {
     "name": "stderr",
     "output_type": "stream",
     "text": [
      "INFO:nnls_fit_with_x_axis_correction:Fit converged: iteration 10, RSS 4.206577094760408\n",
      "INFO:nnls_fit_with_x_axis_correction:Fit converged: iteration 10, RSS 2.6568048404083013\n"
     ]
    },
    {
     "name": "stdout",
     "output_type": "stream",
     "text": [
      "57/100\n",
      "58/100\n"
     ]
    },
    {
     "name": "stderr",
     "output_type": "stream",
     "text": [
      "INFO:nnls_fit_with_x_axis_correction:Fit converged: iteration 10, RSS 3.814764445237102\n",
      "INFO:nnls_fit_with_x_axis_correction:Fit converged: iteration 10, RSS 2.758580819778162\n"
     ]
    },
    {
     "name": "stdout",
     "output_type": "stream",
     "text": [
      "59/100\n",
      "60/100\n"
     ]
    },
    {
     "name": "stderr",
     "output_type": "stream",
     "text": [
      "INFO:nnls_fit_with_x_axis_correction:Fit converged: iteration 10, RSS 3.599633487121448\n",
      "INFO:nnls_fit_with_x_axis_correction:Fit converged: iteration 10, RSS 4.0258639605897315\n"
     ]
    },
    {
     "name": "stdout",
     "output_type": "stream",
     "text": [
      "61/100\n",
      "62/100\n"
     ]
    },
    {
     "name": "stderr",
     "output_type": "stream",
     "text": [
      "INFO:nnls_fit_with_x_axis_correction:Fit converged: iteration 10, RSS 3.4935997162034043\n",
      "INFO:nnls_fit_with_x_axis_correction:Fit converged: iteration 10, RSS 3.7702785923655515\n"
     ]
    },
    {
     "name": "stdout",
     "output_type": "stream",
     "text": [
      "63/100\n",
      "64/100\n"
     ]
    },
    {
     "name": "stderr",
     "output_type": "stream",
     "text": [
      "INFO:nnls_fit_with_x_axis_correction:Fit converged: iteration 10, RSS 2.469810180692378\n",
      "INFO:nnls_fit_with_x_axis_correction:Fit converged: iteration 10, RSS 2.9457536551366257\n"
     ]
    },
    {
     "name": "stdout",
     "output_type": "stream",
     "text": [
      "65/100\n",
      "66/100\n"
     ]
    },
    {
     "name": "stderr",
     "output_type": "stream",
     "text": [
      "INFO:nnls_fit_with_x_axis_correction:Fit converged: iteration 10, RSS 3.0557053810179617\n",
      "INFO:nnls_fit_with_x_axis_correction:Fit converged: iteration 10, RSS 3.4981995924815674\n"
     ]
    },
    {
     "name": "stdout",
     "output_type": "stream",
     "text": [
      "67/100\n",
      "68/100\n"
     ]
    },
    {
     "name": "stderr",
     "output_type": "stream",
     "text": [
      "INFO:nnls_fit_with_x_axis_correction:Fit converged: iteration 10, RSS 3.516236975078279\n",
      "INFO:nnls_fit_with_x_axis_correction:Fit converged: iteration 10, RSS 4.415087957060562\n"
     ]
    },
    {
     "name": "stdout",
     "output_type": "stream",
     "text": [
      "69/100\n",
      "70/100\n"
     ]
    },
    {
     "name": "stderr",
     "output_type": "stream",
     "text": [
      "INFO:nnls_fit_with_x_axis_correction:Fit converged: iteration 10, RSS 3.6705293012506752\n",
      "INFO:nnls_fit_with_x_axis_correction:Fit converged: iteration 10, RSS 3.543909676203769\n"
     ]
    },
    {
     "name": "stdout",
     "output_type": "stream",
     "text": [
      "71/100\n",
      "72/100\n"
     ]
    },
    {
     "name": "stderr",
     "output_type": "stream",
     "text": [
      "INFO:nnls_fit_with_x_axis_correction:Fit converged: iteration 10, RSS 3.890424154626755\n",
      "INFO:nnls_fit_with_x_axis_correction:Fit converged: iteration 10, RSS 2.8274246130240925\n"
     ]
    },
    {
     "name": "stdout",
     "output_type": "stream",
     "text": [
      "73/100\n",
      "74/100\n"
     ]
    },
    {
     "name": "stderr",
     "output_type": "stream",
     "text": [
      "INFO:nnls_fit_with_x_axis_correction:Fit converged: iteration 10, RSS 4.6424151226355495\n",
      "INFO:nnls_fit_with_x_axis_correction:Fit converged: iteration 10, RSS 3.688676631598968\n"
     ]
    },
    {
     "name": "stdout",
     "output_type": "stream",
     "text": [
      "75/100\n",
      "76/100\n"
     ]
    },
    {
     "name": "stderr",
     "output_type": "stream",
     "text": [
      "INFO:nnls_fit_with_x_axis_correction:Fit converged: iteration 10, RSS 4.766832023202723\n",
      "INFO:nnls_fit_with_x_axis_correction:Fit converged: iteration 10, RSS 4.8416999129192835\n"
     ]
    },
    {
     "name": "stdout",
     "output_type": "stream",
     "text": [
      "77/100\n",
      "78/100\n"
     ]
    },
    {
     "name": "stderr",
     "output_type": "stream",
     "text": [
      "INFO:nnls_fit_with_x_axis_correction:Fit converged: iteration 11, RSS 4.156857270957516\n",
      "INFO:nnls_fit_with_x_axis_correction:Fit converged: iteration 10, RSS 3.421926081176168\n"
     ]
    },
    {
     "name": "stdout",
     "output_type": "stream",
     "text": [
      "79/100\n",
      "80/100\n"
     ]
    },
    {
     "name": "stderr",
     "output_type": "stream",
     "text": [
      "INFO:nnls_fit_with_x_axis_correction:Fit converged: iteration 10, RSS 2.9099496794149937\n",
      "INFO:nnls_fit_with_x_axis_correction:Fit converged: iteration 10, RSS 4.621982006855587\n"
     ]
    },
    {
     "name": "stdout",
     "output_type": "stream",
     "text": [
      "81/100\n",
      "82/100\n"
     ]
    },
    {
     "name": "stderr",
     "output_type": "stream",
     "text": [
      "INFO:nnls_fit_with_x_axis_correction:Fit converged: iteration 10, RSS 3.4642872104758555\n",
      "INFO:nnls_fit_with_x_axis_correction:Fit converged: iteration 10, RSS 2.612250576905111\n"
     ]
    },
    {
     "name": "stdout",
     "output_type": "stream",
     "text": [
      "83/100\n",
      "84/100\n"
     ]
    },
    {
     "name": "stderr",
     "output_type": "stream",
     "text": [
      "INFO:nnls_fit_with_x_axis_correction:Fit converged: iteration 10, RSS 4.384519702320274\n",
      "INFO:nnls_fit_with_x_axis_correction:Fit converged: iteration 10, RSS 3.0049123851509587\n"
     ]
    },
    {
     "name": "stdout",
     "output_type": "stream",
     "text": [
      "85/100\n",
      "86/100\n"
     ]
    },
    {
     "name": "stderr",
     "output_type": "stream",
     "text": [
      "INFO:nnls_fit_with_x_axis_correction:Fit converged: iteration 10, RSS 3.10765225889639\n",
      "INFO:nnls_fit_with_x_axis_correction:Fit converged: iteration 10, RSS 3.8691851820876546\n"
     ]
    },
    {
     "name": "stdout",
     "output_type": "stream",
     "text": [
      "87/100\n",
      "88/100\n"
     ]
    },
    {
     "name": "stderr",
     "output_type": "stream",
     "text": [
      "INFO:nnls_fit_with_x_axis_correction:Fit converged: iteration 10, RSS 2.970398252282151\n",
      "INFO:nnls_fit_with_x_axis_correction:Fit converged: iteration 10, RSS 4.127184980740177\n"
     ]
    },
    {
     "name": "stdout",
     "output_type": "stream",
     "text": [
      "89/100\n",
      "90/100\n"
     ]
    },
    {
     "name": "stderr",
     "output_type": "stream",
     "text": [
      "INFO:nnls_fit_with_x_axis_correction:Fit converged: iteration 10, RSS 3.76494765933539\n",
      "INFO:nnls_fit_with_x_axis_correction:Fit converged: iteration 10, RSS 3.4976594945240116\n"
     ]
    },
    {
     "name": "stdout",
     "output_type": "stream",
     "text": [
      "91/100\n",
      "92/100\n"
     ]
    },
    {
     "name": "stderr",
     "output_type": "stream",
     "text": [
      "INFO:nnls_fit_with_x_axis_correction:Fit converged: iteration 10, RSS 3.5356448644139666\n",
      "INFO:nnls_fit_with_x_axis_correction:Fit converged: iteration 10, RSS 4.0601553504231855\n"
     ]
    },
    {
     "name": "stdout",
     "output_type": "stream",
     "text": [
      "93/100\n",
      "94/100\n"
     ]
    },
    {
     "name": "stderr",
     "output_type": "stream",
     "text": [
      "INFO:nnls_fit_with_x_axis_correction:Fit converged: iteration 10, RSS 3.7836810018806903\n",
      "INFO:nnls_fit_with_x_axis_correction:Fit converged: iteration 10, RSS 3.5979119518014318\n"
     ]
    },
    {
     "name": "stdout",
     "output_type": "stream",
     "text": [
      "95/100\n",
      "96/100\n"
     ]
    },
    {
     "name": "stderr",
     "output_type": "stream",
     "text": [
      "INFO:nnls_fit_with_x_axis_correction:Fit converged: iteration 10, RSS 2.7891870370204463\n",
      "INFO:nnls_fit_with_x_axis_correction:Fit converged: iteration 10, RSS 3.424854657989834\n"
     ]
    },
    {
     "name": "stdout",
     "output_type": "stream",
     "text": [
      "97/100\n",
      "98/100\n"
     ]
    },
    {
     "name": "stderr",
     "output_type": "stream",
     "text": [
      "INFO:nnls_fit_with_x_axis_correction:Fit converged: iteration 10, RSS 3.4146081529324235\n",
      "INFO:nnls_fit_with_x_axis_correction:Fit converged: iteration 10, RSS 3.901883643112314\n"
     ]
    },
    {
     "name": "stdout",
     "output_type": "stream",
     "text": [
      "99/100\n",
      "100/100\n"
     ]
    },
    {
     "name": "stderr",
     "output_type": "stream",
     "text": [
      "INFO:nnls_fit_with_x_axis_correction:Fit converged: iteration 10, RSS 3.7959193499340187\n"
     ]
    }
   ],
   "source": [
    "results = []\n",
    "for i, sample in enumerate(mixtures_data, 1):\n",
    "    print(f'{i}/{len(mixtures_data)}')\n",
    "    true_concentrations = sample['concentrations']\n",
    "    signal = sample['signal']\n",
    "    result = [true_concentrations[-1],\n",
    "              nnls_fit(signal, library)[-1],\n",
    "              analysis(X, signal, library)[0][-1]]\n",
    "    results.append(result)\n",
    "results = np.array(results)"
   ]
  },
  {
   "cell_type": "markdown",
   "metadata": {},
   "source": [
    "## Show results"
   ]
  },
  {
   "cell_type": "code",
   "execution_count": 6,
   "metadata": {
    "ExecuteTime": {
     "end_time": "2019-06-29T15:32:05.710618Z",
     "start_time": "2019-06-29T15:32:05.389419Z"
    }
   },
   "outputs": [
    {
     "data": {
      "image/png": "[encoded data removed]",
      "text/plain": [
       "<Figure size 432x288 with 1 Axes>"
      ]
     },
     "metadata": {},
     "output_type": "display_data"
    },
    {
     "data": {
      "image/png": "[encoded data removed]",
      "text/plain": [
       "<Figure size 432x288 with 1 Axes>"
      ]
     },
     "metadata": {},
     "output_type": "display_data"
    }
   ],
   "source": [
    "_ = plt.figure()\n",
    "_ = plt.plot(results[:, 0], 'b-', results[:, 1], 'r-', results[:, 1] - results[:, 0], 'g-')\n",
    "plt.grid()\n",
    "_ = plt.title('NNLS without correction')\n",
    "_ = plt.legend(['True', 'Predicted', 'Error'])\n",
    "plt.show()\n",
    "\n",
    "_ = plt.figure()\n",
    "_ = plt.plot(results[:, 0], 'b-', results[:, 2], 'r-', results[:, 2] - results[:, 0], 'g-')\n",
    "plt.grid()\n",
    "_ = plt.title('NNLS with correction')\n",
    "_ = plt.legend(['True', 'Predicted', 'Error'])\n",
    "plt.show()"
   ]
  },
  {
   "cell_type": "code",
   "execution_count": 7,
   "metadata": {
    "ExecuteTime": {
     "end_time": "2019-06-29T15:32:06.040679Z",
     "start_time": "2019-06-29T15:32:05.712557Z"
    }
   },
   "outputs": [
    {
     "name": "stderr",
     "output_type": "stream",
     "text": [
      "INFO:nnls_fit_with_x_axis_correction:Fit converged: iteration 10, RSS 2.774236875460632\n"
     ]
    },
    {
     "data": {
      "image/png": "[encoded data removed]",
      "text/plain": [
       "<Figure size 432x288 with 1 Axes>"
      ]
     },
     "metadata": {},
     "output_type": "display_data"
    },
    {
     "name": "stdout",
     "output_type": "stream",
     "text": [
      "Prediction without correction [ 76.20342659 347.5650113    8.41862743]\n",
      "Prediction with correction (array([ 92.80471231, 308.41784082,  31.54840513]), array([-4.19118371e-04,  4.51934144e-03, -2.26647873e+00]))\n",
      "True concentrations [ 92.87183249 308.09764064  31.97847287]\n"
     ]
    }
   ],
   "source": [
    "index = 1\n",
    "true_concentrations = mixtures_data[index]['concentrations']\n",
    "signal = mixtures_data[index]['signal']\n",
    "\n",
    "prediction0 = nnls_fit(signal, library)\n",
    "prediction = analysis(X, signal, library)\n",
    "\n",
    "signal_estimate = calculate_signal(prediction0, library)\n",
    "residual = signal_estimate - signal\n",
    "\n",
    "_ = plt.plot(signal, 'b', linewidth=2, label='True')\n",
    "_ = plt.plot(signal_estimate, 'r', linewidth=2, label='Estimate')\n",
    "_ = plt.plot(residual, 'g', linewidth=2, label='Residual')\n",
    "plt.grid()\n",
    "_ = plt.title('True signal, estimated signal and residual')\n",
    "_ = plt.legend()\n",
    "plt.show()\n",
    "\n",
    "print('Prediction without correction', prediction0)\n",
    "print('Prediction with correction', prediction)\n",
    "print('True concentrations', true_concentrations)"
   ]
  },
  {
   "cell_type": "code",
   "execution_count": null,
   "metadata": {},
   "outputs": [],
   "source": []
  }
 ],
 "metadata": {
  "kernelspec": {
   "display_name": "Python 3",
   "language": "python",
   "name": "python3"
  },
  "language_info": {
   "codemirror_mode": {
    "name": "ipython",
    "version": 3
   },
   "file_extension": ".py",
   "mimetype": "text/x-python",
   "name": "python",
   "nbconvert_exporter": "python",
   "pygments_lexer": "ipython3",
   "version": "3.6.5"
  },
  "varInspector": {
   "cols": {
    "lenName": 16,
    "lenType": 16,
    "lenVar": 40
   },
   "kernels_config": {
    "python": {
     "delete_cmd_postfix": "",
     "delete_cmd_prefix": "del ",
     "library": "var_list.py",
     "varRefreshCmd": "print(var_dic_list())"
    },
    "r": {
     "delete_cmd_postfix": ") ",
     "delete_cmd_prefix": "rm(",
     "library": "var_list.r",
     "varRefreshCmd": "cat(var_dic_list()) "
    }
   },
   "types_to_exclude": [
    "module",
    "function",
    "builtin_function_or_method",
    "instance",
    "_Feature"
   ],
   "window_display": false
  }
 },
 "nbformat": 4,
 "nbformat_minor": 2
}

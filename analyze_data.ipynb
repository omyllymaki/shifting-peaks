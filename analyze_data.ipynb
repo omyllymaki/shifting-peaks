{
 "cells": [
  {
   "cell_type": "markdown",
   "metadata": {},
   "source": [
    "# Shifting peaks: Data analysis"
   ]
  },
  {
   "cell_type": "code",
   "execution_count": 1,
   "metadata": {
    "ExecuteTime": {
     "end_time": "2019-06-30T05:18:10.427418Z",
     "start_time": "2019-06-30T05:18:10.083134Z"
    }
   },
   "outputs": [],
   "source": [
    "%matplotlib inline\n",
    "%load_ext autoreload\n",
    "%autoreload 2\n",
    "from IPython.core.interactiveshell import InteractiveShell\n",
    "InteractiveShell.ast_node_interactivity = \"all\""
   ]
  },
  {
   "cell_type": "markdown",
   "metadata": {},
   "source": [
    "## Imports"
   ]
  },
  {
   "cell_type": "code",
   "execution_count": 2,
   "metadata": {
    "ExecuteTime": {
     "end_time": "2019-06-30T05:18:10.611113Z",
     "start_time": "2019-06-30T05:18:10.427418Z"
    }
   },
   "outputs": [],
   "source": [
    "import matplotlib.pyplot as plt\n",
    "import numpy as np\n",
    "import logging\n",
    "\n",
    "from constants import PATH_PURE_COMPONENTS, PATH_MIXTURES, X\n",
    "from file_io import load_pickle_file\n",
    "from nnls_fit_with_x_axis_correction import analysis\n",
    "from utils import calculate_signal, nnls_fit"
   ]
  },
  {
   "cell_type": "code",
   "execution_count": 3,
   "metadata": {
    "ExecuteTime": {
     "end_time": "2019-06-30T05:18:10.679929Z",
     "start_time": "2019-06-30T05:18:10.612110Z"
    }
   },
   "outputs": [],
   "source": [
    "logging.basicConfig(level=logging.INFO)"
   ]
  },
  {
   "cell_type": "markdown",
   "metadata": {},
   "source": [
    "## Load data"
   ]
  },
  {
   "cell_type": "code",
   "execution_count": 4,
   "metadata": {
    "ExecuteTime": {
     "end_time": "2019-06-30T05:18:10.752733Z",
     "start_time": "2019-06-30T05:18:10.681923Z"
    }
   },
   "outputs": [],
   "source": [
    "library = load_pickle_file(PATH_PURE_COMPONENTS)\n",
    "mixtures_data = load_pickle_file(PATH_MIXTURES)"
   ]
  },
  {
   "cell_type": "markdown",
   "metadata": {},
   "source": [
    "## Analyze data"
   ]
  },
  {
   "cell_type": "code",
   "execution_count": 5,
   "metadata": {
    "ExecuteTime": {
     "end_time": "2019-06-30T05:18:22.013950Z",
     "start_time": "2019-06-30T05:18:10.754734Z"
    },
    "scrolled": true
   },
   "outputs": [
    {
     "name": "stderr",
     "output_type": "stream",
     "text": [
      "INFO:nnls_fit_with_x_axis_correction:Fit converged: iteration 10, RSS 70.16983584010939\n"
     ]
    },
    {
     "name": "stdout",
     "output_type": "stream",
     "text": [
      "1/100\n",
      "2/100\n"
     ]
    },
    {
     "name": "stderr",
     "output_type": "stream",
     "text": [
      "INFO:nnls_fit_with_x_axis_correction:Fit converged: iteration 10, RSS 89.01510110677982\n",
      "INFO:nnls_fit_with_x_axis_correction:Fit converged: iteration 11, RSS 87.95289801498696\n"
     ]
    },
    {
     "name": "stdout",
     "output_type": "stream",
     "text": [
      "3/100\n",
      "4/100\n"
     ]
    },
    {
     "name": "stderr",
     "output_type": "stream",
     "text": [
      "INFO:nnls_fit_with_x_axis_correction:Fit converged: iteration 10, RSS 80.71863673332156\n",
      "INFO:nnls_fit_with_x_axis_correction:Fit converged: iteration 10, RSS 98.55379321236019\n"
     ]
    },
    {
     "name": "stdout",
     "output_type": "stream",
     "text": [
      "5/100\n",
      "6/100\n"
     ]
    },
    {
     "name": "stderr",
     "output_type": "stream",
     "text": [
      "INFO:nnls_fit_with_x_axis_correction:Fit converged: iteration 10, RSS 99.68306002037168\n",
      "INFO:nnls_fit_with_x_axis_correction:Fit converged: iteration 10, RSS 109.65578422564873\n"
     ]
    },
    {
     "name": "stdout",
     "output_type": "stream",
     "text": [
      "7/100\n",
      "8/100\n"
     ]
    },
    {
     "name": "stderr",
     "output_type": "stream",
     "text": [
      "INFO:nnls_fit_with_x_axis_correction:Fit converged: iteration 11, RSS 110.75163513044508\n",
      "INFO:nnls_fit_with_x_axis_correction:Fit converged: iteration 10, RSS 99.28146881626527\n"
     ]
    },
    {
     "name": "stdout",
     "output_type": "stream",
     "text": [
      "9/100\n",
      "10/100\n"
     ]
    },
    {
     "name": "stderr",
     "output_type": "stream",
     "text": [
      "INFO:nnls_fit_with_x_axis_correction:Fit converged: iteration 10, RSS 83.78558999201806\n",
      "INFO:nnls_fit_with_x_axis_correction:Fit converged: iteration 10, RSS 89.4763425129593\n"
     ]
    },
    {
     "name": "stdout",
     "output_type": "stream",
     "text": [
      "11/100\n",
      "12/100\n"
     ]
    },
    {
     "name": "stderr",
     "output_type": "stream",
     "text": [
      "INFO:nnls_fit_with_x_axis_correction:Fit converged: iteration 10, RSS 87.8816037277971\n",
      "INFO:nnls_fit_with_x_axis_correction:Fit converged: iteration 10, RSS 84.08261750698838\n"
     ]
    },
    {
     "name": "stdout",
     "output_type": "stream",
     "text": [
      "13/100\n",
      "14/100\n"
     ]
    },
    {
     "name": "stderr",
     "output_type": "stream",
     "text": [
      "INFO:nnls_fit_with_x_axis_correction:Fit converged: iteration 10, RSS 75.708220299439\n",
      "INFO:nnls_fit_with_x_axis_correction:Fit converged: iteration 10, RSS 78.4052231853078\n"
     ]
    },
    {
     "name": "stdout",
     "output_type": "stream",
     "text": [
      "15/100\n",
      "16/100\n"
     ]
    },
    {
     "name": "stderr",
     "output_type": "stream",
     "text": [
      "INFO:nnls_fit_with_x_axis_correction:Fit converged: iteration 10, RSS 111.78452751666569\n",
      "INFO:nnls_fit_with_x_axis_correction:Fit converged: iteration 10, RSS 97.79958199677509\n"
     ]
    },
    {
     "name": "stdout",
     "output_type": "stream",
     "text": [
      "17/100\n",
      "18/100\n"
     ]
    },
    {
     "name": "stderr",
     "output_type": "stream",
     "text": [
      "INFO:nnls_fit_with_x_axis_correction:Fit converged: iteration 10, RSS 70.46820710858547\n",
      "INFO:nnls_fit_with_x_axis_correction:Fit converged: iteration 10, RSS 78.89797609607962\n"
     ]
    },
    {
     "name": "stdout",
     "output_type": "stream",
     "text": [
      "19/100\n",
      "20/100\n"
     ]
    },
    {
     "name": "stderr",
     "output_type": "stream",
     "text": [
      "INFO:nnls_fit_with_x_axis_correction:Fit converged: iteration 10, RSS 112.37634543622407\n",
      "INFO:nnls_fit_with_x_axis_correction:Fit converged: iteration 10, RSS 108.88734100358984\n"
     ]
    },
    {
     "name": "stdout",
     "output_type": "stream",
     "text": [
      "21/100\n",
      "22/100\n"
     ]
    },
    {
     "name": "stderr",
     "output_type": "stream",
     "text": [
      "INFO:nnls_fit_with_x_axis_correction:Fit converged: iteration 10, RSS 90.08177052327798\n",
      "INFO:nnls_fit_with_x_axis_correction:Fit converged: iteration 10, RSS 76.15376455349305\n"
     ]
    },
    {
     "name": "stdout",
     "output_type": "stream",
     "text": [
      "23/100\n",
      "24/100\n"
     ]
    },
    {
     "name": "stderr",
     "output_type": "stream",
     "text": [
      "INFO:nnls_fit_with_x_axis_correction:Fit converged: iteration 10, RSS 97.99366281231853\n",
      "INFO:nnls_fit_with_x_axis_correction:Fit converged: iteration 10, RSS 84.07406704480115\n"
     ]
    },
    {
     "name": "stdout",
     "output_type": "stream",
     "text": [
      "25/100\n",
      "26/100\n"
     ]
    },
    {
     "name": "stderr",
     "output_type": "stream",
     "text": [
      "INFO:nnls_fit_with_x_axis_correction:Fit converged: iteration 10, RSS 98.64689679336406\n",
      "INFO:nnls_fit_with_x_axis_correction:Fit converged: iteration 10, RSS 81.3007020684119\n",
      "INFO:nnls_fit_with_x_axis_correction:Fit converged: iteration 10, RSS 81.93836257803298\n"
     ]
    },
    {
     "name": "stdout",
     "output_type": "stream",
     "text": [
      "27/100\n",
      "28/100\n"
     ]
    },
    {
     "name": "stderr",
     "output_type": "stream",
     "text": [
      "INFO:nnls_fit_with_x_axis_correction:Fit converged: iteration 10, RSS 103.90598351361191\n",
      "INFO:nnls_fit_with_x_axis_correction:Fit converged: iteration 10, RSS 116.88764621895655\n"
     ]
    },
    {
     "name": "stdout",
     "output_type": "stream",
     "text": [
      "29/100\n",
      "30/100\n",
      "31/100\n"
     ]
    },
    {
     "name": "stderr",
     "output_type": "stream",
     "text": [
      "INFO:nnls_fit_with_x_axis_correction:Fit converged: iteration 10, RSS 77.22972287036517\n",
      "INFO:nnls_fit_with_x_axis_correction:Fit converged: iteration 10, RSS 100.27550123822876\n"
     ]
    },
    {
     "name": "stdout",
     "output_type": "stream",
     "text": [
      "32/100\n",
      "33/100\n"
     ]
    },
    {
     "name": "stderr",
     "output_type": "stream",
     "text": [
      "INFO:nnls_fit_with_x_axis_correction:Fit converged: iteration 10, RSS 87.12552395444521\n",
      "INFO:nnls_fit_with_x_axis_correction:Fit converged: iteration 10, RSS 102.70290569865878\n"
     ]
    },
    {
     "name": "stdout",
     "output_type": "stream",
     "text": [
      "34/100\n",
      "35/100\n"
     ]
    },
    {
     "name": "stderr",
     "output_type": "stream",
     "text": [
      "INFO:nnls_fit_with_x_axis_correction:Fit converged: iteration 10, RSS 64.17452051176738\n",
      "INFO:nnls_fit_with_x_axis_correction:Fit converged: iteration 10, RSS 104.39808218681861\n"
     ]
    },
    {
     "name": "stdout",
     "output_type": "stream",
     "text": [
      "36/100\n",
      "37/100\n"
     ]
    },
    {
     "name": "stderr",
     "output_type": "stream",
     "text": [
      "INFO:nnls_fit_with_x_axis_correction:Fit converged: iteration 10, RSS 110.42027638383065\n",
      "INFO:nnls_fit_with_x_axis_correction:Fit converged: iteration 10, RSS 84.02774657728473\n"
     ]
    },
    {
     "name": "stdout",
     "output_type": "stream",
     "text": [
      "38/100\n",
      "39/100\n"
     ]
    },
    {
     "name": "stderr",
     "output_type": "stream",
     "text": [
      "INFO:nnls_fit_with_x_axis_correction:Fit converged: iteration 10, RSS 101.82694798282058\n",
      "INFO:nnls_fit_with_x_axis_correction:Fit converged: iteration 10, RSS 105.10627442306394\n"
     ]
    },
    {
     "name": "stdout",
     "output_type": "stream",
     "text": [
      "40/100\n",
      "41/100\n"
     ]
    },
    {
     "name": "stderr",
     "output_type": "stream",
     "text": [
      "INFO:nnls_fit_with_x_axis_correction:Fit converged: iteration 10, RSS 79.79144894150373\n",
      "INFO:nnls_fit_with_x_axis_correction:Fit converged: iteration 10, RSS 95.7209975091054\n"
     ]
    },
    {
     "name": "stdout",
     "output_type": "stream",
     "text": [
      "42/100\n",
      "43/100\n"
     ]
    },
    {
     "name": "stderr",
     "output_type": "stream",
     "text": [
      "INFO:nnls_fit_with_x_axis_correction:Fit converged: iteration 10, RSS 67.57886828590063\n",
      "INFO:nnls_fit_with_x_axis_correction:Fit converged: iteration 10, RSS 63.045670723050186\n"
     ]
    },
    {
     "name": "stdout",
     "output_type": "stream",
     "text": [
      "44/100\n",
      "45/100\n"
     ]
    },
    {
     "name": "stderr",
     "output_type": "stream",
     "text": [
      "INFO:nnls_fit_with_x_axis_correction:Fit converged: iteration 10, RSS 107.67031003426385\n",
      "INFO:nnls_fit_with_x_axis_correction:Fit converged: iteration 11, RSS 98.87612316539276\n"
     ]
    },
    {
     "name": "stdout",
     "output_type": "stream",
     "text": [
      "46/100\n",
      "47/100\n"
     ]
    },
    {
     "name": "stderr",
     "output_type": "stream",
     "text": [
      "INFO:nnls_fit_with_x_axis_correction:Fit converged: iteration 10, RSS 71.5459858098911\n",
      "INFO:nnls_fit_with_x_axis_correction:Fit converged: iteration 10, RSS 85.1406234264743\n"
     ]
    },
    {
     "name": "stdout",
     "output_type": "stream",
     "text": [
      "48/100\n",
      "49/100\n"
     ]
    },
    {
     "name": "stderr",
     "output_type": "stream",
     "text": [
      "INFO:nnls_fit_with_x_axis_correction:Fit converged: iteration 10, RSS 101.53874743260472\n",
      "INFO:nnls_fit_with_x_axis_correction:Fit converged: iteration 10, RSS 89.18836781215387\n"
     ]
    },
    {
     "name": "stdout",
     "output_type": "stream",
     "text": [
      "50/100\n",
      "51/100\n"
     ]
    },
    {
     "name": "stderr",
     "output_type": "stream",
     "text": [
      "INFO:nnls_fit_with_x_axis_correction:Fit converged: iteration 10, RSS 75.81233082208952\n",
      "INFO:nnls_fit_with_x_axis_correction:Fit converged: iteration 10, RSS 91.59578177562666\n"
     ]
    },
    {
     "name": "stdout",
     "output_type": "stream",
     "text": [
      "52/100\n",
      "53/100\n"
     ]
    },
    {
     "name": "stderr",
     "output_type": "stream",
     "text": [
      "INFO:nnls_fit_with_x_axis_correction:Fit converged: iteration 10, RSS 68.81296158177976\n",
      "INFO:nnls_fit_with_x_axis_correction:Fit converged: iteration 10, RSS 87.36868886671088\n"
     ]
    },
    {
     "name": "stdout",
     "output_type": "stream",
     "text": [
      "54/100\n",
      "55/100\n"
     ]
    },
    {
     "name": "stderr",
     "output_type": "stream",
     "text": [
      "INFO:nnls_fit_with_x_axis_correction:Fit converged: iteration 10, RSS 91.62441326641344\n",
      "INFO:nnls_fit_with_x_axis_correction:Fit converged: iteration 10, RSS 99.10503752611356\n"
     ]
    },
    {
     "name": "stdout",
     "output_type": "stream",
     "text": [
      "56/100\n",
      "57/100\n"
     ]
    },
    {
     "name": "stderr",
     "output_type": "stream",
     "text": [
      "INFO:nnls_fit_with_x_axis_correction:Fit converged: iteration 10, RSS 91.3927352793457\n",
      "INFO:nnls_fit_with_x_axis_correction:Fit converged: iteration 10, RSS 95.68695038262686\n"
     ]
    },
    {
     "name": "stdout",
     "output_type": "stream",
     "text": [
      "58/100\n",
      "59/100\n"
     ]
    },
    {
     "name": "stderr",
     "output_type": "stream",
     "text": [
      "INFO:nnls_fit_with_x_axis_correction:Fit converged: iteration 10, RSS 79.13082311708511\n",
      "INFO:nnls_fit_with_x_axis_correction:Fit converged: iteration 10, RSS 75.184570146734\n"
     ]
    },
    {
     "name": "stdout",
     "output_type": "stream",
     "text": [
      "60/100\n",
      "61/100\n"
     ]
    },
    {
     "name": "stderr",
     "output_type": "stream",
     "text": [
      "INFO:nnls_fit_with_x_axis_correction:Fit converged: iteration 10, RSS 83.04392336863431\n",
      "INFO:nnls_fit_with_x_axis_correction:Fit converged: iteration 10, RSS 60.413672297138596\n"
     ]
    },
    {
     "name": "stdout",
     "output_type": "stream",
     "text": [
      "62/100\n",
      "63/100\n"
     ]
    },
    {
     "name": "stderr",
     "output_type": "stream",
     "text": [
      "INFO:nnls_fit_with_x_axis_correction:Fit converged: iteration 10, RSS 104.32106345034347\n",
      "INFO:nnls_fit_with_x_axis_correction:Fit converged: iteration 10, RSS 80.98785779239485\n"
     ]
    },
    {
     "name": "stdout",
     "output_type": "stream",
     "text": [
      "64/100\n",
      "65/100\n"
     ]
    },
    {
     "name": "stderr",
     "output_type": "stream",
     "text": [
      "INFO:nnls_fit_with_x_axis_correction:Fit converged: iteration 10, RSS 98.05560767509225\n",
      "INFO:nnls_fit_with_x_axis_correction:Fit converged: iteration 10, RSS 80.32722449563624\n"
     ]
    },
    {
     "name": "stdout",
     "output_type": "stream",
     "text": [
      "66/100\n",
      "67/100\n"
     ]
    },
    {
     "name": "stderr",
     "output_type": "stream",
     "text": [
      "INFO:nnls_fit_with_x_axis_correction:Fit converged: iteration 10, RSS 85.26598621410481\n",
      "INFO:nnls_fit_with_x_axis_correction:Fit converged: iteration 10, RSS 88.98340756925352\n"
     ]
    },
    {
     "name": "stdout",
     "output_type": "stream",
     "text": [
      "68/100\n",
      "69/100\n"
     ]
    },
    {
     "name": "stderr",
     "output_type": "stream",
     "text": [
      "INFO:nnls_fit_with_x_axis_correction:Fit converged: iteration 10, RSS 97.57457939557061\n",
      "INFO:nnls_fit_with_x_axis_correction:Fit converged: iteration 10, RSS 92.2211904021405\n"
     ]
    },
    {
     "name": "stdout",
     "output_type": "stream",
     "text": [
      "70/100\n",
      "71/100\n"
     ]
    },
    {
     "name": "stderr",
     "output_type": "stream",
     "text": [
      "INFO:nnls_fit_with_x_axis_correction:Fit converged: iteration 10, RSS 85.27525771572176\n",
      "INFO:nnls_fit_with_x_axis_correction:Fit converged: iteration 10, RSS 83.54396623177534\n"
     ]
    },
    {
     "name": "stdout",
     "output_type": "stream",
     "text": [
      "72/100\n",
      "73/100\n"
     ]
    },
    {
     "name": "stderr",
     "output_type": "stream",
     "text": [
      "INFO:nnls_fit_with_x_axis_correction:Fit converged: iteration 10, RSS 77.42892808103313\n",
      "INFO:nnls_fit_with_x_axis_correction:Fit converged: iteration 10, RSS 71.56307856756905\n"
     ]
    },
    {
     "name": "stdout",
     "output_type": "stream",
     "text": [
      "74/100\n",
      "75/100\n"
     ]
    },
    {
     "name": "stderr",
     "output_type": "stream",
     "text": [
      "INFO:nnls_fit_with_x_axis_correction:Fit converged: iteration 10, RSS 103.83977951216819\n",
      "INFO:nnls_fit_with_x_axis_correction:Fit converged: iteration 10, RSS 87.35759643207605\n",
      "INFO:nnls_fit_with_x_axis_correction:Fit converged: iteration 10, RSS 87.1505475329409\n"
     ]
    },
    {
     "name": "stdout",
     "output_type": "stream",
     "text": [
      "76/100\n",
      "77/100\n"
     ]
    },
    {
     "name": "stderr",
     "output_type": "stream",
     "text": [
      "INFO:nnls_fit_with_x_axis_correction:Fit converged: iteration 10, RSS 114.11486335538181\n",
      "INFO:nnls_fit_with_x_axis_correction:Fit converged: iteration 10, RSS 87.22707189662675\n"
     ]
    },
    {
     "name": "stdout",
     "output_type": "stream",
     "text": [
      "78/100\n",
      "79/100\n",
      "80/100\n"
     ]
    },
    {
     "name": "stderr",
     "output_type": "stream",
     "text": [
      "INFO:nnls_fit_with_x_axis_correction:Fit converged: iteration 10, RSS 61.22538271384876\n",
      "INFO:nnls_fit_with_x_axis_correction:Fit converged: iteration 10, RSS 93.2919623434377\n"
     ]
    },
    {
     "name": "stdout",
     "output_type": "stream",
     "text": [
      "81/100\n",
      "82/100\n"
     ]
    },
    {
     "name": "stderr",
     "output_type": "stream",
     "text": [
      "INFO:nnls_fit_with_x_axis_correction:Fit converged: iteration 10, RSS 109.77907260064593\n",
      "INFO:nnls_fit_with_x_axis_correction:Fit converged: iteration 10, RSS 83.69037708708527\n"
     ]
    },
    {
     "name": "stdout",
     "output_type": "stream",
     "text": [
      "83/100\n",
      "84/100\n"
     ]
    },
    {
     "name": "stderr",
     "output_type": "stream",
     "text": [
      "INFO:nnls_fit_with_x_axis_correction:Fit converged: iteration 10, RSS 101.56126869605805\n",
      "INFO:nnls_fit_with_x_axis_correction:Fit converged: iteration 10, RSS 79.47973249190227\n"
     ]
    },
    {
     "name": "stdout",
     "output_type": "stream",
     "text": [
      "85/100\n",
      "86/100\n"
     ]
    },
    {
     "name": "stderr",
     "output_type": "stream",
     "text": [
      "INFO:nnls_fit_with_x_axis_correction:Fit converged: iteration 10, RSS 87.5696637995483\n",
      "INFO:nnls_fit_with_x_axis_correction:Fit converged: iteration 10, RSS 68.70333591434273\n"
     ]
    },
    {
     "name": "stdout",
     "output_type": "stream",
     "text": [
      "87/100\n",
      "88/100\n"
     ]
    },
    {
     "name": "stderr",
     "output_type": "stream",
     "text": [
      "INFO:nnls_fit_with_x_axis_correction:Fit converged: iteration 10, RSS 76.51949799948326\n",
      "INFO:nnls_fit_with_x_axis_correction:Fit converged: iteration 10, RSS 65.70195266120461\n"
     ]
    },
    {
     "name": "stdout",
     "output_type": "stream",
     "text": [
      "89/100\n",
      "90/100\n"
     ]
    },
    {
     "name": "stderr",
     "output_type": "stream",
     "text": [
      "INFO:nnls_fit_with_x_axis_correction:Fit converged: iteration 10, RSS 92.10772417191795\n",
      "INFO:nnls_fit_with_x_axis_correction:Fit converged: iteration 10, RSS 94.69934293664325\n"
     ]
    },
    {
     "name": "stdout",
     "output_type": "stream",
     "text": [
      "91/100\n",
      "92/100\n"
     ]
    },
    {
     "name": "stderr",
     "output_type": "stream",
     "text": [
      "INFO:nnls_fit_with_x_axis_correction:Fit converged: iteration 10, RSS 95.98075246398132\n",
      "INFO:nnls_fit_with_x_axis_correction:Fit converged: iteration 11, RSS 94.82256519891499\n"
     ]
    },
    {
     "name": "stdout",
     "output_type": "stream",
     "text": [
      "93/100\n",
      "94/100\n"
     ]
    },
    {
     "name": "stderr",
     "output_type": "stream",
     "text": [
      "INFO:nnls_fit_with_x_axis_correction:Fit converged: iteration 10, RSS 89.03687883901333\n",
      "INFO:nnls_fit_with_x_axis_correction:Fit converged: iteration 11, RSS 88.59585778968939\n"
     ]
    },
    {
     "name": "stdout",
     "output_type": "stream",
     "text": [
      "95/100\n",
      "96/100\n"
     ]
    },
    {
     "name": "stderr",
     "output_type": "stream",
     "text": [
      "INFO:nnls_fit_with_x_axis_correction:Fit converged: iteration 10, RSS 89.91603774713727\n",
      "INFO:nnls_fit_with_x_axis_correction:Fit converged: iteration 10, RSS 119.70770797538405\n",
      "INFO:nnls_fit_with_x_axis_correction:Fit converged: iteration 10, RSS 71.3952145693906\n"
     ]
    },
    {
     "name": "stdout",
     "output_type": "stream",
     "text": [
      "97/100\n",
      "98/100\n"
     ]
    },
    {
     "name": "stderr",
     "output_type": "stream",
     "text": [
      "INFO:nnls_fit_with_x_axis_correction:Fit converged: iteration 10, RSS 105.29137179861955\n",
      "INFO:nnls_fit_with_x_axis_correction:Fit converged: iteration 10, RSS 100.34391434547348\n"
     ]
    },
    {
     "name": "stdout",
     "output_type": "stream",
     "text": [
      "99/100\n",
      "100/100\n"
     ]
    }
   ],
   "source": [
    "results = []\n",
    "for i, sample in enumerate(mixtures_data, 1):\n",
    "    print(f'{i}/{len(mixtures_data)}')\n",
    "    true_concentrations = sample['concentrations']\n",
    "    signal = sample['signal']\n",
    "    result = [true_concentrations[-1],\n",
    "              nnls_fit(signal, library)[-1],\n",
    "              analysis(X, signal, library)[0][-1]]\n",
    "    results.append(result)\n",
    "results = np.array(results)"
   ]
  },
  {
   "cell_type": "markdown",
   "metadata": {},
   "source": [
    "## Show results"
   ]
  },
  {
   "cell_type": "code",
   "execution_count": 6,
   "metadata": {
    "ExecuteTime": {
     "end_time": "2019-06-30T05:18:22.343933Z",
     "start_time": "2019-06-30T05:18:22.016075Z"
    }
   },
   "outputs": [
    {
     "data": {
      "image/png": "[encoded data removed]",
      "text/plain": [
       "<Figure size 432x288 with 1 Axes>"
      ]
     },
     "metadata": {},
     "output_type": "display_data"
    },
    {
     "data": {
      "image/png": "[encoded data removed]",
      "text/plain": [
       "<Figure size 432x288 with 1 Axes>"
      ]
     },
     "metadata": {},
     "output_type": "display_data"
    }
   ],
   "source": [
    "_ = plt.figure()\n",
    "_ = plt.plot(results[:, 0], 'b-', results[:, 1], 'r-', results[:, 1] - results[:, 0], 'g-')\n",
    "plt.grid()\n",
    "_ = plt.title('NNLS without correction')\n",
    "_ = plt.legend(['True', 'Predicted', 'Error'])\n",
    "plt.show()\n",
    "\n",
    "_ = plt.figure()\n",
    "_ = plt.plot(results[:, 0], 'b-', results[:, 2], 'r-', results[:, 2] - results[:, 0], 'g-')\n",
    "plt.grid()\n",
    "_ = plt.title('NNLS with correction')\n",
    "_ = plt.legend(['True', 'Predicted', 'Error'])\n",
    "plt.show()"
   ]
  },
  {
   "cell_type": "code",
   "execution_count": 7,
   "metadata": {
    "ExecuteTime": {
     "end_time": "2019-06-30T05:18:22.648206Z",
     "start_time": "2019-06-30T05:18:22.345928Z"
    }
   },
   "outputs": [
    {
     "name": "stderr",
     "output_type": "stream",
     "text": [
      "INFO:nnls_fit_with_x_axis_correction:Fit converged: iteration 10, RSS 89.01510110677982\n"
     ]
    },
    {
     "data": {
      "image/png": "[encoded data removed]",
      "text/plain": [
       "<Figure size 432x288 with 1 Axes>"
      ]
     },
     "metadata": {},
     "output_type": "display_data"
    },
    {
     "name": "stdout",
     "output_type": "stream",
     "text": [
      "Prediction without correction [89.62380065 89.55572965  9.73096711]\n",
      "Prediction with correction (array([88.24523263, 84.75198416, 19.07432519]), array([-0.00119059,  0.00225143,  0.76938904]))\n",
      "True concentrations [88.31189465 84.70733102 19.12767222]\n"
     ]
    }
   ],
   "source": [
    "index = 1\n",
    "true_concentrations = mixtures_data[index]['concentrations']\n",
    "signal = mixtures_data[index]['signal']\n",
    "\n",
    "prediction0 = nnls_fit(signal, library)\n",
    "prediction = analysis(X, signal, library)\n",
    "\n",
    "signal_estimate = calculate_signal(prediction0, library)\n",
    "residual = signal_estimate - signal\n",
    "\n",
    "_ = plt.plot(signal, 'b', linewidth=2, label='True')\n",
    "_ = plt.plot(signal_estimate, 'r', linewidth=2, label='Estimate')\n",
    "_ = plt.plot(residual, 'g', linewidth=2, label='Residual')\n",
    "plt.grid()\n",
    "_ = plt.title('True signal, estimated signal and residual')\n",
    "_ = plt.legend()\n",
    "plt.show()\n",
    "\n",
    "print('Prediction without correction', prediction0)\n",
    "print('Prediction with correction', prediction)\n",
    "print('True concentrations', true_concentrations)"
   ]
  },
  {
   "cell_type": "code",
   "execution_count": null,
   "metadata": {},
   "outputs": [],
   "source": []
  }
 ],
 "metadata": {
  "kernelspec": {
   "display_name": "Python 3",
   "language": "python",
   "name": "python3"
  },
  "language_info": {
   "codemirror_mode": {
    "name": "ipython",
    "version": 3
   },
   "file_extension": ".py",
   "mimetype": "text/x-python",
   "name": "python",
   "nbconvert_exporter": "python",
   "pygments_lexer": "ipython3",
   "version": "3.6.5"
  },
  "varInspector": {
   "cols": {
    "lenName": 16,
    "lenType": 16,
    "lenVar": 40
   },
   "kernels_config": {
    "python": {
     "delete_cmd_postfix": "",
     "delete_cmd_prefix": "del ",
     "library": "var_list.py",
     "varRefreshCmd": "print(var_dic_list())"
    },
    "r": {
     "delete_cmd_postfix": ") ",
     "delete_cmd_prefix": "rm(",
     "library": "var_list.r",
     "varRefreshCmd": "cat(var_dic_list()) "
    }
   },
   "types_to_exclude": [
    "module",
    "function",
    "builtin_function_or_method",
    "instance",
    "_Feature"
   ],
   "window_display": false
  }
 },
 "nbformat": 4,
 "nbformat_minor": 2
}

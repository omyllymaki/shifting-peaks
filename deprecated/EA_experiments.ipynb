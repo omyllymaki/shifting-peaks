{
 "cells": [
  {
   "cell_type": "markdown",
   "metadata": {},
   "source": [
    "# Evolutionary algorithm experiments"
   ]
  },
  {
   "cell_type": "code",
   "execution_count": 1,
   "metadata": {
    "ExecuteTime": {
     "end_time": "2019-07-20T08:41:45.971512Z",
     "start_time": "2019-07-20T08:41:45.618209Z"
    }
   },
   "outputs": [],
   "source": [
    "%matplotlib inline\n",
    "%load_ext autoreload\n",
    "%autoreload 2\n",
    "from IPython.core.interactiveshell import InteractiveShell\n",
    "InteractiveShell.ast_node_interactivity = \"all\""
   ]
  },
  {
   "cell_type": "markdown",
   "metadata": {},
   "source": [
    "## Imports"
   ]
  },
  {
   "cell_type": "code",
   "execution_count": 2,
   "metadata": {
    "ExecuteTime": {
     "end_time": "2019-07-20T08:41:46.152015Z",
     "start_time": "2019-07-20T08:41:45.973260Z"
    }
   },
   "outputs": [],
   "source": [
    "import matplotlib.pyplot as plt\n",
    "import numpy as np\n",
    "import logging\n",
    "import random\n",
    "\n",
    "from constants import PATH_PURE_COMPONENTS, PATH_MIXTURES, X\n",
    "from file_io import load_pickle_file\n",
    "from fit_with_x_axis_correction.common import *\n",
    "from fit_with_x_axis_correction.correction_models import *\n",
    "\n",
    "from numpy.random import normal\n",
    "\n",
    "logging.basicConfig(level=logging.INFO)"
   ]
  },
  {
   "cell_type": "markdown",
   "metadata": {},
   "source": [
    "## Load data"
   ]
  },
  {
   "cell_type": "code",
   "execution_count": 3,
   "metadata": {
    "ExecuteTime": {
     "end_time": "2019-07-20T08:41:46.218716Z",
     "start_time": "2019-07-20T08:41:46.153777Z"
    }
   },
   "outputs": [],
   "source": [
    "pure_components = load_pickle_file(PATH_PURE_COMPONENTS)\n",
    "mixtures_data = load_pickle_file(PATH_MIXTURES)"
   ]
  },
  {
   "cell_type": "markdown",
   "metadata": {},
   "source": [
    "## Analysis"
   ]
  },
  {
   "cell_type": "markdown",
   "metadata": {},
   "source": [
    "### Constants"
   ]
  },
  {
   "cell_type": "code",
   "execution_count": 4,
   "metadata": {
    "ExecuteTime": {
     "end_time": "2019-07-20T08:41:46.290412Z",
     "start_time": "2019-07-20T08:41:46.221596Z"
    }
   },
   "outputs": [],
   "source": [
    "N_POPULATION = 200\n",
    "N_SURVIVORS = 30\n",
    "N_LINEAR_COMBINATIONS = 30\n",
    "N_MUTATIONS = 100\n",
    "INIT_GUESS = [0, 0, 0]\n",
    "INIT_DEVIATIONS = [0.01, 0.1, 1]\n",
    "N_MAX_GENERATIONS = 300\n",
    "RSME_THRESHOLD = 2\n",
    "N_STEADY_THRESHOLD = 50\n",
    "MAX_X_DEVIATION = 50"
   ]
  },
  {
   "cell_type": "code",
   "execution_count": 5,
   "metadata": {
    "ExecuteTime": {
     "end_time": "2019-07-20T08:41:46.354241Z",
     "start_time": "2019-07-20T08:41:46.292407Z"
    }
   },
   "outputs": [],
   "source": [
    "correction_model = quadratic_correction\n",
    "x_original = X\n",
    "signal = mixtures_data[0]['signal']\n",
    "true = mixtures_data[0]['contributions']"
   ]
  },
  {
   "cell_type": "markdown",
   "metadata": {},
   "source": [
    "### Optimization"
   ]
  },
  {
   "cell_type": "code",
   "execution_count": 6,
   "metadata": {
    "ExecuteTime": {
     "end_time": "2019-07-20T08:41:46.422060Z",
     "start_time": "2019-07-20T08:41:46.356236Z"
    }
   },
   "outputs": [],
   "source": [
    "parameters = []\n",
    "for _ in range(N_POPULATION):\n",
    "    candidate = [normal(loc=mean, scale=stdev) for mean, stdev in zip(INIT_GUESS, INIT_DEVIATIONS)]\n",
    "    parameters.append(candidate)\n",
    "parameters = np.array(parameters) \n",
    "\n",
    "min_rsme = float(np.inf)\n",
    "best_solution = None\n",
    "all_rsme_values = []\n",
    "counter = 0"
   ]
  },
  {
   "cell_type": "code",
   "execution_count": 7,
   "metadata": {
    "ExecuteTime": {
     "end_time": "2019-07-20T08:41:47.425000Z",
     "start_time": "2019-07-20T08:41:46.424055Z"
    }
   },
   "outputs": [
    {
     "name": "stdout",
     "output_type": "stream",
     "text": [
      "1 650.4100253969881 [ 19.71979284 178.52580116   0.        ]\n",
      "1 484.2895778032945 [  9.59482977 327.94386265  98.55373773]\n",
      "1 442.82182163756585 [ 17.48352916 275.37749534   0.        ]\n",
      "1 391.71716387500936 [ 19.64909221 303.92093429   0.        ]\n",
      "1 80.31514978650773 [  8.58141023 336.93863787   3.40411317]\n",
      "1 64.21912828764397 [ 12.34619899 372.06981999   9.17845046]\n",
      "1 48.17242638519559 [ 12.71552292 371.92124862   0.        ]\n",
      "2 43.83274818305772 [  9.05063982 340.80540741  37.22559617]\n",
      "3 41.59608265804161 [ 11.78043859 365.34706503   0.        ]\n",
      "4 13.887583150223394 [ 10.26795156 352.17012909  15.72204709]\n",
      "5 11.550698314910196 [ 11.39702248 353.02384179  18.40199967]\n",
      "9 10.15941042916688 [ 11.69567408 358.71051309   6.44089794]\n",
      "11 7.249420357814412 [ 10.73673157 354.10110116  15.85669137]\n",
      "18 5.137399748710517 [ 11.60689936 357.60467263  10.97959012]\n",
      "34 5.068569513106019 [ 11.09869118 355.93917283  16.27501069]\n",
      "38 4.173207727383622 [ 11.12660146 356.02155533  15.52642401]\n",
      "60 1.814400397673799 [ 10.73767905 356.3530424   12.81851414]\n",
      "Target RSME reached. Iteration terminated at round 60.\n",
      "True contributions:  [ 10.76764148 356.6317926   11.58276386]\n"
     ]
    }
   ],
   "source": [
    "for k in range(1, N_MAX_GENERATIONS):\n",
    "    counter += 1\n",
    "    rsme_values = []\n",
    "    \n",
    "    for candidate in parameters:\n",
    "        x_target = correction_model(x_original, candidate)\n",
    "        \n",
    "        if abs(min(x_target) - min(x_original)) > MAX_X_DEVIATION:\n",
    "            rsme_values.append(float(np.inf))\n",
    "            continue\n",
    "        if abs(max(x_target) - max(x_original)) > MAX_X_DEVIATION:\n",
    "            rsme_values.append(float(np.inf))\n",
    "            continue\n",
    "            \n",
    "        solution, residual = nnls_fit_with_interpolated_library(x_original, x_target, pure_components, signal)\n",
    "        rsme_value = rsme(residual)\n",
    "        rsme_values.append(rsme_value)\n",
    "        if rsme_value < min_rsme:\n",
    "            min_rsme = rsme_value\n",
    "            best_solution = solution\n",
    "            counter = 0\n",
    "            print(k, min_rsme, solution)\n",
    "    \n",
    "    all_rsme_values.append(rsme_values)\n",
    "    \n",
    "    if min_rsme < RSME_THRESHOLD:\n",
    "        print(f'Target RSME reached. Iteration terminated at round {k}.')\n",
    "        break\n",
    "        \n",
    "    if counter > N_STEADY_THRESHOLD:\n",
    "        print(f\"RSME didn't change in last {N_STEADY_THRESHOLD} rounds. Iteration terminated at round {k}.\")\n",
    "        break\n",
    "    \n",
    "    sorted_indices = np.argsort(rsme_values)\n",
    "    survivors = parameters[sorted_indices][:N_SURVIVORS]\n",
    "    best_parameters = survivors[0]\n",
    "\n",
    "    parameters = []\n",
    "    parameters.append(best_parameters)\n",
    "\n",
    "    for _ in range(N_LINEAR_COMBINATIONS):\n",
    "        candidate = [random.choice(column) for column in survivors.T]\n",
    "        parameters.append(candidate)\n",
    "\n",
    "    for _ in range(N_MUTATIONS):\n",
    "        candidate = [normal(loc=mean, scale=stdev) for mean, stdev in zip(best_parameters, INIT_DEVIATIONS)]\n",
    "        parameters.append(candidate)\n",
    "\n",
    "    for _ in range(N_POPULATION - len(parameters)):\n",
    "        candidate = [normal(loc=mean, scale=stdev) for mean, stdev in zip(INIT_GUESS, INIT_DEVIATIONS)]\n",
    "        parameters.append(candidate)\n",
    "    \n",
    "    parameters = np.array(parameters)\n",
    "\n",
    "print('True contributions: ', true)"
   ]
  },
  {
   "cell_type": "markdown",
   "metadata": {},
   "source": [
    "### Results"
   ]
  },
  {
   "cell_type": "code",
   "execution_count": 8,
   "metadata": {
    "ExecuteTime": {
     "end_time": "2019-07-20T08:41:47.674882Z",
     "start_time": "2019-07-20T08:41:47.426995Z"
    }
   },
   "outputs": [
    {
     "name": "stderr",
     "output_type": "stream",
     "text": [
      "C:\\Users\\ossi\\Anaconda3\\lib\\site-packages\\numpy\\core\\_methods.py:112: RuntimeWarning: invalid value encountered in subtract\n",
      "  x = asanyarray(arr - arrmean)\n"
     ]
    },
    {
     "data": {
      "image/png": "[encoded data removed]",
      "text/plain": [
       "<Figure size 432x288 with 1 Axes>"
      ]
     },
     "metadata": {},
     "output_type": "display_data"
    }
   ],
   "source": [
    "for i, row in enumerate(all_rsme_values,1):\n",
    "    rsme_min = min(row)\n",
    "    rsme_stdev = np.std(row)\n",
    "    rsme_mean = np.mean(row)\n",
    "    _ = plt.plot(i, rsme_min, 'bo')"
   ]
  },
  {
   "cell_type": "markdown",
   "metadata": {},
   "source": [
    "## Test refactored version"
   ]
  },
  {
   "cell_type": "code",
   "execution_count": 9,
   "metadata": {
    "ExecuteTime": {
     "end_time": "2019-07-20T08:41:47.746650Z",
     "start_time": "2019-07-20T08:41:47.676837Z"
    }
   },
   "outputs": [],
   "source": [
    "from fit_with_x_axis_correction.EA import solve_with_EA"
   ]
  },
  {
   "cell_type": "code",
   "execution_count": 10,
   "metadata": {
    "ExecuteTime": {
     "end_time": "2019-07-20T08:41:48.119452Z",
     "start_time": "2019-07-20T08:41:47.748644Z"
    }
   },
   "outputs": [
    {
     "name": "stderr",
     "output_type": "stream",
     "text": [
      "INFO:fit_with_x_axis_correction.EA:Solution updated: Round 1, RSME 583.5618322474402\n",
      "INFO:fit_with_x_axis_correction.EA:Solution updated: Round 1, RSME 571.0931032055233\n",
      "INFO:fit_with_x_axis_correction.EA:Solution updated: Round 1, RSME 548.1300153585282\n",
      "INFO:fit_with_x_axis_correction.EA:Solution updated: Round 1, RSME 187.22456005038674\n",
      "INFO:fit_with_x_axis_correction.EA:Solution updated: Round 1, RSME 172.0503899038239\n",
      "INFO:fit_with_x_axis_correction.EA:Solution updated: Round 1, RSME 148.81561081892312\n",
      "INFO:fit_with_x_axis_correction.EA:Solution updated: Round 1, RSME 27.87244631311436\n",
      "INFO:fit_with_x_axis_correction.EA:Solution updated: Round 1, RSME 23.584176271335885\n",
      "INFO:fit_with_x_axis_correction.EA:Solution updated: Round 2, RSME 15.086493606522284\n",
      "INFO:fit_with_x_axis_correction.EA:Solution updated: Round 5, RSME 14.065828625254802\n",
      "INFO:fit_with_x_axis_correction.EA:Solution updated: Round 5, RSME 11.167422937302616\n",
      "INFO:fit_with_x_axis_correction.EA:Solution updated: Round 6, RSME 10.027012859082465\n",
      "INFO:fit_with_x_axis_correction.EA:Solution updated: Round 7, RSME 2.61705836802621\n",
      "INFO:fit_with_x_axis_correction.EA:Solution updated: Round 9, RSME 2.481275242677546\n",
      "INFO:fit_with_x_axis_correction.EA:Solution updated: Round 14, RSME 2.2038348726593218\n",
      "INFO:fit_with_x_axis_correction.EA:Solution updated: Round 14, RSME 1.0285790280547364\n",
      "INFO:fit_with_x_axis_correction.EA:Target RSME reached. Iteration terminated at round 14.\n"
     ]
    }
   ],
   "source": [
    "solution, parameters = solve_with_EA(x_original,signal,pure_components)"
   ]
  },
  {
   "cell_type": "code",
   "execution_count": null,
   "metadata": {},
   "outputs": [],
   "source": []
  }
 ],
 "metadata": {
  "kernelspec": {
   "display_name": "Python 3",
   "language": "python",
   "name": "python3"
  },
  "language_info": {
   "codemirror_mode": {
    "name": "ipython",
    "version": 3
   },
   "file_extension": ".py",
   "mimetype": "text/x-python",
   "name": "python",
   "nbconvert_exporter": "python",
   "pygments_lexer": "ipython3",
   "version": "3.6.5"
  },
  "varInspector": {
   "cols": {
    "lenName": 16,
    "lenType": 16,
    "lenVar": 40
   },
   "kernels_config": {
    "python": {
     "delete_cmd_postfix": "",
     "delete_cmd_prefix": "del ",
     "library": "var_list.py",
     "varRefreshCmd": "print(var_dic_list())"
    },
    "r": {
     "delete_cmd_postfix": ") ",
     "delete_cmd_prefix": "rm(",
     "library": "var_list.r",
     "varRefreshCmd": "cat(var_dic_list()) "
    }
   },
   "types_to_exclude": [
    "module",
    "function",
    "builtin_function_or_method",
    "instance",
    "_Feature"
   ],
   "window_display": false
  }
 },
 "nbformat": 4,
 "nbformat_minor": 2
}

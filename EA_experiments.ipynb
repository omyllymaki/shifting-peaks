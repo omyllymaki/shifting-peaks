{
 "cells": [
  {
   "cell_type": "markdown",
   "metadata": {},
   "source": [
    "# Evolutionary algorithm experiments"
   ]
  },
  {
   "cell_type": "code",
   "execution_count": 1,
   "metadata": {
    "ExecuteTime": {
     "end_time": "2019-07-21T07:00:34.472833Z",
     "start_time": "2019-07-21T07:00:34.019853Z"
    }
   },
   "outputs": [],
   "source": [
    "%matplotlib inline\n",
    "%load_ext autoreload\n",
    "%autoreload 2\n",
    "from IPython.core.interactiveshell import InteractiveShell\n",
    "InteractiveShell.ast_node_interactivity = \"all\""
   ]
  },
  {
   "cell_type": "markdown",
   "metadata": {},
   "source": [
    "## Imports"
   ]
  },
  {
   "cell_type": "code",
   "execution_count": 2,
   "metadata": {
    "ExecuteTime": {
     "end_time": "2019-07-21T07:00:34.648016Z",
     "start_time": "2019-07-21T07:00:34.472833Z"
    }
   },
   "outputs": [],
   "source": [
    "import matplotlib.pyplot as plt\n",
    "import numpy as np\n",
    "import logging\n",
    "import random\n",
    "\n",
    "from constants import PATH_PURE_COMPONENTS, PATH_MIXTURES, X\n",
    "from file_io import load_pickle_file\n",
    "from fit_with_x_axis_correction.common import *\n",
    "from fit_with_x_axis_correction.correction_models import *\n",
    "\n",
    "from numpy.random import normal\n",
    "\n",
    "logging.basicConfig(level=logging.INFO)"
   ]
  },
  {
   "cell_type": "code",
   "execution_count": 3,
   "metadata": {
    "ExecuteTime": {
     "end_time": "2019-07-21T07:00:34.714816Z",
     "start_time": "2019-07-21T07:00:34.649951Z"
    }
   },
   "outputs": [],
   "source": [
    "logger = logging.getLogger(__name__)"
   ]
  },
  {
   "cell_type": "markdown",
   "metadata": {},
   "source": [
    "## Load data"
   ]
  },
  {
   "cell_type": "code",
   "execution_count": 4,
   "metadata": {
    "ExecuteTime": {
     "end_time": "2019-07-21T07:00:34.780602Z",
     "start_time": "2019-07-21T07:00:34.716772Z"
    }
   },
   "outputs": [],
   "source": [
    "pure_components = load_pickle_file(PATH_PURE_COMPONENTS)\n",
    "mixtures_data = load_pickle_file(PATH_MIXTURES)"
   ]
  },
  {
   "cell_type": "markdown",
   "metadata": {},
   "source": [
    "## Analysis"
   ]
  },
  {
   "cell_type": "markdown",
   "metadata": {},
   "source": [
    "### Constants"
   ]
  },
  {
   "cell_type": "code",
   "execution_count": 5,
   "metadata": {
    "ExecuteTime": {
     "end_time": "2019-07-21T07:00:34.844431Z",
     "start_time": "2019-07-21T07:00:34.782596Z"
    }
   },
   "outputs": [],
   "source": [
    "N_POPULATION = 200\n",
    "N_SURVIVORS = 30\n",
    "N_LINEAR_COMBINATIONS = 30\n",
    "N_MUTATIONS = 100\n",
    "INIT_GUESS = [0, 0, 0]\n",
    "INIT_DEVIATIONS = [0.01, 0.1, 1]\n",
    "N_MAX_GENERATIONS = 300\n",
    "RSME_THRESHOLD = 2\n",
    "N_STEADY_THRESHOLD = 50\n",
    "MAX_X_DEVIATION = 50"
   ]
  },
  {
   "cell_type": "code",
   "execution_count": 6,
   "metadata": {
    "ExecuteTime": {
     "end_time": "2019-07-21T07:00:34.906265Z",
     "start_time": "2019-07-21T07:00:34.846426Z"
    }
   },
   "outputs": [],
   "source": [
    "correction_model = quadratic_correction\n",
    "x_original = X\n",
    "signal = mixtures_data[0]['signal']\n",
    "true = mixtures_data[0]['contributions']"
   ]
  },
  {
   "cell_type": "markdown",
   "metadata": {},
   "source": [
    "### Optimization"
   ]
  },
  {
   "cell_type": "code",
   "execution_count": 7,
   "metadata": {
    "ExecuteTime": {
     "end_time": "2019-07-21T07:00:34.970094Z",
     "start_time": "2019-07-21T07:00:34.908260Z"
    }
   },
   "outputs": [],
   "source": [
    "correction_model = quadratic_correction\n",
    "n_population: int = 50\n",
    "n_survivors: int = None\n",
    "n_crossovers: int = None\n",
    "n_mutations: int = None\n",
    "init_guess: Tuple[float] = (0, 0, 0)\n",
    "deviations: Tuple[float] = (0.01, 0.1, 1)\n",
    "deviations_scaling: Tuple[float] = None\n",
    "n_max_generations: int = 500\n",
    "rsme_threshold: float = 1\n",
    "n_no_change_threshold: int = 50\n",
    "max_x_deviation: float = None\n",
    "scaled_proportion = 0.7"
   ]
  },
  {
   "cell_type": "code",
   "execution_count": 8,
   "metadata": {
    "ExecuteTime": {
     "end_time": "2019-07-21T07:00:35.034922Z",
     "start_time": "2019-07-21T07:00:34.972090Z"
    }
   },
   "outputs": [],
   "source": [
    "all_rsme_values = []"
   ]
  },
  {
   "cell_type": "code",
   "execution_count": 9,
   "metadata": {
    "ExecuteTime": {
     "end_time": "2019-07-21T07:00:39.189378Z",
     "start_time": "2019-07-21T07:00:35.035919Z"
    }
   },
   "outputs": [
    {
     "name": "stderr",
     "output_type": "stream",
     "text": [
      "INFO:__main__:Solution updated: Round 0, RSME 447.8079381766642\n",
      "INFO:__main__:Solution updated: Round 0, RSME 132.6442529728223\n",
      "INFO:__main__:Solution updated: Round 0, RSME 92.42121880445649\n",
      "INFO:__main__:Solution updated: Round 2, RSME 90.33152880783412\n",
      "INFO:__main__:Solution updated: Round 2, RSME 34.280856423200724\n",
      "INFO:__main__:Solution updated: Round 3, RSME 30.2013048739256\n",
      "INFO:__main__:Solution updated: Round 3, RSME 21.459620784625226\n",
      "INFO:__main__:Solution updated: Round 4, RSME 18.26904583883674\n",
      "INFO:__main__:Solution updated: Round 4, RSME 13.913399896451915\n",
      "INFO:__main__:Solution updated: Round 6, RSME 7.742262742985859\n",
      "INFO:__main__:Solution updated: Round 9, RSME 7.667426393270237\n",
      "INFO:__main__:Solution updated: Round 12, RSME 7.576326443510769\n",
      "INFO:__main__:Solution updated: Round 14, RSME 7.541099114658807\n",
      "INFO:__main__:Solution updated: Round 16, RSME 7.400770938180927\n",
      "INFO:__main__:Solution updated: Round 23, RSME 7.29228366101328\n",
      "INFO:__main__:Solution updated: Round 25, RSME 7.136503145202603\n",
      "INFO:__main__:Solution updated: Round 46, RSME 7.019548815523645\n",
      "INFO:__main__:Solution updated: Round 48, RSME 7.011514075837402\n",
      "INFO:__main__:Solution updated: Round 52, RSME 6.99313351417853\n",
      "INFO:__main__:Solution updated: Round 55, RSME 6.9187500274347675\n",
      "INFO:__main__:Solution updated: Round 66, RSME 6.867414317240602\n",
      "INFO:__main__:Solution updated: Round 68, RSME 6.826416694616988\n",
      "INFO:__main__:Solution updated: Round 73, RSME 6.793311459045485\n",
      "INFO:__main__:Solution updated: Round 75, RSME 6.791643316746548\n",
      "INFO:__main__:Solution updated: Round 81, RSME 6.791177285158267\n",
      "INFO:__main__:Solution updated: Round 99, RSME 6.748760799457777\n",
      "INFO:__main__:Solution updated: Round 102, RSME 6.72352124617535\n",
      "INFO:__main__:Solution updated: Round 103, RSME 6.6762033476500084\n",
      "INFO:__main__:Solution updated: Round 107, RSME 6.664355480619369\n",
      "INFO:__main__:Solution updated: Round 110, RSME 6.653177738327478\n",
      "INFO:__main__:Solution updated: Round 110, RSME 6.652953138646875\n",
      "INFO:__main__:Solution updated: Round 113, RSME 6.641061675340317\n",
      "INFO:__main__:Solution updated: Round 114, RSME 6.596980370681897\n",
      "INFO:__main__:Solution updated: Round 115, RSME 6.569737812141337\n",
      "INFO:__main__:Solution updated: Round 117, RSME 6.559960511760137\n",
      "INFO:__main__:Solution updated: Round 118, RSME 6.530997532042125\n",
      "INFO:__main__:Solution updated: Round 121, RSME 6.505690710912667\n",
      "INFO:__main__:Solution updated: Round 124, RSME 6.477562217247881\n",
      "INFO:__main__:Solution updated: Round 126, RSME 6.440586985836467\n",
      "INFO:__main__:Solution updated: Round 127, RSME 6.420747251649047\n",
      "INFO:__main__:Solution updated: Round 136, RSME 6.41876077155439\n",
      "INFO:__main__:Solution updated: Round 138, RSME 6.414111890531779\n",
      "INFO:__main__:Solution updated: Round 138, RSME 6.4137163871440315\n",
      "INFO:__main__:Solution updated: Round 138, RSME 6.407021629581302\n",
      "INFO:__main__:Solution updated: Round 144, RSME 6.3944774138292\n",
      "INFO:__main__:Solution updated: Round 145, RSME 6.383868451253861\n",
      "INFO:__main__:Solution updated: Round 153, RSME 6.369909587904914\n",
      "INFO:__main__:Solution updated: Round 154, RSME 6.367894095046437\n",
      "INFO:__main__:Solution updated: Round 160, RSME 6.346501870807392\n",
      "INFO:__main__:Solution updated: Round 162, RSME 6.338821897103753\n",
      "INFO:__main__:Solution updated: Round 162, RSME 6.31472550133407\n",
      "INFO:__main__:Solution updated: Round 167, RSME 6.309759227681619\n",
      "INFO:__main__:Solution updated: Round 168, RSME 6.304692141320883\n",
      "INFO:__main__:Solution updated: Round 169, RSME 6.282728774761743\n",
      "INFO:__main__:Solution updated: Round 170, RSME 6.2766614398208835\n",
      "INFO:__main__:Solution updated: Round 176, RSME 6.257630225702486\n",
      "INFO:__main__:Solution updated: Round 177, RSME 6.2438690869252556\n",
      "INFO:__main__:Solution updated: Round 178, RSME 6.240409963937595\n",
      "INFO:__main__:Solution updated: Round 178, RSME 6.238274783380783\n",
      "INFO:__main__:Solution updated: Round 179, RSME 6.232964847701154\n",
      "INFO:__main__:Solution updated: Round 180, RSME 6.20790199453824\n",
      "INFO:__main__:Solution updated: Round 181, RSME 6.19010681020407\n",
      "INFO:__main__:Solution updated: Round 186, RSME 6.187226419957744\n",
      "INFO:__main__:Solution updated: Round 188, RSME 6.1660551769531216\n",
      "INFO:__main__:Solution updated: Round 189, RSME 6.152311709560861\n",
      "INFO:__main__:Solution updated: Round 190, RSME 6.130727769757091\n",
      "INFO:__main__:Solution updated: Round 192, RSME 6.129738287158869\n",
      "INFO:__main__:Solution updated: Round 196, RSME 6.127811700333137\n",
      "INFO:__main__:Solution updated: Round 197, RSME 6.121192023101015\n",
      "INFO:__main__:Solution updated: Round 197, RSME 6.112908117927319\n",
      "INFO:__main__:Solution updated: Round 198, RSME 6.111911911819553\n",
      "INFO:__main__:Solution updated: Round 198, RSME 6.098656491522903\n",
      "INFO:__main__:Solution updated: Round 199, RSME 6.075309876194152\n",
      "INFO:__main__:Solution updated: Round 201, RSME 6.065282459499827\n",
      "INFO:__main__:Solution updated: Round 202, RSME 6.057438626772797\n",
      "INFO:__main__:Solution updated: Round 203, RSME 6.0538371060886815\n",
      "INFO:__main__:Solution updated: Round 204, RSME 6.038520185407235\n",
      "INFO:__main__:Solution updated: Round 204, RSME 6.036432877747525\n",
      "INFO:__main__:Solution updated: Round 209, RSME 6.034807192359473\n",
      "INFO:__main__:Solution updated: Round 213, RSME 6.031597078100404\n",
      "INFO:__main__:Solution updated: Round 213, RSME 6.026123314648536\n",
      "INFO:__main__:Solution updated: Round 214, RSME 6.0246086532135426\n",
      "INFO:__main__:Solution updated: Round 217, RSME 6.024397428571826\n",
      "INFO:__main__:Solution updated: Round 217, RSME 6.006936276750206\n",
      "INFO:__main__:Solution updated: Round 219, RSME 5.98562115146941\n",
      "INFO:__main__:Solution updated: Round 220, RSME 5.983164701633956\n",
      "INFO:__main__:Solution updated: Round 221, RSME 5.962470881008704\n",
      "INFO:__main__:Solution updated: Round 224, RSME 5.94161945891786\n",
      "INFO:__main__:Solution updated: Round 230, RSME 5.940465011829291\n",
      "INFO:__main__:Solution updated: Round 232, RSME 5.934748750126676\n",
      "INFO:__main__:Solution updated: Round 235, RSME 5.924896259640384\n",
      "INFO:__main__:Solution updated: Round 236, RSME 5.912152116935159\n",
      "INFO:__main__:Solution updated: Round 240, RSME 5.9075658220253064\n",
      "INFO:__main__:Solution updated: Round 244, RSME 5.8854487308098\n",
      "INFO:__main__:Solution updated: Round 245, RSME 5.872058544783679\n",
      "INFO:__main__:Solution updated: Round 247, RSME 5.864709595794985\n",
      "INFO:__main__:Solution updated: Round 247, RSME 5.849001541175169\n",
      "INFO:__main__:Solution updated: Round 248, RSME 5.8474901458186\n",
      "INFO:__main__:Solution updated: Round 251, RSME 5.845199456009584\n",
      "INFO:__main__:Solution updated: Round 252, RSME 5.813770622351343\n",
      "INFO:__main__:Solution updated: Round 253, RSME 5.80463628644336\n",
      "INFO:__main__:Solution updated: Round 255, RSME 5.79148632156263\n",
      "INFO:__main__:Solution updated: Round 256, RSME 5.783741223674142\n",
      "INFO:__main__:Solution updated: Round 258, RSME 5.7753123154958\n",
      "INFO:__main__:Solution updated: Round 259, RSME 5.772661114621362\n",
      "INFO:__main__:Solution updated: Round 259, RSME 5.772563469376248\n",
      "INFO:__main__:Solution updated: Round 259, RSME 5.743615521221777\n",
      "INFO:__main__:Solution updated: Round 260, RSME 5.740911046954221\n",
      "INFO:__main__:Solution updated: Round 265, RSME 5.734425841957413\n",
      "INFO:__main__:Solution updated: Round 266, RSME 5.727329071971863\n",
      "INFO:__main__:Solution updated: Round 270, RSME 5.724290936379422\n",
      "INFO:__main__:Solution updated: Round 273, RSME 5.721621822900986\n",
      "INFO:__main__:Solution updated: Round 274, RSME 5.721613076337222\n",
      "INFO:__main__:Solution updated: Round 275, RSME 5.712503127122083\n",
      "INFO:__main__:Solution updated: Round 281, RSME 5.712127650886318\n",
      "INFO:__main__:Solution updated: Round 282, RSME 5.705088135321035\n",
      "INFO:__main__:Solution updated: Round 283, RSME 5.692299042306721\n",
      "INFO:__main__:Solution updated: Round 284, RSME 5.686977082072661\n",
      "INFO:__main__:Solution updated: Round 284, RSME 5.6845248230521035\n",
      "INFO:__main__:Solution updated: Round 285, RSME 5.67823721213927\n",
      "INFO:__main__:Solution updated: Round 287, RSME 5.663747734548139\n",
      "INFO:__main__:Solution updated: Round 288, RSME 5.662065078812609\n",
      "INFO:__main__:Solution updated: Round 289, RSME 5.652676068904467\n",
      "INFO:__main__:Solution updated: Round 291, RSME 5.645515522527102\n"
     ]
    },
    {
     "name": "stderr",
     "output_type": "stream",
     "text": [
      "INFO:__main__:Solution updated: Round 295, RSME 5.642293988931629\n",
      "INFO:__main__:Solution updated: Round 295, RSME 5.638609847730481\n",
      "INFO:__main__:Solution updated: Round 296, RSME 5.634142117732688\n",
      "INFO:__main__:Solution updated: Round 298, RSME 5.633400964394309\n",
      "INFO:__main__:Solution updated: Round 299, RSME 5.616453985390979\n",
      "INFO:__main__:Solution updated: Round 300, RSME 5.60916289161596\n",
      "INFO:__main__:Solution updated: Round 301, RSME 5.602848538831498\n",
      "INFO:__main__:Solution updated: Round 302, RSME 5.602341405117116\n",
      "INFO:__main__:Solution updated: Round 303, RSME 5.58867378142271\n",
      "INFO:__main__:Solution updated: Round 304, RSME 5.588192349616972\n",
      "INFO:__main__:Solution updated: Round 304, RSME 5.58504774510045\n",
      "INFO:__main__:Solution updated: Round 305, RSME 5.577882215886159\n",
      "INFO:__main__:Solution updated: Round 306, RSME 5.57096287882889\n",
      "INFO:__main__:Solution updated: Round 307, RSME 5.560167241048395\n",
      "INFO:__main__:Solution updated: Round 310, RSME 5.556778714624259\n",
      "INFO:__main__:Solution updated: Round 311, RSME 5.555796191303021\n",
      "INFO:__main__:Solution updated: Round 311, RSME 5.554217336932183\n",
      "INFO:__main__:Solution updated: Round 315, RSME 5.550542554404538\n",
      "INFO:__main__:Solution updated: Round 320, RSME 5.543100220470746\n",
      "INFO:__main__:Solution updated: Round 321, RSME 5.533149983084913\n",
      "INFO:__main__:Solution updated: Round 322, RSME 5.531559733482059\n",
      "INFO:__main__:Solution updated: Round 324, RSME 5.523871632629598\n",
      "INFO:__main__:Solution updated: Round 324, RSME 5.523415129331587\n",
      "INFO:__main__:Solution updated: Round 324, RSME 5.520254528488281\n",
      "INFO:__main__:Solution updated: Round 325, RSME 5.515046716204496\n",
      "INFO:__main__:Solution updated: Round 326, RSME 5.5020952802766105\n",
      "INFO:__main__:Solution updated: Round 327, RSME 5.497873426401495\n",
      "INFO:__main__:Solution updated: Round 334, RSME 5.49233891852392\n",
      "INFO:__main__:Solution updated: Round 334, RSME 5.489070271689051\n",
      "INFO:__main__:Solution updated: Round 337, RSME 5.483641364528194\n",
      "INFO:__main__:Solution updated: Round 343, RSME 5.479956965283053\n",
      "INFO:__main__:Solution updated: Round 349, RSME 5.47156171194141\n",
      "INFO:__main__:Solution updated: Round 350, RSME 5.465732707719019\n",
      "INFO:__main__:Solution updated: Round 351, RSME 5.464377992778406\n",
      "INFO:__main__:Solution updated: Round 352, RSME 5.462779166309066\n",
      "INFO:__main__:Solution updated: Round 354, RSME 5.461234928539131\n",
      "INFO:__main__:Solution updated: Round 355, RSME 5.459169218022009\n",
      "INFO:__main__:Solution updated: Round 356, RSME 5.457726069798011\n",
      "INFO:__main__:Solution updated: Round 357, RSME 5.450297009483261\n",
      "INFO:__main__:Solution updated: Round 357, RSME 5.44789186444576\n",
      "INFO:__main__:Solution updated: Round 358, RSME 5.446020512286634\n",
      "INFO:__main__:Solution updated: Round 361, RSME 5.437828551044898\n",
      "INFO:__main__:Solution updated: Round 363, RSME 5.43272424852512\n",
      "INFO:__main__:Solution updated: Round 364, RSME 5.43122658368296\n",
      "INFO:__main__:Solution updated: Round 365, RSME 5.420878060995969\n",
      "INFO:__main__:Solution updated: Round 365, RSME 5.419862769585354\n",
      "INFO:__main__:Solution updated: Round 368, RSME 5.409148368302515\n",
      "INFO:__main__:Solution updated: Round 370, RSME 5.405456771909925\n",
      "INFO:__main__:Solution updated: Round 371, RSME 5.386246668165814\n",
      "INFO:__main__:Solution updated: Round 372, RSME 5.3823573773180975\n",
      "INFO:__main__:Solution updated: Round 373, RSME 5.380707247768618\n",
      "INFO:__main__:Solution updated: Round 375, RSME 5.368107476416209\n",
      "INFO:__main__:Solution updated: Round 376, RSME 5.363624599469163\n",
      "INFO:__main__:Solution updated: Round 377, RSME 5.362658532720547\n",
      "INFO:__main__:Solution updated: Round 377, RSME 5.356186274392911\n",
      "INFO:__main__:Solution updated: Round 378, RSME 5.3478874618860495\n",
      "INFO:__main__:Solution updated: Round 379, RSME 5.333669727958334\n",
      "INFO:__main__:Solution updated: Round 380, RSME 5.329117568813948\n",
      "INFO:__main__:Solution updated: Round 381, RSME 5.326055258027811\n",
      "INFO:__main__:Solution updated: Round 381, RSME 5.324464139915167\n",
      "INFO:__main__:Solution updated: Round 383, RSME 5.322394678570504\n",
      "INFO:__main__:Solution updated: Round 385, RSME 5.320738242164123\n",
      "INFO:__main__:Solution updated: Round 386, RSME 5.317673206651715\n",
      "INFO:__main__:Solution updated: Round 388, RSME 5.309910612685257\n",
      "INFO:__main__:Solution updated: Round 392, RSME 5.294402552879961\n",
      "INFO:__main__:Solution updated: Round 393, RSME 5.292444354357106\n",
      "INFO:__main__:Solution updated: Round 393, RSME 5.287717329534756\n",
      "INFO:__main__:Solution updated: Round 394, RSME 5.284711026290027\n",
      "INFO:__main__:Solution updated: Round 395, RSME 5.284674413447041\n",
      "INFO:__main__:Solution updated: Round 397, RSME 5.282817872822066\n",
      "INFO:__main__:Solution updated: Round 399, RSME 5.28129158856861\n",
      "INFO:__main__:Solution updated: Round 399, RSME 5.280875085356758\n",
      "INFO:__main__:Solution updated: Round 400, RSME 5.274216563135363\n",
      "INFO:__main__:Solution updated: Round 401, RSME 5.267850349102041\n",
      "INFO:__main__:Solution updated: Round 401, RSME 5.262483773933437\n",
      "INFO:__main__:Solution updated: Round 403, RSME 5.252873336904624\n",
      "INFO:__main__:Solution updated: Round 404, RSME 5.252296924234705\n",
      "INFO:__main__:Solution updated: Round 405, RSME 5.2521963965456875\n",
      "INFO:__main__:Solution updated: Round 405, RSME 5.248339969287242\n",
      "INFO:__main__:Solution updated: Round 408, RSME 5.245080325267615\n",
      "INFO:__main__:Solution updated: Round 408, RSME 5.242442084597617\n",
      "INFO:__main__:Solution updated: Round 409, RSME 5.235665339719365\n",
      "INFO:__main__:Solution updated: Round 417, RSME 5.233572552043439\n",
      "INFO:__main__:Solution updated: Round 418, RSME 5.232213679124454\n",
      "INFO:__main__:Solution updated: Round 419, RSME 5.22810384502816\n",
      "INFO:__main__:Solution updated: Round 420, RSME 5.222579902396687\n",
      "INFO:__main__:Solution updated: Round 421, RSME 5.216734602610391\n",
      "INFO:__main__:Solution updated: Round 421, RSME 5.2145638756841866\n",
      "INFO:__main__:Solution updated: Round 423, RSME 5.2129938983248145\n",
      "INFO:__main__:Solution updated: Round 424, RSME 5.209277366469811\n",
      "INFO:__main__:Solution updated: Round 427, RSME 5.204521160028684\n",
      "INFO:__main__:Solution updated: Round 428, RSME 5.203166402078462\n",
      "INFO:__main__:Solution updated: Round 431, RSME 5.197055759396899\n",
      "INFO:__main__:Solution updated: Round 432, RSME 5.186441178324937\n",
      "INFO:__main__:Solution updated: Round 437, RSME 5.185216731926061\n",
      "INFO:__main__:Solution updated: Round 439, RSME 5.183857361287282\n",
      "INFO:__main__:Solution updated: Round 440, RSME 5.175349399227421\n",
      "INFO:__main__:Solution updated: Round 440, RSME 5.174092138468089\n",
      "INFO:__main__:Solution updated: Round 441, RSME 5.159533975993059\n",
      "INFO:__main__:Solution updated: Round 443, RSME 5.156456999120035\n",
      "INFO:__main__:Solution updated: Round 444, RSME 5.1507463308014465\n",
      "INFO:__main__:Solution updated: Round 444, RSME 5.144396148995078\n",
      "INFO:__main__:Solution updated: Round 444, RSME 5.1440610009350145\n",
      "INFO:__main__:Solution updated: Round 446, RSME 5.140420320224833\n",
      "INFO:__main__:Solution updated: Round 446, RSME 5.140143301696661\n",
      "INFO:__main__:Solution updated: Round 448, RSME 5.13458272718316\n",
      "INFO:__main__:Solution updated: Round 448, RSME 5.132597726537598\n",
      "INFO:__main__:Solution updated: Round 449, RSME 5.130631063576957\n",
      "INFO:__main__:Solution updated: Round 450, RSME 5.129114452069657\n",
      "INFO:__main__:Solution updated: Round 451, RSME 5.109005395720609\n",
      "INFO:__main__:Solution updated: Round 453, RSME 5.107847436314658\n",
      "INFO:__main__:Solution updated: Round 455, RSME 5.099339555356094\n",
      "INFO:__main__:Solution updated: Round 455, RSME 5.089427957634076\n",
      "INFO:__main__:Solution updated: Round 460, RSME 5.082253378590674\n",
      "INFO:__main__:Solution updated: Round 461, RSME 5.076735406445202\n",
      "INFO:__main__:Solution updated: Round 462, RSME 5.0767323061316\n",
      "INFO:__main__:Solution updated: Round 464, RSME 5.073734994112004\n",
      "INFO:__main__:Solution updated: Round 465, RSME 5.07356785800437\n",
      "INFO:__main__:Solution updated: Round 468, RSME 5.068210109223093\n",
      "INFO:__main__:Solution updated: Round 468, RSME 5.065966664231062\n",
      "INFO:__main__:Solution updated: Round 469, RSME 5.0623460375851135\n",
      "INFO:__main__:Solution updated: Round 472, RSME 5.059478957454387\n",
      "INFO:__main__:Solution updated: Round 474, RSME 5.056421595988514\n",
      "INFO:__main__:Solution updated: Round 475, RSME 5.052892535411844\n",
      "INFO:__main__:Solution updated: Round 478, RSME 5.052444176159911\n"
     ]
    },
    {
     "name": "stderr",
     "output_type": "stream",
     "text": [
      "INFO:__main__:Solution updated: Round 481, RSME 5.048004526277487\n",
      "INFO:__main__:Solution updated: Round 485, RSME 5.041072562073428\n",
      "INFO:__main__:Solution updated: Round 486, RSME 5.038748435437896\n",
      "INFO:__main__:Solution updated: Round 487, RSME 5.03785104399265\n",
      "INFO:__main__:Solution updated: Round 488, RSME 5.036066607445201\n",
      "INFO:__main__:Solution updated: Round 489, RSME 5.028487125830527\n",
      "INFO:__main__:Solution updated: Round 489, RSME 5.027590718596945\n",
      "INFO:__main__:Solution updated: Round 489, RSME 5.026662484571523\n",
      "INFO:__main__:Solution updated: Round 491, RSME 5.022351166333634\n",
      "INFO:__main__:Solution updated: Round 492, RSME 5.02036457153743\n",
      "INFO:__main__:Solution updated: Round 492, RSME 5.019860688387911\n",
      "INFO:__main__:Solution updated: Round 492, RSME 5.018464920054049\n",
      "INFO:__main__:Solution updated: Round 495, RSME 5.017000287454951\n",
      "INFO:__main__:Solution updated: Round 499, RSME 5.012637183890778\n",
      "WARNING:__main__:Maximum number of generations reached. Iteration terminated at round 499.\n"
     ]
    }
   ],
   "source": [
    "# Initialize optional arguments if not given\n",
    "if not max_x_deviation:\n",
    "    max_x_deviation = (max(x_original) - min(x_original)) // 2\n",
    "if not deviations_scaling:\n",
    "    deviations_scaling = np.array([1 / k for k in range(1, n_max_generations + 1)])\n",
    "\n",
    "# Initialize parameter candidates\n",
    "parameters = []\n",
    "for _ in range(n_population):\n",
    "    candidate = [normal(loc=mean, scale=stdev) for mean, stdev in zip(init_guess, deviations)]\n",
    "    parameters.append(candidate)\n",
    "parameters = np.array(parameters)\n",
    "\n",
    "# Initialize optimization\n",
    "min_rsme = float(np.inf)\n",
    "return_solution, return_parameters = None, None\n",
    "counter = 0\n",
    "\n",
    "# Search for best parameter combination\n",
    "for round in range(n_max_generations):\n",
    "    counter += 1\n",
    "    rsme_values = []\n",
    "\n",
    "    for candidate in parameters:\n",
    "        x_target = correction_model(x_original, candidate)\n",
    "\n",
    "        # Check that interpolated x axis is within accepted range\n",
    "        if abs(min(x_target) - min(x_original)) > max_x_deviation:\n",
    "            rsme_values.append(float(np.inf))\n",
    "            continue\n",
    "        if abs(max(x_target) - max(x_original)) > max_x_deviation:\n",
    "            rsme_values.append(float(np.inf))\n",
    "            continue\n",
    "\n",
    "        solution, residual = nnls_fit_with_interpolated_library(x_original, x_target, pure_components, signal)\n",
    "        rsme_value = rsme(residual)\n",
    "        rsme_values.append(rsme_value)\n",
    "\n",
    "        # Update solution if RSME is smaller than current minimum\n",
    "        if rsme_value < min_rsme:\n",
    "            min_rsme = rsme_value\n",
    "            return_solution = solution\n",
    "            return_parameters = candidate\n",
    "            counter = 0\n",
    "            logger.info(f'Solution updated: Round {round}, RSME {min_rsme}')\n",
    "    \n",
    "    all_rsme_values.append(rsme_values)\n",
    "    \n",
    "    # Check termination conditions\n",
    "    if min_rsme < rsme_threshold:\n",
    "        logger.info(f'Target RSME reached. Iteration terminated at round {round}.')\n",
    "        break\n",
    "    if counter > n_no_change_threshold:\n",
    "        logger.info(\n",
    "            f\"RSME didn't change in last {n_no_change_threshold} rounds. Iteration terminated at round {round}.\")\n",
    "        break\n",
    "    if round == n_max_generations - 1:\n",
    "        logger.warning(f\"Maximum number of generations reached. Iteration terminated at round {round}.\")\n",
    "        break\n",
    "\n",
    "    # Find best parameter combination\n",
    "    index_lowest_rsme = np.argmin(rsme_values)\n",
    "    best_parameters = parameters[index_lowest_rsme]\n",
    "\n",
    "    # Generate new parameter combinations\n",
    "    parameters = []\n",
    "    parameters.append(best_parameters)\n",
    "    scale = deviations_scaling[round]\n",
    "    n_scaled = int(scaled_proportion * n_population)\n",
    "    for _ in range(n_scaled):\n",
    "        candidate = [normal(loc=mean, scale=scale * stdev) for mean, stdev in zip(best_parameters, deviations)]\n",
    "        parameters.append(candidate)\n",
    "    for _ in range(n_population - len(parameters)):\n",
    "        candidate = [normal(loc=mean, scale=stdev) for mean, stdev in zip(best_parameters, deviations)]\n",
    "        parameters.append(candidate)\n",
    "    parameters = np.array(parameters)"
   ]
  },
  {
   "cell_type": "markdown",
   "metadata": {},
   "source": [
    "### Results"
   ]
  },
  {
   "cell_type": "code",
   "execution_count": 10,
   "metadata": {
    "ExecuteTime": {
     "end_time": "2019-07-21T07:00:40.174999Z",
     "start_time": "2019-07-21T07:00:39.192360Z"
    }
   },
   "outputs": [
    {
     "name": "stderr",
     "output_type": "stream",
     "text": [
      "C:\\Users\\ossi\\Anaconda3\\lib\\site-packages\\numpy\\core\\_methods.py:112: RuntimeWarning: invalid value encountered in subtract\n",
      "  x = asanyarray(arr - arrmean)\n"
     ]
    },
    {
     "data": {
      "image/png": "[encoded data removed]",
      "text/plain": [
       "<Figure size 432x288 with 1 Axes>"
      ]
     },
     "metadata": {},
     "output_type": "display_data"
    }
   ],
   "source": [
    "for i, row in enumerate(all_rsme_values,1):\n",
    "    rsme_min = min(row)\n",
    "    rsme_stdev = np.std(row)\n",
    "    rsme_mean = np.mean(row)\n",
    "    _ = plt.plot(i, rsme_min, 'bo')"
   ]
  },
  {
   "cell_type": "markdown",
   "metadata": {},
   "source": [
    "## Test refactored version"
   ]
  },
  {
   "cell_type": "code",
   "execution_count": 11,
   "metadata": {
    "ExecuteTime": {
     "end_time": "2019-07-21T07:00:40.240872Z",
     "start_time": "2019-07-21T07:00:40.176993Z"
    }
   },
   "outputs": [],
   "source": [
    "from fit_with_x_axis_correction.EA import solve_with_EA"
   ]
  },
  {
   "cell_type": "code",
   "execution_count": 12,
   "metadata": {
    "ExecuteTime": {
     "end_time": "2019-07-21T07:00:50.286286Z",
     "start_time": "2019-07-21T07:00:40.242816Z"
    }
   },
   "outputs": [
    {
     "name": "stderr",
     "output_type": "stream",
     "text": [
      "INFO:fit_with_x_axis_correction.EA:Solution updated: Round 0, RSME 313.5211440820412\n",
      "INFO:fit_with_x_axis_correction.EA:Solution updated: Round 0, RSME 206.55722796317306\n",
      "INFO:fit_with_x_axis_correction.EA:Solution updated: Round 0, RSME 156.37924905223537\n",
      "INFO:fit_with_x_axis_correction.EA:Solution updated: Round 0, RSME 6.841643331297963\n",
      "INFO:fit_with_x_axis_correction.EA:Solution updated: Round 5, RSME 4.496572919412696\n",
      "INFO:fit_with_x_axis_correction.EA:Solution updated: Round 10, RSME 4.301709692802334\n",
      "INFO:fit_with_x_axis_correction.EA:Solution updated: Round 11, RSME 2.658434655741153\n",
      "INFO:fit_with_x_axis_correction.EA:Solution updated: Round 16, RSME 2.486431043638357\n",
      "INFO:fit_with_x_axis_correction.EA:Solution updated: Round 23, RSME 2.2914341166170007\n",
      "INFO:fit_with_x_axis_correction.EA:Solution updated: Round 35, RSME 2.170314674507366\n",
      "INFO:fit_with_x_axis_correction.EA:Solution updated: Round 41, RSME 2.110381152506278\n",
      "INFO:fit_with_x_axis_correction.EA:Solution updated: Round 47, RSME 2.025924578781304\n",
      "INFO:fit_with_x_axis_correction.EA:Solution updated: Round 49, RSME 2.0149174283960756\n",
      "INFO:fit_with_x_axis_correction.EA:Solution updated: Round 51, RSME 2.0010078980044814\n",
      "INFO:fit_with_x_axis_correction.EA:Solution updated: Round 60, RSME 1.99208046504489\n",
      "INFO:fit_with_x_axis_correction.EA:Solution updated: Round 70, RSME 1.9835629604580909\n",
      "INFO:fit_with_x_axis_correction.EA:Solution updated: Round 70, RSME 1.9797549976511248\n",
      "INFO:fit_with_x_axis_correction.EA:Solution updated: Round 77, RSME 1.9681907986607488\n",
      "INFO:fit_with_x_axis_correction.EA:Solution updated: Round 79, RSME 1.9197698981321933\n",
      "INFO:fit_with_x_axis_correction.EA:Solution updated: Round 80, RSME 1.9166391566099108\n",
      "INFO:fit_with_x_axis_correction.EA:Solution updated: Round 82, RSME 1.8767301830293244\n",
      "INFO:fit_with_x_axis_correction.EA:Solution updated: Round 85, RSME 1.8579967082018112\n",
      "INFO:fit_with_x_axis_correction.EA:Solution updated: Round 88, RSME 1.840730862665481\n",
      "INFO:fit_with_x_axis_correction.EA:Solution updated: Round 88, RSME 1.829915902632796\n",
      "INFO:fit_with_x_axis_correction.EA:Solution updated: Round 91, RSME 1.8273512033933503\n",
      "INFO:fit_with_x_axis_correction.EA:Solution updated: Round 95, RSME 1.818332233084988\n",
      "INFO:fit_with_x_axis_correction.EA:Solution updated: Round 97, RSME 1.813684818987472\n",
      "INFO:fit_with_x_axis_correction.EA:Solution updated: Round 102, RSME 1.7981431483748662\n",
      "INFO:fit_with_x_axis_correction.EA:Solution updated: Round 105, RSME 1.7943709013037357\n",
      "INFO:fit_with_x_axis_correction.EA:Solution updated: Round 106, RSME 1.7855449830596832\n",
      "INFO:fit_with_x_axis_correction.EA:Solution updated: Round 107, RSME 1.7811025367987405\n",
      "INFO:fit_with_x_axis_correction.EA:Solution updated: Round 108, RSME 1.7472161241672641\n",
      "INFO:fit_with_x_axis_correction.EA:Solution updated: Round 115, RSME 1.729470993924787\n",
      "INFO:fit_with_x_axis_correction.EA:Solution updated: Round 118, RSME 1.721425071061265\n",
      "INFO:fit_with_x_axis_correction.EA:Solution updated: Round 119, RSME 1.7165118839798121\n",
      "INFO:fit_with_x_axis_correction.EA:Solution updated: Round 120, RSME 1.7002345539761032\n",
      "INFO:fit_with_x_axis_correction.EA:Solution updated: Round 121, RSME 1.648539796736713\n",
      "INFO:fit_with_x_axis_correction.EA:Solution updated: Round 122, RSME 1.6450245890991322\n",
      "INFO:fit_with_x_axis_correction.EA:Solution updated: Round 126, RSME 1.6424020740333118\n",
      "INFO:fit_with_x_axis_correction.EA:Solution updated: Round 127, RSME 1.6352620460831488\n",
      "INFO:fit_with_x_axis_correction.EA:Solution updated: Round 128, RSME 1.6204090537034919\n",
      "INFO:fit_with_x_axis_correction.EA:Solution updated: Round 132, RSME 1.6083019184489247\n",
      "INFO:fit_with_x_axis_correction.EA:Solution updated: Round 132, RSME 1.5946311830806903\n",
      "INFO:fit_with_x_axis_correction.EA:Solution updated: Round 136, RSME 1.5884524760858143\n",
      "INFO:fit_with_x_axis_correction.EA:Solution updated: Round 137, RSME 1.5832011553109226\n",
      "INFO:fit_with_x_axis_correction.EA:Solution updated: Round 138, RSME 1.5735153357440939\n",
      "INFO:fit_with_x_axis_correction.EA:Solution updated: Round 139, RSME 1.549409962293744\n",
      "INFO:fit_with_x_axis_correction.EA:Solution updated: Round 146, RSME 1.5338030159737472\n",
      "INFO:fit_with_x_axis_correction.EA:Solution updated: Round 147, RSME 1.520952729390898\n",
      "INFO:fit_with_x_axis_correction.EA:Solution updated: Round 150, RSME 1.514422791123844\n",
      "INFO:fit_with_x_axis_correction.EA:Solution updated: Round 152, RSME 1.512490897960116\n",
      "INFO:fit_with_x_axis_correction.EA:Solution updated: Round 152, RSME 1.4835843643614148\n",
      "INFO:fit_with_x_axis_correction.EA:Solution updated: Round 157, RSME 1.458210196122836\n",
      "INFO:fit_with_x_axis_correction.EA:Solution updated: Round 158, RSME 1.4539619350228665\n",
      "INFO:fit_with_x_axis_correction.EA:Solution updated: Round 159, RSME 1.4494275901537206\n",
      "INFO:fit_with_x_axis_correction.EA:Solution updated: Round 160, RSME 1.4488053075459955\n",
      "INFO:fit_with_x_axis_correction.EA:Solution updated: Round 161, RSME 1.4459371646169197\n",
      "INFO:fit_with_x_axis_correction.EA:Solution updated: Round 162, RSME 1.4324338706078508\n",
      "INFO:fit_with_x_axis_correction.EA:Solution updated: Round 162, RSME 1.42119435162374\n",
      "INFO:fit_with_x_axis_correction.EA:Solution updated: Round 164, RSME 1.4196308119036936\n",
      "INFO:fit_with_x_axis_correction.EA:Solution updated: Round 165, RSME 1.413147235155793\n",
      "INFO:fit_with_x_axis_correction.EA:Solution updated: Round 167, RSME 1.4126882984558227\n",
      "INFO:fit_with_x_axis_correction.EA:Solution updated: Round 167, RSME 1.4067670185259202\n",
      "INFO:fit_with_x_axis_correction.EA:Solution updated: Round 168, RSME 1.4015430286567068\n",
      "INFO:fit_with_x_axis_correction.EA:Solution updated: Round 173, RSME 1.393767506451482\n",
      "INFO:fit_with_x_axis_correction.EA:Solution updated: Round 176, RSME 1.3934805807801864\n",
      "INFO:fit_with_x_axis_correction.EA:Solution updated: Round 184, RSME 1.3882117047778981\n",
      "INFO:fit_with_x_axis_correction.EA:Solution updated: Round 188, RSME 1.38315990394947\n",
      "INFO:fit_with_x_axis_correction.EA:Solution updated: Round 190, RSME 1.3722983715737056\n",
      "INFO:fit_with_x_axis_correction.EA:Solution updated: Round 193, RSME 1.3575881902556945\n",
      "INFO:fit_with_x_axis_correction.EA:Solution updated: Round 194, RSME 1.3501902139637343\n",
      "INFO:fit_with_x_axis_correction.EA:Solution updated: Round 201, RSME 1.3398835795073307\n",
      "INFO:fit_with_x_axis_correction.EA:Solution updated: Round 207, RSME 1.339834458325012\n",
      "INFO:fit_with_x_axis_correction.EA:Solution updated: Round 209, RSME 1.317325060282893\n",
      "INFO:fit_with_x_axis_correction.EA:Solution updated: Round 211, RSME 1.313367078426977\n",
      "INFO:fit_with_x_axis_correction.EA:Solution updated: Round 214, RSME 1.3128281526586094\n",
      "INFO:fit_with_x_axis_correction.EA:Solution updated: Round 214, RSME 1.3024970523582604\n",
      "INFO:fit_with_x_axis_correction.EA:Solution updated: Round 216, RSME 1.2998304150087419\n",
      "INFO:fit_with_x_axis_correction.EA:Solution updated: Round 217, RSME 1.298570636654992\n",
      "INFO:fit_with_x_axis_correction.EA:Solution updated: Round 217, RSME 1.2946310643181551\n",
      "INFO:fit_with_x_axis_correction.EA:Solution updated: Round 217, RSME 1.2905908263633228\n",
      "INFO:fit_with_x_axis_correction.EA:Solution updated: Round 218, RSME 1.2900914488051112\n",
      "INFO:fit_with_x_axis_correction.EA:Solution updated: Round 221, RSME 1.280822085473357\n",
      "INFO:fit_with_x_axis_correction.EA:Solution updated: Round 223, RSME 1.2731439870902004\n",
      "INFO:fit_with_x_axis_correction.EA:Solution updated: Round 226, RSME 1.2667431566857772\n",
      "INFO:fit_with_x_axis_correction.EA:Solution updated: Round 227, RSME 1.2572224255850701\n",
      "INFO:fit_with_x_axis_correction.EA:Solution updated: Round 227, RSME 1.2542881603466116\n",
      "INFO:fit_with_x_axis_correction.EA:Solution updated: Round 232, RSME 1.250970735322597\n",
      "INFO:fit_with_x_axis_correction.EA:Solution updated: Round 232, RSME 1.2504413236056051\n",
      "INFO:fit_with_x_axis_correction.EA:Solution updated: Round 236, RSME 1.2376054717186615\n",
      "INFO:fit_with_x_axis_correction.EA:Solution updated: Round 237, RSME 1.2375708399131098\n",
      "INFO:fit_with_x_axis_correction.EA:Solution updated: Round 238, RSME 1.2360925294581724\n",
      "INFO:fit_with_x_axis_correction.EA:Solution updated: Round 239, RSME 1.221105007592053\n",
      "INFO:fit_with_x_axis_correction.EA:Solution updated: Round 242, RSME 1.2141782527430605\n"
     ]
    },
    {
     "name": "stderr",
     "output_type": "stream",
     "text": [
      "INFO:fit_with_x_axis_correction.EA:Solution updated: Round 244, RSME 1.208386015743818\n",
      "INFO:fit_with_x_axis_correction.EA:Solution updated: Round 245, RSME 1.205812389885268\n",
      "INFO:fit_with_x_axis_correction.EA:Solution updated: Round 245, RSME 1.2028333548641017\n",
      "INFO:fit_with_x_axis_correction.EA:Solution updated: Round 246, RSME 1.1942257141178625\n",
      "INFO:fit_with_x_axis_correction.EA:Solution updated: Round 248, RSME 1.191521892934945\n",
      "INFO:fit_with_x_axis_correction.EA:Solution updated: Round 249, RSME 1.184911050184948\n",
      "INFO:fit_with_x_axis_correction.EA:Solution updated: Round 251, RSME 1.1840476301827056\n",
      "INFO:fit_with_x_axis_correction.EA:Solution updated: Round 277, RSME 1.177068556950091\n",
      "INFO:fit_with_x_axis_correction.EA:Solution updated: Round 279, RSME 1.1764266252183526\n",
      "INFO:fit_with_x_axis_correction.EA:Solution updated: Round 280, RSME 1.1686582385530544\n",
      "INFO:fit_with_x_axis_correction.EA:Solution updated: Round 281, RSME 1.1613243133296227\n",
      "INFO:fit_with_x_axis_correction.EA:Solution updated: Round 282, RSME 1.1587216200134143\n",
      "INFO:fit_with_x_axis_correction.EA:Solution updated: Round 288, RSME 1.1500952939037798\n",
      "INFO:fit_with_x_axis_correction.EA:Solution updated: Round 290, RSME 1.1432392544094594\n",
      "INFO:fit_with_x_axis_correction.EA:Solution updated: Round 296, RSME 1.1376436539770969\n",
      "INFO:fit_with_x_axis_correction.EA:Solution updated: Round 298, RSME 1.1344020489609428\n",
      "INFO:fit_with_x_axis_correction.EA:Solution updated: Round 299, RSME 1.134381955660616\n",
      "INFO:fit_with_x_axis_correction.EA:Solution updated: Round 303, RSME 1.1339588544943047\n",
      "INFO:fit_with_x_axis_correction.EA:Solution updated: Round 308, RSME 1.1218549447777728\n",
      "INFO:fit_with_x_axis_correction.EA:Solution updated: Round 309, RSME 1.1207967439519197\n",
      "INFO:fit_with_x_axis_correction.EA:Solution updated: Round 312, RSME 1.1187991981036023\n",
      "INFO:fit_with_x_axis_correction.EA:Solution updated: Round 315, RSME 1.1183864832665198\n",
      "INFO:fit_with_x_axis_correction.EA:Solution updated: Round 316, RSME 1.1141606105167854\n",
      "INFO:fit_with_x_axis_correction.EA:Solution updated: Round 316, RSME 1.1071748144611435\n",
      "INFO:fit_with_x_axis_correction.EA:Solution updated: Round 317, RSME 1.1071185028902566\n",
      "INFO:fit_with_x_axis_correction.EA:Solution updated: Round 329, RSME 1.1037729449316513\n",
      "INFO:fit_with_x_axis_correction.EA:Solution updated: Round 333, RSME 1.1003831348134148\n",
      "INFO:fit_with_x_axis_correction.EA:Solution updated: Round 336, RSME 1.0966299223331901\n",
      "INFO:fit_with_x_axis_correction.EA:Solution updated: Round 336, RSME 1.09484466572074\n",
      "INFO:fit_with_x_axis_correction.EA:Solution updated: Round 337, RSME 1.0908844880918802\n",
      "INFO:fit_with_x_axis_correction.EA:Solution updated: Round 338, RSME 1.0886497406257178\n",
      "INFO:fit_with_x_axis_correction.EA:Solution updated: Round 340, RSME 1.0860028234107855\n",
      "INFO:fit_with_x_axis_correction.EA:Solution updated: Round 341, RSME 1.085476535640058\n",
      "INFO:fit_with_x_axis_correction.EA:Solution updated: Round 343, RSME 1.084156733448951\n",
      "INFO:fit_with_x_axis_correction.EA:Solution updated: Round 343, RSME 1.08337193247506\n",
      "INFO:fit_with_x_axis_correction.EA:Solution updated: Round 348, RSME 1.0797953879309496\n",
      "INFO:fit_with_x_axis_correction.EA:Solution updated: Round 357, RSME 1.0749035301659797\n",
      "INFO:fit_with_x_axis_correction.EA:Solution updated: Round 364, RSME 1.0699255989749488\n",
      "INFO:fit_with_x_axis_correction.EA:Solution updated: Round 366, RSME 1.0685477683114235\n",
      "INFO:fit_with_x_axis_correction.EA:Solution updated: Round 371, RSME 1.0666400250332362\n",
      "INFO:fit_with_x_axis_correction.EA:Solution updated: Round 372, RSME 1.0641281116483454\n",
      "INFO:fit_with_x_axis_correction.EA:Solution updated: Round 374, RSME 1.0594769408857194\n",
      "INFO:fit_with_x_axis_correction.EA:Solution updated: Round 376, RSME 1.0584964760864022\n",
      "INFO:fit_with_x_axis_correction.EA:Solution updated: Round 377, RSME 1.0509364114024013\n",
      "INFO:fit_with_x_axis_correction.EA:Solution updated: Round 377, RSME 1.0468846947527375\n",
      "INFO:fit_with_x_axis_correction.EA:Solution updated: Round 377, RSME 1.0465428166007718\n",
      "INFO:fit_with_x_axis_correction.EA:Solution updated: Round 381, RSME 1.0442670197814599\n",
      "INFO:fit_with_x_axis_correction.EA:Solution updated: Round 389, RSME 1.0434781891472347\n",
      "INFO:fit_with_x_axis_correction.EA:Solution updated: Round 389, RSME 1.0423536222418859\n",
      "INFO:fit_with_x_axis_correction.EA:Solution updated: Round 394, RSME 1.0419127645949329\n",
      "INFO:fit_with_x_axis_correction.EA:Solution updated: Round 396, RSME 1.0406064709339042\n",
      "INFO:fit_with_x_axis_correction.EA:Solution updated: Round 398, RSME 1.0401069724109884\n",
      "INFO:fit_with_x_axis_correction.EA:Solution updated: Round 400, RSME 1.0361724154741552\n",
      "INFO:fit_with_x_axis_correction.EA:Solution updated: Round 401, RSME 1.0327109446961489\n",
      "INFO:fit_with_x_axis_correction.EA:Solution updated: Round 401, RSME 1.029632737158501\n",
      "INFO:fit_with_x_axis_correction.EA:Solution updated: Round 406, RSME 1.0267790840461097\n",
      "INFO:fit_with_x_axis_correction.EA:Solution updated: Round 409, RSME 1.0263638958651742\n",
      "INFO:fit_with_x_axis_correction.EA:Solution updated: Round 413, RSME 1.0256350504941005\n",
      "INFO:fit_with_x_axis_correction.EA:Solution updated: Round 416, RSME 1.02463886010094\n",
      "INFO:fit_with_x_axis_correction.EA:Solution updated: Round 419, RSME 1.0214334994837875\n",
      "INFO:fit_with_x_axis_correction.EA:Solution updated: Round 420, RSME 1.020924196611695\n",
      "INFO:fit_with_x_axis_correction.EA:Solution updated: Round 421, RSME 1.0104076745212605\n",
      "INFO:fit_with_x_axis_correction.EA:Solution updated: Round 431, RSME 1.006121427868128\n",
      "INFO:fit_with_x_axis_correction.EA:Solution updated: Round 433, RSME 1.0053560811385973\n",
      "INFO:fit_with_x_axis_correction.EA:Solution updated: Round 446, RSME 1.003711969115553\n",
      "INFO:fit_with_x_axis_correction.EA:Solution updated: Round 448, RSME 1.0017904774692636\n",
      "INFO:fit_with_x_axis_correction.EA:Solution updated: Round 450, RSME 0.9977246482301563\n",
      "INFO:fit_with_x_axis_correction.EA:Target RSME reached. Iteration terminated at round 450.\n"
     ]
    }
   ],
   "source": [
    "solution, parameters = solve_with_EA(x_original,signal,pure_components)"
   ]
  }
 ],
 "metadata": {
  "kernelspec": {
   "display_name": "Python 3",
   "language": "python",
   "name": "python3"
  },
  "language_info": {
   "codemirror_mode": {
    "name": "ipython",
    "version": 3
   },
   "file_extension": ".py",
   "mimetype": "text/x-python",
   "name": "python",
   "nbconvert_exporter": "python",
   "pygments_lexer": "ipython3",
   "version": "3.6.5"
  },
  "varInspector": {
   "cols": {
    "lenName": 16,
    "lenType": 16,
    "lenVar": 40
   },
   "kernels_config": {
    "python": {
     "delete_cmd_postfix": "",
     "delete_cmd_prefix": "del ",
     "library": "var_list.py",
     "varRefreshCmd": "print(var_dic_list())"
    },
    "r": {
     "delete_cmd_postfix": ") ",
     "delete_cmd_prefix": "rm(",
     "library": "var_list.r",
     "varRefreshCmd": "cat(var_dic_list()) "
    }
   },
   "types_to_exclude": [
    "module",
    "function",
    "builtin_function_or_method",
    "instance",
    "_Feature"
   ],
   "window_display": false
  }
 },
 "nbformat": 4,
 "nbformat_minor": 2
}

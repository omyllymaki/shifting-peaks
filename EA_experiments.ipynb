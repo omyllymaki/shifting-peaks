{
 "cells": [
  {
   "cell_type": "markdown",
   "metadata": {},
   "source": [
    "# Evolutionary algorithm experiments"
   ]
  },
  {
   "cell_type": "code",
   "execution_count": 1,
   "metadata": {
    "ExecuteTime": {
     "end_time": "2019-07-22T08:06:52.138955Z",
     "start_time": "2019-07-22T08:06:51.732963Z"
    }
   },
   "outputs": [],
   "source": [
    "%matplotlib inline\n",
    "%load_ext autoreload\n",
    "%autoreload 2\n",
    "from IPython.core.interactiveshell import InteractiveShell\n",
    "InteractiveShell.ast_node_interactivity = \"all\""
   ]
  },
  {
   "cell_type": "markdown",
   "metadata": {},
   "source": [
    "## Imports"
   ]
  },
  {
   "cell_type": "code",
   "execution_count": 2,
   "metadata": {
    "ExecuteTime": {
     "end_time": "2019-07-22T08:06:52.313207Z",
     "start_time": "2019-07-22T08:06:52.140906Z"
    }
   },
   "outputs": [],
   "source": [
    "import matplotlib.pyplot as plt\n",
    "import numpy as np\n",
    "import logging\n",
    "import random\n",
    "\n",
    "from constants import PATH_PURE_COMPONENTS, PATH_MIXTURES, X\n",
    "from file_io import load_pickle_file\n",
    "from solvers.common import *\n",
    "from solvers.correction_models import *\n",
    "\n",
    "from numpy.random import normal\n",
    "\n",
    "logging.basicConfig(level=logging.INFO)"
   ]
  },
  {
   "cell_type": "code",
   "execution_count": 3,
   "metadata": {
    "ExecuteTime": {
     "end_time": "2019-07-22T08:06:52.382280Z",
     "start_time": "2019-07-22T08:06:52.314952Z"
    }
   },
   "outputs": [],
   "source": [
    "logger = logging.getLogger(__name__)"
   ]
  },
  {
   "cell_type": "markdown",
   "metadata": {},
   "source": [
    "## Load data"
   ]
  },
  {
   "cell_type": "code",
   "execution_count": 4,
   "metadata": {
    "ExecuteTime": {
     "end_time": "2019-07-22T08:06:52.452091Z",
     "start_time": "2019-07-22T08:06:52.384274Z"
    }
   },
   "outputs": [],
   "source": [
    "pure_components = load_pickle_file(PATH_PURE_COMPONENTS)\n",
    "mixtures_data = load_pickle_file(PATH_MIXTURES)"
   ]
  },
  {
   "cell_type": "markdown",
   "metadata": {},
   "source": [
    "## Analysis"
   ]
  },
  {
   "cell_type": "markdown",
   "metadata": {},
   "source": [
    "### Constants"
   ]
  },
  {
   "cell_type": "code",
   "execution_count": 5,
   "metadata": {
    "ExecuteTime": {
     "end_time": "2019-07-22T08:06:52.517926Z",
     "start_time": "2019-07-22T08:06:52.454087Z"
    }
   },
   "outputs": [],
   "source": [
    "N_POPULATION = 200\n",
    "N_SURVIVORS = 30\n",
    "N_LINEAR_COMBINATIONS = 30\n",
    "N_MUTATIONS = 100\n",
    "INIT_GUESS = [0, 0, 0]\n",
    "INIT_DEVIATIONS = [0.01, 0.1, 1]\n",
    "N_MAX_GENERATIONS = 300\n",
    "RSME_THRESHOLD = 2\n",
    "N_STEADY_THRESHOLD = 50\n",
    "MAX_X_DEVIATION = 50"
   ]
  },
  {
   "cell_type": "code",
   "execution_count": 6,
   "metadata": {
    "ExecuteTime": {
     "end_time": "2019-07-22T08:06:52.594710Z",
     "start_time": "2019-07-22T08:06:52.519911Z"
    }
   },
   "outputs": [],
   "source": [
    "correction_model = quadratic_correction\n",
    "x_original = X\n",
    "signal = mixtures_data[0]['signal']\n",
    "true = mixtures_data[0]['contributions']"
   ]
  },
  {
   "cell_type": "markdown",
   "metadata": {},
   "source": [
    "### Optimization"
   ]
  },
  {
   "cell_type": "code",
   "execution_count": 7,
   "metadata": {
    "ExecuteTime": {
     "end_time": "2019-07-22T08:06:52.661532Z",
     "start_time": "2019-07-22T08:06:52.596705Z"
    }
   },
   "outputs": [],
   "source": [
    "correction_model = quadratic_correction\n",
    "n_population: int = 50\n",
    "n_survivors: int = None\n",
    "n_crossovers: int = None\n",
    "n_mutations: int = None\n",
    "init_guess: Tuple[float] = (0, 0, 0)\n",
    "deviations: Tuple[float] = (0.01, 0.1, 1)\n",
    "deviations_scaling: Tuple[float] = None\n",
    "n_max_generations: int = 500\n",
    "rsme_threshold: float = 1\n",
    "n_no_change_threshold: int = 50\n",
    "max_x_deviation: float = None\n",
    "scaled_proportion = 0.7"
   ]
  },
  {
   "cell_type": "code",
   "execution_count": 8,
   "metadata": {
    "ExecuteTime": {
     "end_time": "2019-07-22T08:06:52.727841Z",
     "start_time": "2019-07-22T08:06:52.663013Z"
    }
   },
   "outputs": [],
   "source": [
    "all_rsme_values = []"
   ]
  },
  {
   "cell_type": "code",
   "execution_count": 9,
   "metadata": {
    "ExecuteTime": {
     "end_time": "2019-07-22T08:06:57.162112Z",
     "start_time": "2019-07-22T08:06:52.730831Z"
    }
   },
   "outputs": [
    {
     "name": "stderr",
     "output_type": "stream",
     "text": [
      "INFO:__main__:Solution updated: Round 0, RSME 13.875753216323254\n",
      "INFO:__main__:Solution updated: Round 5, RSME 13.275318115586659\n",
      "INFO:__main__:Solution updated: Round 7, RSME 12.947004455799396\n",
      "INFO:__main__:Solution updated: Round 8, RSME 10.622254230794116\n",
      "INFO:__main__:Solution updated: Round 11, RSME 6.93937642880182\n",
      "INFO:__main__:Solution updated: Round 23, RSME 6.866020235949215\n",
      "INFO:__main__:Solution updated: Round 24, RSME 6.830583441570156\n",
      "INFO:__main__:Solution updated: Round 28, RSME 6.750197778094015\n",
      "INFO:__main__:Solution updated: Round 36, RSME 6.643648312093553\n",
      "INFO:__main__:Solution updated: Round 38, RSME 6.557085114788552\n",
      "INFO:__main__:Solution updated: Round 66, RSME 6.553086819553575\n",
      "INFO:__main__:Solution updated: Round 67, RSME 6.531655340561582\n",
      "INFO:__main__:Solution updated: Round 68, RSME 6.484595263565266\n",
      "INFO:__main__:Solution updated: Round 78, RSME 6.476623342639522\n",
      "INFO:__main__:Solution updated: Round 79, RSME 6.45574918739272\n",
      "INFO:__main__:Solution updated: Round 81, RSME 6.414361556080839\n",
      "INFO:__main__:Solution updated: Round 84, RSME 6.3736560536911\n",
      "INFO:__main__:Solution updated: Round 94, RSME 6.370558708489475\n",
      "INFO:__main__:Solution updated: Round 95, RSME 6.334194540172156\n",
      "INFO:__main__:Solution updated: Round 97, RSME 6.3335023455375286\n",
      "INFO:__main__:Solution updated: Round 98, RSME 6.256790849076877\n",
      "INFO:__main__:Solution updated: Round 103, RSME 6.238953479594134\n",
      "INFO:__main__:Solution updated: Round 103, RSME 6.215469442687218\n",
      "INFO:__main__:Solution updated: Round 105, RSME 6.207384950615503\n",
      "INFO:__main__:Solution updated: Round 110, RSME 6.183273053509638\n",
      "INFO:__main__:Solution updated: Round 111, RSME 6.152051611809543\n",
      "INFO:__main__:Solution updated: Round 111, RSME 6.151841474932187\n",
      "INFO:__main__:Solution updated: Round 114, RSME 6.123695416963112\n",
      "INFO:__main__:Solution updated: Round 116, RSME 6.080069159477148\n",
      "INFO:__main__:Solution updated: Round 124, RSME 6.046383742685179\n",
      "INFO:__main__:Solution updated: Round 127, RSME 6.008406615448651\n",
      "INFO:__main__:Solution updated: Round 133, RSME 5.9719237493872255\n",
      "INFO:__main__:Solution updated: Round 136, RSME 5.95542229297185\n",
      "INFO:__main__:Solution updated: Round 137, RSME 5.919747008185739\n",
      "INFO:__main__:Solution updated: Round 141, RSME 5.918237122850345\n",
      "INFO:__main__:Solution updated: Round 142, RSME 5.9132036952756835\n",
      "INFO:__main__:Solution updated: Round 142, RSME 5.890684915224771\n",
      "INFO:__main__:Solution updated: Round 144, RSME 5.889797031189686\n",
      "INFO:__main__:Solution updated: Round 146, RSME 5.875376990936626\n",
      "INFO:__main__:Solution updated: Round 150, RSME 5.858150982517816\n",
      "INFO:__main__:Solution updated: Round 152, RSME 5.8438931602023665\n",
      "INFO:__main__:Solution updated: Round 156, RSME 5.835333220463318\n",
      "INFO:__main__:Solution updated: Round 158, RSME 5.809972884226078\n",
      "INFO:__main__:Solution updated: Round 159, RSME 5.804692183496121\n",
      "INFO:__main__:Solution updated: Round 161, RSME 5.772890568636245\n",
      "INFO:__main__:Solution updated: Round 163, RSME 5.770789011424558\n",
      "INFO:__main__:Solution updated: Round 167, RSME 5.7394735272795225\n",
      "INFO:__main__:Solution updated: Round 172, RSME 5.73841487394223\n",
      "INFO:__main__:Solution updated: Round 176, RSME 5.714839916354945\n",
      "INFO:__main__:Solution updated: Round 177, RSME 5.697247483921401\n",
      "INFO:__main__:Solution updated: Round 180, RSME 5.693878904383244\n",
      "INFO:__main__:Solution updated: Round 185, RSME 5.689423042073936\n",
      "INFO:__main__:Solution updated: Round 186, RSME 5.687020844814809\n",
      "INFO:__main__:Solution updated: Round 197, RSME 5.654527966818286\n",
      "INFO:__main__:Solution updated: Round 198, RSME 5.647084691538165\n",
      "INFO:__main__:Solution updated: Round 199, RSME 5.642433385422899\n",
      "INFO:__main__:Solution updated: Round 200, RSME 5.619309650604712\n",
      "INFO:__main__:Solution updated: Round 200, RSME 5.5632887798553865\n",
      "INFO:__main__:Solution updated: Round 205, RSME 5.547783614826266\n",
      "INFO:__main__:Solution updated: Round 206, RSME 5.520273460177704\n",
      "INFO:__main__:Solution updated: Round 207, RSME 5.513800770934489\n",
      "INFO:__main__:Solution updated: Round 207, RSME 5.499829961769864\n",
      "INFO:__main__:Solution updated: Round 209, RSME 5.496975902286176\n",
      "INFO:__main__:Solution updated: Round 209, RSME 5.470476082572264\n",
      "INFO:__main__:Solution updated: Round 211, RSME 5.4687921626083345\n",
      "INFO:__main__:Solution updated: Round 213, RSME 5.467322625860411\n",
      "INFO:__main__:Solution updated: Round 213, RSME 5.462319225507197\n",
      "INFO:__main__:Solution updated: Round 215, RSME 5.461642112080931\n",
      "INFO:__main__:Solution updated: Round 215, RSME 5.461194734427645\n",
      "INFO:__main__:Solution updated: Round 217, RSME 5.447790000207648\n",
      "INFO:__main__:Solution updated: Round 218, RSME 5.413788269056658\n",
      "INFO:__main__:Solution updated: Round 219, RSME 5.400537660520817\n",
      "INFO:__main__:Solution updated: Round 220, RSME 5.38875332133335\n",
      "INFO:__main__:Solution updated: Round 221, RSME 5.378795083094895\n",
      "INFO:__main__:Solution updated: Round 221, RSME 5.375012132323276\n",
      "INFO:__main__:Solution updated: Round 222, RSME 5.373898067402837\n",
      "INFO:__main__:Solution updated: Round 224, RSME 5.362915788085872\n",
      "INFO:__main__:Solution updated: Round 224, RSME 5.352045603917919\n",
      "INFO:__main__:Solution updated: Round 225, RSME 5.3452057359055845\n",
      "INFO:__main__:Solution updated: Round 226, RSME 5.335665836631524\n",
      "INFO:__main__:Solution updated: Round 227, RSME 5.3227811509468665\n",
      "INFO:__main__:Solution updated: Round 227, RSME 5.291073749522525\n",
      "INFO:__main__:Solution updated: Round 236, RSME 5.281941301719295\n",
      "INFO:__main__:Solution updated: Round 237, RSME 5.277211996352503\n",
      "INFO:__main__:Solution updated: Round 237, RSME 5.267944920336623\n",
      "INFO:__main__:Solution updated: Round 238, RSME 5.264639988383581\n",
      "INFO:__main__:Solution updated: Round 240, RSME 5.255204964861965\n",
      "INFO:__main__:Solution updated: Round 242, RSME 5.241011958539062\n",
      "INFO:__main__:Solution updated: Round 243, RSME 5.240049029142946\n",
      "INFO:__main__:Solution updated: Round 244, RSME 5.235577707777489\n",
      "INFO:__main__:Solution updated: Round 247, RSME 5.232489917439403\n",
      "INFO:__main__:Solution updated: Round 247, RSME 5.230158570560553\n",
      "INFO:__main__:Solution updated: Round 250, RSME 5.209274011006874\n",
      "INFO:__main__:Solution updated: Round 251, RSME 5.203192361789211\n",
      "INFO:__main__:Solution updated: Round 251, RSME 5.201103073427824\n",
      "INFO:__main__:Solution updated: Round 253, RSME 5.2005591167676135\n",
      "INFO:__main__:Solution updated: Round 253, RSME 5.193593797881597\n",
      "INFO:__main__:Solution updated: Round 256, RSME 5.19098026914172\n",
      "INFO:__main__:Solution updated: Round 257, RSME 5.190128995201788\n",
      "INFO:__main__:Solution updated: Round 260, RSME 5.188877553296289\n",
      "INFO:__main__:Solution updated: Round 263, RSME 5.188385901232598\n",
      "INFO:__main__:Solution updated: Round 264, RSME 5.17632948087516\n",
      "INFO:__main__:Solution updated: Round 265, RSME 5.1555001742337305\n",
      "INFO:__main__:Solution updated: Round 268, RSME 5.155273459679251\n",
      "INFO:__main__:Solution updated: Round 268, RSME 5.1511285517473135\n",
      "INFO:__main__:Solution updated: Round 269, RSME 5.141950531209066\n",
      "INFO:__main__:Solution updated: Round 272, RSME 5.133768065918364\n",
      "INFO:__main__:Solution updated: Round 273, RSME 5.119101621235205\n",
      "INFO:__main__:Solution updated: Round 274, RSME 5.116699447855571\n",
      "INFO:__main__:Solution updated: Round 274, RSME 5.109056373914801\n",
      "INFO:__main__:Solution updated: Round 278, RSME 5.106659761258215\n",
      "INFO:__main__:Solution updated: Round 286, RSME 5.101638658160702\n",
      "INFO:__main__:Solution updated: Round 287, RSME 5.089649178012672\n",
      "INFO:__main__:Solution updated: Round 289, RSME 5.084880338168723\n",
      "INFO:__main__:Solution updated: Round 290, RSME 5.070692879707619\n",
      "INFO:__main__:Solution updated: Round 291, RSME 5.0632354846369045\n",
      "INFO:__main__:Solution updated: Round 295, RSME 5.062887635532897\n",
      "INFO:__main__:Solution updated: Round 295, RSME 5.060099395386275\n",
      "INFO:__main__:Solution updated: Round 298, RSME 5.049489312474846\n",
      "INFO:__main__:Solution updated: Round 300, RSME 5.027313449141905\n",
      "INFO:__main__:Solution updated: Round 301, RSME 5.015044461881101\n",
      "INFO:__main__:Solution updated: Round 303, RSME 5.01257396882017\n",
      "INFO:__main__:Solution updated: Round 304, RSME 5.006948226842607\n",
      "INFO:__main__:Solution updated: Round 306, RSME 5.006848317460549\n",
      "INFO:__main__:Solution updated: Round 307, RSME 4.991965999987031\n"
     ]
    },
    {
     "name": "stderr",
     "output_type": "stream",
     "text": [
      "INFO:__main__:Solution updated: Round 308, RSME 4.985703756791509\n",
      "INFO:__main__:Solution updated: Round 309, RSME 4.982882283952683\n",
      "INFO:__main__:Solution updated: Round 313, RSME 4.976955441242664\n",
      "INFO:__main__:Solution updated: Round 314, RSME 4.9710343950668054\n",
      "INFO:__main__:Solution updated: Round 319, RSME 4.963151948292307\n",
      "INFO:__main__:Solution updated: Round 320, RSME 4.949854173131176\n",
      "INFO:__main__:Solution updated: Round 329, RSME 4.948814345768345\n",
      "INFO:__main__:Solution updated: Round 330, RSME 4.947743579944582\n",
      "INFO:__main__:Solution updated: Round 337, RSME 4.944405960078164\n",
      "INFO:__main__:Solution updated: Round 338, RSME 4.933138196755818\n",
      "INFO:__main__:Solution updated: Round 340, RSME 4.930014761527711\n",
      "INFO:__main__:Solution updated: Round 342, RSME 4.924764809331939\n",
      "INFO:__main__:Solution updated: Round 343, RSME 4.90947801322755\n",
      "INFO:__main__:Solution updated: Round 344, RSME 4.9045967020083285\n",
      "INFO:__main__:Solution updated: Round 345, RSME 4.899681246984637\n",
      "INFO:__main__:Solution updated: Round 345, RSME 4.895799733933226\n",
      "INFO:__main__:Solution updated: Round 346, RSME 4.891295159902611\n",
      "INFO:__main__:Solution updated: Round 347, RSME 4.880913799715149\n",
      "INFO:__main__:Solution updated: Round 348, RSME 4.875932228740551\n",
      "INFO:__main__:Solution updated: Round 349, RSME 4.864979594356027\n",
      "INFO:__main__:Solution updated: Round 354, RSME 4.859417591503631\n",
      "INFO:__main__:Solution updated: Round 354, RSME 4.859195810543737\n",
      "INFO:__main__:Solution updated: Round 355, RSME 4.855552400647758\n",
      "INFO:__main__:Solution updated: Round 360, RSME 4.854751035206985\n",
      "INFO:__main__:Solution updated: Round 362, RSME 4.852584383234287\n",
      "INFO:__main__:Solution updated: Round 362, RSME 4.8506160683970005\n",
      "INFO:__main__:Solution updated: Round 363, RSME 4.839457837301718\n",
      "INFO:__main__:Solution updated: Round 363, RSME 4.837893794807406\n",
      "INFO:__main__:Solution updated: Round 365, RSME 4.832858294013948\n",
      "INFO:__main__:Solution updated: Round 365, RSME 4.832300133555843\n",
      "INFO:__main__:Solution updated: Round 366, RSME 4.825024679442622\n",
      "INFO:__main__:Solution updated: Round 367, RSME 4.821799583818787\n",
      "INFO:__main__:Solution updated: Round 372, RSME 4.81701535475867\n",
      "INFO:__main__:Solution updated: Round 372, RSME 4.815553427673236\n",
      "INFO:__main__:Solution updated: Round 372, RSME 4.812797116437044\n",
      "INFO:__main__:Solution updated: Round 374, RSME 4.804085929789967\n",
      "INFO:__main__:Solution updated: Round 379, RSME 4.794486695125485\n",
      "INFO:__main__:Solution updated: Round 380, RSME 4.794160931596603\n",
      "INFO:__main__:Solution updated: Round 381, RSME 4.782353730528056\n",
      "INFO:__main__:Solution updated: Round 383, RSME 4.775895786658135\n",
      "INFO:__main__:Solution updated: Round 384, RSME 4.775499638076126\n",
      "INFO:__main__:Solution updated: Round 386, RSME 4.774525463671772\n",
      "INFO:__main__:Solution updated: Round 386, RSME 4.773123233005299\n",
      "INFO:__main__:Solution updated: Round 393, RSME 4.7710630237716085\n",
      "INFO:__main__:Solution updated: Round 394, RSME 4.766271575173627\n",
      "INFO:__main__:Solution updated: Round 395, RSME 4.76372878748706\n",
      "INFO:__main__:Solution updated: Round 395, RSME 4.75466098625869\n",
      "INFO:__main__:Solution updated: Round 396, RSME 4.746705047842761\n",
      "INFO:__main__:Solution updated: Round 398, RSME 4.744737821778943\n",
      "INFO:__main__:Solution updated: Round 402, RSME 4.73759093079495\n",
      "INFO:__main__:Solution updated: Round 407, RSME 4.73483678227388\n",
      "INFO:__main__:Solution updated: Round 408, RSME 4.721827449433747\n",
      "INFO:__main__:Solution updated: Round 409, RSME 4.712917602388153\n",
      "INFO:__main__:Solution updated: Round 411, RSME 4.709928918118179\n",
      "INFO:__main__:Solution updated: Round 413, RSME 4.707669459401206\n",
      "INFO:__main__:Solution updated: Round 415, RSME 4.707582603176101\n",
      "INFO:__main__:Solution updated: Round 416, RSME 4.70202632610195\n",
      "INFO:__main__:Solution updated: Round 417, RSME 4.7000309925881725\n",
      "INFO:__main__:Solution updated: Round 417, RSME 4.698052027594558\n",
      "INFO:__main__:Solution updated: Round 419, RSME 4.694812203242892\n",
      "INFO:__main__:Solution updated: Round 423, RSME 4.689912505456623\n",
      "INFO:__main__:Solution updated: Round 423, RSME 4.686268807951701\n",
      "INFO:__main__:Solution updated: Round 426, RSME 4.6818516719481735\n",
      "INFO:__main__:Solution updated: Round 430, RSME 4.680800235152083\n",
      "INFO:__main__:Solution updated: Round 431, RSME 4.6780091693129515\n",
      "INFO:__main__:Solution updated: Round 433, RSME 4.677510068371853\n",
      "INFO:__main__:Solution updated: Round 434, RSME 4.6712459897467795\n",
      "INFO:__main__:Solution updated: Round 434, RSME 4.670169194595017\n",
      "INFO:__main__:Solution updated: Round 436, RSME 4.662898351290531\n",
      "INFO:__main__:Solution updated: Round 439, RSME 4.656643173450934\n",
      "INFO:__main__:Solution updated: Round 441, RSME 4.655637598828363\n",
      "INFO:__main__:Solution updated: Round 442, RSME 4.6549412730597455\n",
      "INFO:__main__:Solution updated: Round 442, RSME 4.65210660167349\n",
      "INFO:__main__:Solution updated: Round 442, RSME 4.642335059724685\n",
      "INFO:__main__:Solution updated: Round 445, RSME 4.641072699445231\n",
      "INFO:__main__:Solution updated: Round 446, RSME 4.636445135589986\n",
      "INFO:__main__:Solution updated: Round 446, RSME 4.63532006370996\n",
      "INFO:__main__:Solution updated: Round 447, RSME 4.634293559549375\n",
      "INFO:__main__:Solution updated: Round 447, RSME 4.627458175507318\n",
      "INFO:__main__:Solution updated: Round 449, RSME 4.625569676442783\n",
      "INFO:__main__:Solution updated: Round 452, RSME 4.622615896484644\n",
      "INFO:__main__:Solution updated: Round 454, RSME 4.620128671056294\n",
      "INFO:__main__:Solution updated: Round 455, RSME 4.618435238426311\n",
      "INFO:__main__:Solution updated: Round 455, RSME 4.610214128259897\n",
      "INFO:__main__:Solution updated: Round 455, RSME 4.6100002034064005\n",
      "INFO:__main__:Solution updated: Round 456, RSME 4.606673034206523\n",
      "INFO:__main__:Solution updated: Round 459, RSME 4.6052195668507\n",
      "INFO:__main__:Solution updated: Round 461, RSME 4.592834991204758\n",
      "INFO:__main__:Solution updated: Round 463, RSME 4.5918223527804685\n",
      "INFO:__main__:Solution updated: Round 463, RSME 4.587200775207206\n",
      "INFO:__main__:Solution updated: Round 466, RSME 4.581065498810301\n",
      "INFO:__main__:Solution updated: Round 467, RSME 4.579876858145704\n",
      "INFO:__main__:Solution updated: Round 468, RSME 4.574861373845461\n",
      "INFO:__main__:Solution updated: Round 469, RSME 4.572681274535099\n",
      "INFO:__main__:Solution updated: Round 469, RSME 4.5722669120244\n",
      "INFO:__main__:Solution updated: Round 469, RSME 4.570454049625448\n",
      "INFO:__main__:Solution updated: Round 470, RSME 4.566274255186462\n",
      "INFO:__main__:Solution updated: Round 470, RSME 4.562021657355167\n",
      "INFO:__main__:Solution updated: Round 471, RSME 4.5569023598623435\n",
      "INFO:__main__:Solution updated: Round 471, RSME 4.554659737823529\n",
      "INFO:__main__:Solution updated: Round 474, RSME 4.54903068336517\n",
      "INFO:__main__:Solution updated: Round 475, RSME 4.544369386216009\n",
      "INFO:__main__:Solution updated: Round 475, RSME 4.541872402178121\n",
      "INFO:__main__:Solution updated: Round 476, RSME 4.5416906872430625\n",
      "INFO:__main__:Solution updated: Round 476, RSME 4.5349779172338724\n",
      "INFO:__main__:Solution updated: Round 478, RSME 4.534256590928422\n",
      "INFO:__main__:Solution updated: Round 479, RSME 4.531235441904031\n",
      "INFO:__main__:Solution updated: Round 479, RSME 4.530862323488997\n",
      "INFO:__main__:Solution updated: Round 480, RSME 4.523466981168946\n",
      "INFO:__main__:Solution updated: Round 480, RSME 4.5222369234335815\n",
      "INFO:__main__:Solution updated: Round 482, RSME 4.516956980260368\n",
      "INFO:__main__:Solution updated: Round 484, RSME 4.512569932697425\n",
      "INFO:__main__:Solution updated: Round 485, RSME 4.512543744411565\n",
      "INFO:__main__:Solution updated: Round 486, RSME 4.506083102098008\n",
      "INFO:__main__:Solution updated: Round 487, RSME 4.504276836180443\n",
      "INFO:__main__:Solution updated: Round 489, RSME 4.501125643517784\n",
      "INFO:__main__:Solution updated: Round 493, RSME 4.4987692224973435\n",
      "WARNING:__main__:Maximum number of generations reached. Iteration terminated at round 499.\n"
     ]
    }
   ],
   "source": [
    "# Initialize optional arguments if not given\n",
    "if not max_x_deviation:\n",
    "    max_x_deviation = (max(x_original) - min(x_original)) // 2\n",
    "if not deviations_scaling:\n",
    "    deviations_scaling = np.array([1 / k for k in range(1, n_max_generations + 1)])\n",
    "\n",
    "# Initialize parameter candidates\n",
    "parameters = []\n",
    "for _ in range(n_population):\n",
    "    candidate = [normal(loc=mean, scale=stdev) for mean, stdev in zip(init_guess, deviations)]\n",
    "    parameters.append(candidate)\n",
    "parameters = np.array(parameters)\n",
    "\n",
    "# Initialize optimization\n",
    "min_rsme = float(np.inf)\n",
    "return_solution, return_parameters = None, None\n",
    "counter = 0\n",
    "\n",
    "# Search for best parameter combination\n",
    "for round in range(n_max_generations):\n",
    "    counter += 1\n",
    "    rsme_values = []\n",
    "\n",
    "    for candidate in parameters:\n",
    "        x_target = correction_model(x_original, candidate)\n",
    "\n",
    "        # Check that interpolated x axis is within accepted range\n",
    "        if abs(min(x_target) - min(x_original)) > max_x_deviation:\n",
    "            rsme_values.append(float(np.inf))\n",
    "            continue\n",
    "        if abs(max(x_target) - max(x_original)) > max_x_deviation:\n",
    "            rsme_values.append(float(np.inf))\n",
    "            continue\n",
    "\n",
    "        solution, residual = nnls_fit_with_interpolated_library(x_original, x_target, pure_components, signal)\n",
    "        rsme_value = rsme(residual)\n",
    "        rsme_values.append(rsme_value)\n",
    "\n",
    "        # Update solution if RSME is smaller than current minimum\n",
    "        if rsme_value < min_rsme:\n",
    "            min_rsme = rsme_value\n",
    "            return_solution = solution\n",
    "            return_parameters = candidate\n",
    "            counter = 0\n",
    "            logger.info(f'Solution updated: Round {round}, RSME {min_rsme}')\n",
    "    \n",
    "    all_rsme_values.append(rsme_values)\n",
    "    \n",
    "    # Check termination conditions\n",
    "    if min_rsme < rsme_threshold:\n",
    "        logger.info(f'Target RSME reached. Iteration terminated at round {round}.')\n",
    "        break\n",
    "    if counter > n_no_change_threshold:\n",
    "        logger.info(\n",
    "            f\"RSME didn't change in last {n_no_change_threshold} rounds. Iteration terminated at round {round}.\")\n",
    "        break\n",
    "    if round == n_max_generations - 1:\n",
    "        logger.warning(f\"Maximum number of generations reached. Iteration terminated at round {round}.\")\n",
    "        break\n",
    "\n",
    "    # Find best parameter combination\n",
    "    index_lowest_rsme = np.argmin(rsme_values)\n",
    "    best_parameters = parameters[index_lowest_rsme]\n",
    "\n",
    "    # Generate new parameter combinations\n",
    "    parameters = []\n",
    "    parameters.append(best_parameters)\n",
    "    scale = deviations_scaling[round]\n",
    "    n_scaled = int(scaled_proportion * n_population)\n",
    "    for _ in range(n_scaled):\n",
    "        candidate = [normal(loc=mean, scale=scale * stdev) for mean, stdev in zip(best_parameters, deviations)]\n",
    "        parameters.append(candidate)\n",
    "    for _ in range(n_population - len(parameters)):\n",
    "        candidate = [normal(loc=mean, scale=stdev) for mean, stdev in zip(best_parameters, deviations)]\n",
    "        parameters.append(candidate)\n",
    "    parameters = np.array(parameters)"
   ]
  },
  {
   "cell_type": "markdown",
   "metadata": {},
   "source": [
    "### Results"
   ]
  },
  {
   "cell_type": "code",
   "execution_count": 10,
   "metadata": {
    "ExecuteTime": {
     "end_time": "2019-07-22T08:06:58.347663Z",
     "start_time": "2019-07-22T08:06:57.164105Z"
    }
   },
   "outputs": [
    {
     "name": "stderr",
     "output_type": "stream",
     "text": [
      "C:\\Users\\ossi\\Anaconda3\\lib\\site-packages\\numpy\\core\\_methods.py:112: RuntimeWarning: invalid value encountered in subtract\n",
      "  x = asanyarray(arr - arrmean)\n"
     ]
    },
    {
     "data": {
      "image/png": "[encoded data removed]",
      "text/plain": [
       "<Figure size 432x288 with 1 Axes>"
      ]
     },
     "metadata": {},
     "output_type": "display_data"
    }
   ],
   "source": [
    "for i, row in enumerate(all_rsme_values,1):\n",
    "    rsme_min = min(row)\n",
    "    rsme_stdev = np.std(row)\n",
    "    rsme_mean = np.mean(row)\n",
    "    _ = plt.plot(i, rsme_min, 'bo')"
   ]
  },
  {
   "cell_type": "markdown",
   "metadata": {},
   "source": [
    "## Test refactored version"
   ]
  },
  {
   "cell_type": "code",
   "execution_count": 11,
   "metadata": {
    "ExecuteTime": {
     "end_time": "2019-07-22T08:06:58.421426Z",
     "start_time": "2019-07-22T08:06:58.349617Z"
    }
   },
   "outputs": [],
   "source": [
    "from solvers.ea_solver import EASolver"
   ]
  },
  {
   "cell_type": "code",
   "execution_count": 12,
   "metadata": {
    "ExecuteTime": {
     "end_time": "2019-07-22T08:07:11.329743Z",
     "start_time": "2019-07-22T08:06:58.424417Z"
    }
   },
   "outputs": [
    {
     "name": "stderr",
     "output_type": "stream",
     "text": [
      "INFO:solvers.solver_interface:Solution updated: Round 0, RSME 51.223102587597296\n",
      "INFO:solvers.solver_interface:Solution updated: Round 0, RSME 27.89854321334756\n",
      "INFO:solvers.solver_interface:Solution updated: Round 0, RSME 25.392270951003685\n",
      "INFO:solvers.solver_interface:Solution updated: Round 2, RSME 23.400902553223865\n",
      "INFO:solvers.solver_interface:Solution updated: Round 3, RSME 15.054008147873567\n",
      "INFO:solvers.solver_interface:Solution updated: Round 4, RSME 13.089135877128642\n",
      "INFO:solvers.solver_interface:Solution updated: Round 4, RSME 8.717770124993493\n",
      "INFO:solvers.solver_interface:Solution updated: Round 4, RSME 6.085804282998028\n",
      "INFO:solvers.solver_interface:Solution updated: Round 6, RSME 3.768256253104914\n",
      "INFO:solvers.solver_interface:Solution updated: Round 9, RSME 3.707555261958825\n",
      "INFO:solvers.solver_interface:Solution updated: Round 10, RSME 3.6380697363827883\n",
      "INFO:solvers.solver_interface:Solution updated: Round 13, RSME 3.4688643383857602\n",
      "INFO:solvers.solver_interface:Solution updated: Round 25, RSME 3.4671906852970804\n",
      "INFO:solvers.solver_interface:Solution updated: Round 35, RSME 3.4023124772444375\n",
      "INFO:solvers.solver_interface:Solution updated: Round 37, RSME 3.363848588652334\n",
      "INFO:solvers.solver_interface:Solution updated: Round 39, RSME 3.3611980764230855\n",
      "INFO:solvers.solver_interface:Solution updated: Round 39, RSME 3.3522992187643106\n",
      "INFO:solvers.solver_interface:Solution updated: Round 40, RSME 3.2937731288924965\n",
      "INFO:solvers.solver_interface:Solution updated: Round 40, RSME 3.2477298926268787\n",
      "INFO:solvers.solver_interface:Solution updated: Round 42, RSME 3.224670962278964\n",
      "INFO:solvers.solver_interface:Solution updated: Round 43, RSME 3.0826862860092956\n",
      "INFO:solvers.solver_interface:Solution updated: Round 47, RSME 3.023611414675148\n",
      "INFO:solvers.solver_interface:Solution updated: Round 48, RSME 3.0075887032686075\n",
      "INFO:solvers.solver_interface:Solution updated: Round 55, RSME 2.9651593513974293\n",
      "INFO:solvers.solver_interface:Solution updated: Round 56, RSME 2.90477020168911\n",
      "INFO:solvers.solver_interface:Solution updated: Round 59, RSME 2.881580154790194\n",
      "INFO:solvers.solver_interface:Solution updated: Round 59, RSME 2.849590651104308\n",
      "INFO:solvers.solver_interface:Solution updated: Round 60, RSME 2.8258675354169966\n",
      "INFO:solvers.solver_interface:Solution updated: Round 61, RSME 2.787615603878381\n",
      "INFO:solvers.solver_interface:Solution updated: Round 71, RSME 2.750896900113233\n",
      "INFO:solvers.solver_interface:Solution updated: Round 73, RSME 2.726634359897368\n",
      "INFO:solvers.solver_interface:Solution updated: Round 76, RSME 2.6921938059222703\n",
      "INFO:solvers.solver_interface:Solution updated: Round 79, RSME 2.658856123729678\n",
      "INFO:solvers.solver_interface:Solution updated: Round 81, RSME 2.655141698500933\n",
      "INFO:solvers.solver_interface:Solution updated: Round 82, RSME 2.617693528051989\n",
      "INFO:solvers.solver_interface:Solution updated: Round 83, RSME 2.612233689952981\n",
      "INFO:solvers.solver_interface:Solution updated: Round 85, RSME 2.6106538478397847\n",
      "INFO:solvers.solver_interface:Solution updated: Round 86, RSME 2.57183562284609\n",
      "INFO:solvers.solver_interface:Solution updated: Round 89, RSME 2.5497660227712804\n",
      "INFO:solvers.solver_interface:Solution updated: Round 90, RSME 2.536414495794633\n",
      "INFO:solvers.solver_interface:Solution updated: Round 90, RSME 2.506434557846792\n",
      "INFO:solvers.solver_interface:Solution updated: Round 90, RSME 2.5040984532967974\n",
      "INFO:solvers.solver_interface:Solution updated: Round 94, RSME 2.466738508053511\n",
      "INFO:solvers.solver_interface:Solution updated: Round 95, RSME 2.4475259568715804\n",
      "INFO:solvers.solver_interface:Solution updated: Round 98, RSME 2.4454870245696823\n",
      "INFO:solvers.solver_interface:Solution updated: Round 98, RSME 2.4186454689744963\n",
      "INFO:solvers.solver_interface:Solution updated: Round 99, RSME 2.400841739604611\n",
      "INFO:solvers.solver_interface:Solution updated: Round 100, RSME 2.3975149141537186\n",
      "INFO:solvers.solver_interface:Solution updated: Round 101, RSME 2.3464652179385834\n",
      "INFO:solvers.solver_interface:Solution updated: Round 102, RSME 2.338789816004231\n",
      "INFO:solvers.solver_interface:Solution updated: Round 102, RSME 2.3372205461076514\n",
      "INFO:solvers.solver_interface:Solution updated: Round 102, RSME 2.329706212480579\n",
      "INFO:solvers.solver_interface:Solution updated: Round 103, RSME 2.302494490224536\n",
      "INFO:solvers.solver_interface:Solution updated: Round 104, RSME 2.2968619677208997\n",
      "INFO:solvers.solver_interface:Solution updated: Round 105, RSME 2.296049184621122\n",
      "INFO:solvers.solver_interface:Solution updated: Round 108, RSME 2.280967518530233\n",
      "INFO:solvers.solver_interface:Solution updated: Round 111, RSME 2.279638681115958\n",
      "INFO:solvers.solver_interface:Solution updated: Round 114, RSME 2.2219380919848217\n",
      "INFO:solvers.solver_interface:Solution updated: Round 115, RSME 2.186783506327618\n",
      "INFO:solvers.solver_interface:Solution updated: Round 115, RSME 2.1690795969325496\n",
      "INFO:solvers.solver_interface:Solution updated: Round 117, RSME 2.1575729308190743\n",
      "INFO:solvers.solver_interface:Solution updated: Round 118, RSME 2.1292051957838813\n",
      "INFO:solvers.solver_interface:Solution updated: Round 123, RSME 2.0904800572651485\n",
      "INFO:solvers.solver_interface:Solution updated: Round 127, RSME 2.0846797960011343\n",
      "INFO:solvers.solver_interface:Solution updated: Round 128, RSME 2.0512598521092675\n",
      "INFO:solvers.solver_interface:Solution updated: Round 130, RSME 2.0380922403089525\n",
      "INFO:solvers.solver_interface:Solution updated: Round 132, RSME 2.0256739759059585\n",
      "INFO:solvers.solver_interface:Solution updated: Round 132, RSME 2.0176422894314667\n",
      "INFO:solvers.solver_interface:Solution updated: Round 133, RSME 1.9965505732045792\n",
      "INFO:solvers.solver_interface:Solution updated: Round 134, RSME 1.9814508324886335\n",
      "INFO:solvers.solver_interface:Solution updated: Round 135, RSME 1.9603781779288445\n",
      "INFO:solvers.solver_interface:Solution updated: Round 136, RSME 1.904299422897698\n",
      "INFO:solvers.solver_interface:Solution updated: Round 141, RSME 1.8922983582100537\n",
      "INFO:solvers.solver_interface:Solution updated: Round 144, RSME 1.8549021754568258\n",
      "INFO:solvers.solver_interface:Solution updated: Round 145, RSME 1.8438979892636675\n",
      "INFO:solvers.solver_interface:Solution updated: Round 146, RSME 1.8425496501228125\n",
      "INFO:solvers.solver_interface:Solution updated: Round 147, RSME 1.7939548958353413\n",
      "INFO:solvers.solver_interface:Solution updated: Round 152, RSME 1.7895729852779876\n",
      "INFO:solvers.solver_interface:Solution updated: Round 153, RSME 1.7878304365181132\n",
      "INFO:solvers.solver_interface:Solution updated: Round 154, RSME 1.7857734300469472\n",
      "INFO:solvers.solver_interface:Solution updated: Round 155, RSME 1.7709787362317817\n",
      "INFO:solvers.solver_interface:Solution updated: Round 157, RSME 1.7667212227409295\n",
      "INFO:solvers.solver_interface:Solution updated: Round 159, RSME 1.7541133319125854\n",
      "INFO:solvers.solver_interface:Solution updated: Round 159, RSME 1.7518425937018534\n",
      "INFO:solvers.solver_interface:Solution updated: Round 163, RSME 1.7506706934453993\n",
      "INFO:solvers.solver_interface:Solution updated: Round 163, RSME 1.747604773440457\n",
      "INFO:solvers.solver_interface:Solution updated: Round 163, RSME 1.7385773037028514\n",
      "INFO:solvers.solver_interface:Solution updated: Round 167, RSME 1.732982627283188\n",
      "INFO:solvers.solver_interface:Solution updated: Round 169, RSME 1.7068789126465427\n",
      "INFO:solvers.solver_interface:Solution updated: Round 172, RSME 1.7035592072789092\n",
      "INFO:solvers.solver_interface:Solution updated: Round 173, RSME 1.6977604764271454\n",
      "INFO:solvers.solver_interface:Solution updated: Round 174, RSME 1.6666583605339764\n",
      "INFO:solvers.solver_interface:Solution updated: Round 174, RSME 1.6563328737286471\n",
      "INFO:solvers.solver_interface:Solution updated: Round 177, RSME 1.6413685387282906\n",
      "INFO:solvers.solver_interface:Solution updated: Round 180, RSME 1.632494619839903\n",
      "INFO:solvers.solver_interface:Solution updated: Round 181, RSME 1.6192390540057764\n",
      "INFO:solvers.solver_interface:Solution updated: Round 183, RSME 1.60999044201721\n",
      "INFO:solvers.solver_interface:Solution updated: Round 184, RSME 1.6033631625256517\n",
      "INFO:solvers.solver_interface:Solution updated: Round 184, RSME 1.599420529684451\n"
     ]
    },
    {
     "name": "stderr",
     "output_type": "stream",
     "text": [
      "INFO:solvers.solver_interface:Solution updated: Round 184, RSME 1.5840392854310847\n",
      "INFO:solvers.solver_interface:Solution updated: Round 189, RSME 1.5810381564242273\n",
      "INFO:solvers.solver_interface:Solution updated: Round 191, RSME 1.5583347563438223\n",
      "INFO:solvers.solver_interface:Solution updated: Round 192, RSME 1.5463744802401653\n",
      "INFO:solvers.solver_interface:Solution updated: Round 194, RSME 1.5303348905670102\n",
      "INFO:solvers.solver_interface:Solution updated: Round 195, RSME 1.5239365507681744\n",
      "INFO:solvers.solver_interface:Solution updated: Round 197, RSME 1.5211962157166214\n",
      "INFO:solvers.solver_interface:Solution updated: Round 200, RSME 1.5139820173825687\n",
      "INFO:solvers.solver_interface:Solution updated: Round 200, RSME 1.512917849104187\n",
      "INFO:solvers.solver_interface:Solution updated: Round 206, RSME 1.5061393650377497\n",
      "INFO:solvers.solver_interface:Solution updated: Round 208, RSME 1.5059714250742913\n",
      "INFO:solvers.solver_interface:Solution updated: Round 210, RSME 1.4837596175116297\n",
      "INFO:solvers.solver_interface:Solution updated: Round 211, RSME 1.478260921752184\n",
      "INFO:solvers.solver_interface:Solution updated: Round 213, RSME 1.4727181455643932\n",
      "INFO:solvers.solver_interface:Solution updated: Round 213, RSME 1.472253277348223\n",
      "INFO:solvers.solver_interface:Solution updated: Round 219, RSME 1.4690993028372368\n",
      "INFO:solvers.solver_interface:Solution updated: Round 223, RSME 1.4679935465976508\n",
      "INFO:solvers.solver_interface:Solution updated: Round 224, RSME 1.4531249127990105\n",
      "INFO:solvers.solver_interface:Solution updated: Round 225, RSME 1.4487578103954744\n",
      "INFO:solvers.solver_interface:Solution updated: Round 226, RSME 1.4478916375731654\n",
      "INFO:solvers.solver_interface:Solution updated: Round 227, RSME 1.4364673832060533\n",
      "INFO:solvers.solver_interface:Solution updated: Round 228, RSME 1.4264712413014606\n",
      "INFO:solvers.solver_interface:Solution updated: Round 229, RSME 1.426004540667884\n",
      "INFO:solvers.solver_interface:Solution updated: Round 230, RSME 1.4238763222818713\n",
      "INFO:solvers.solver_interface:Solution updated: Round 230, RSME 1.4075173956236944\n",
      "INFO:solvers.solver_interface:Solution updated: Round 237, RSME 1.4024961226011385\n",
      "INFO:solvers.solver_interface:Solution updated: Round 238, RSME 1.4015607785851767\n",
      "INFO:solvers.solver_interface:Solution updated: Round 241, RSME 1.4009906868849487\n",
      "INFO:solvers.solver_interface:Solution updated: Round 242, RSME 1.3972064916514682\n",
      "INFO:solvers.solver_interface:Solution updated: Round 243, RSME 1.3931878368823551\n",
      "INFO:solvers.solver_interface:Solution updated: Round 245, RSME 1.3861098833302072\n",
      "INFO:solvers.solver_interface:Solution updated: Round 246, RSME 1.3792388828009947\n",
      "INFO:solvers.solver_interface:Solution updated: Round 248, RSME 1.3681312868906226\n",
      "INFO:solvers.solver_interface:Solution updated: Round 251, RSME 1.3557739783507439\n",
      "INFO:solvers.solver_interface:Solution updated: Round 255, RSME 1.353254082495352\n",
      "INFO:solvers.solver_interface:Solution updated: Round 260, RSME 1.351457713407957\n",
      "INFO:solvers.solver_interface:Solution updated: Round 261, RSME 1.3495688150619796\n",
      "INFO:solvers.solver_interface:Solution updated: Round 262, RSME 1.3299478990266826\n",
      "INFO:solvers.solver_interface:Solution updated: Round 263, RSME 1.3161407246085612\n",
      "INFO:solvers.solver_interface:Solution updated: Round 267, RSME 1.3106585200912024\n",
      "INFO:solvers.solver_interface:Solution updated: Round 268, RSME 1.3047611958311747\n",
      "INFO:solvers.solver_interface:Solution updated: Round 270, RSME 1.2943963535615597\n",
      "INFO:solvers.solver_interface:Solution updated: Round 271, RSME 1.2908305354504128\n",
      "INFO:solvers.solver_interface:Solution updated: Round 272, RSME 1.2899728503579158\n",
      "INFO:solvers.solver_interface:Solution updated: Round 273, RSME 1.286907239773591\n",
      "INFO:solvers.solver_interface:Solution updated: Round 274, RSME 1.285784903011853\n",
      "INFO:solvers.solver_interface:Solution updated: Round 275, RSME 1.2788786754534613\n",
      "INFO:solvers.solver_interface:Solution updated: Round 278, RSME 1.2766506428201052\n",
      "INFO:solvers.solver_interface:Solution updated: Round 280, RSME 1.272878242664838\n",
      "INFO:solvers.solver_interface:Solution updated: Round 281, RSME 1.2678475393320012\n",
      "INFO:solvers.solver_interface:Solution updated: Round 287, RSME 1.2624281544444782\n",
      "INFO:solvers.solver_interface:Solution updated: Round 289, RSME 1.2540052250037361\n",
      "INFO:solvers.solver_interface:Solution updated: Round 290, RSME 1.249577627544952\n",
      "INFO:solvers.solver_interface:Solution updated: Round 290, RSME 1.2472383469422275\n",
      "INFO:solvers.solver_interface:Solution updated: Round 291, RSME 1.239283846908749\n",
      "INFO:solvers.solver_interface:Solution updated: Round 292, RSME 1.2366196949506447\n",
      "INFO:solvers.solver_interface:Solution updated: Round 294, RSME 1.2325512724014605\n",
      "INFO:solvers.solver_interface:Solution updated: Round 297, RSME 1.231782839199025\n",
      "INFO:solvers.solver_interface:Solution updated: Round 297, RSME 1.230346629749062\n",
      "INFO:solvers.solver_interface:Solution updated: Round 298, RSME 1.228944632917341\n",
      "INFO:solvers.solver_interface:Solution updated: Round 300, RSME 1.2218459236593955\n",
      "INFO:solvers.solver_interface:Solution updated: Round 302, RSME 1.2210411228036693\n",
      "INFO:solvers.solver_interface:Solution updated: Round 304, RSME 1.220371738551062\n",
      "INFO:solvers.solver_interface:Solution updated: Round 305, RSME 1.2165354744857007\n",
      "INFO:solvers.solver_interface:Solution updated: Round 306, RSME 1.2161273409003308\n",
      "INFO:solvers.solver_interface:Solution updated: Round 307, RSME 1.2130001593358284\n",
      "INFO:solvers.solver_interface:Solution updated: Round 311, RSME 1.2116679197020948\n",
      "INFO:solvers.solver_interface:Solution updated: Round 318, RSME 1.209965836364812\n",
      "INFO:solvers.solver_interface:Solution updated: Round 320, RSME 1.2099066991679928\n",
      "INFO:solvers.solver_interface:Solution updated: Round 320, RSME 1.209242987429646\n",
      "INFO:solvers.solver_interface:Solution updated: Round 320, RSME 1.2045475564495314\n",
      "INFO:solvers.solver_interface:Solution updated: Round 321, RSME 1.1996326019106003\n",
      "INFO:solvers.solver_interface:Solution updated: Round 323, RSME 1.194142079850715\n",
      "INFO:solvers.solver_interface:Solution updated: Round 324, RSME 1.1843891127076058\n",
      "INFO:solvers.solver_interface:Solution updated: Round 325, RSME 1.184165887641343\n",
      "INFO:solvers.solver_interface:Solution updated: Round 326, RSME 1.1827651969446942\n",
      "INFO:solvers.solver_interface:Solution updated: Round 326, RSME 1.182138521369026\n",
      "INFO:solvers.solver_interface:Solution updated: Round 328, RSME 1.1811778257069037\n",
      "INFO:solvers.solver_interface:Solution updated: Round 331, RSME 1.1798674504983848\n",
      "INFO:solvers.solver_interface:Solution updated: Round 335, RSME 1.1746286606890943\n",
      "INFO:solvers.solver_interface:Solution updated: Round 335, RSME 1.1700069426762507\n",
      "INFO:solvers.solver_interface:Solution updated: Round 336, RSME 1.1675709468450277\n",
      "INFO:solvers.solver_interface:Solution updated: Round 341, RSME 1.1661194366729932\n",
      "INFO:solvers.solver_interface:Solution updated: Round 345, RSME 1.1626052397917173\n",
      "INFO:solvers.solver_interface:Solution updated: Round 347, RSME 1.1611791154474538\n",
      "INFO:solvers.solver_interface:Solution updated: Round 349, RSME 1.1608884195925642\n",
      "INFO:solvers.solver_interface:Solution updated: Round 351, RSME 1.155503452190211\n",
      "INFO:solvers.solver_interface:Solution updated: Round 353, RSME 1.1513535887889605\n",
      "INFO:solvers.solver_interface:Solution updated: Round 354, RSME 1.14988280887433\n",
      "INFO:solvers.solver_interface:Solution updated: Round 355, RSME 1.1431827318186831\n",
      "INFO:solvers.solver_interface:Solution updated: Round 359, RSME 1.1411381781341896\n",
      "INFO:solvers.solver_interface:Solution updated: Round 360, RSME 1.1372409289605172\n",
      "INFO:solvers.solver_interface:Solution updated: Round 361, RSME 1.1363701644865594\n",
      "INFO:solvers.solver_interface:Solution updated: Round 362, RSME 1.131322552934877\n",
      "INFO:solvers.solver_interface:Solution updated: Round 364, RSME 1.1239762315664854\n",
      "INFO:solvers.solver_interface:Solution updated: Round 364, RSME 1.123121953534522\n",
      "INFO:solvers.solver_interface:Solution updated: Round 368, RSME 1.1228055785796578\n",
      "INFO:solvers.solver_interface:Solution updated: Round 370, RSME 1.116931781819709\n",
      "INFO:solvers.solver_interface:Solution updated: Round 372, RSME 1.1117484630102534\n",
      "INFO:solvers.solver_interface:Solution updated: Round 373, RSME 1.1083304776853946\n"
     ]
    },
    {
     "name": "stderr",
     "output_type": "stream",
     "text": [
      "INFO:solvers.solver_interface:Solution updated: Round 375, RSME 1.1063208490519443\n",
      "INFO:solvers.solver_interface:Solution updated: Round 377, RSME 1.1039804470236099\n",
      "INFO:solvers.solver_interface:Solution updated: Round 378, RSME 1.1035495382815421\n",
      "INFO:solvers.solver_interface:Solution updated: Round 381, RSME 1.1024722044489774\n",
      "INFO:solvers.solver_interface:Solution updated: Round 384, RSME 1.1020955998254216\n",
      "INFO:solvers.solver_interface:Solution updated: Round 386, RSME 1.0983376127722602\n",
      "INFO:solvers.solver_interface:Solution updated: Round 387, RSME 1.0965948086293076\n",
      "INFO:solvers.solver_interface:Solution updated: Round 388, RSME 1.0915953501964895\n",
      "INFO:solvers.solver_interface:Solution updated: Round 393, RSME 1.0911524621319255\n",
      "INFO:solvers.solver_interface:Solution updated: Round 394, RSME 1.0893783756383026\n",
      "INFO:solvers.solver_interface:Solution updated: Round 395, RSME 1.0862656765578969\n",
      "INFO:solvers.solver_interface:Solution updated: Round 396, RSME 1.0853303143973976\n",
      "INFO:solvers.solver_interface:Solution updated: Round 396, RSME 1.082864014807143\n",
      "INFO:solvers.solver_interface:Solution updated: Round 407, RSME 1.0798430137019042\n",
      "INFO:solvers.solver_interface:Solution updated: Round 410, RSME 1.0774468928849552\n",
      "INFO:solvers.solver_interface:Solution updated: Round 420, RSME 1.0751149693860835\n",
      "INFO:solvers.solver_interface:Solution updated: Round 422, RSME 1.072259196586664\n",
      "INFO:solvers.solver_interface:Solution updated: Round 423, RSME 1.0704400942599088\n",
      "INFO:solvers.solver_interface:Solution updated: Round 423, RSME 1.0659653290354545\n",
      "INFO:solvers.solver_interface:Solution updated: Round 425, RSME 1.0631647507286188\n",
      "INFO:solvers.solver_interface:Solution updated: Round 428, RSME 1.061068359712903\n",
      "INFO:solvers.solver_interface:Solution updated: Round 435, RSME 1.0598446864280953\n",
      "INFO:solvers.solver_interface:Solution updated: Round 436, RSME 1.0592923696573096\n",
      "INFO:solvers.solver_interface:Solution updated: Round 437, RSME 1.0575415697682555\n",
      "INFO:solvers.solver_interface:Solution updated: Round 438, RSME 1.0565835324419208\n",
      "INFO:solvers.solver_interface:Solution updated: Round 439, RSME 1.0557327046373723\n",
      "INFO:solvers.solver_interface:Solution updated: Round 444, RSME 1.0492027068374599\n",
      "INFO:solvers.solver_interface:Solution updated: Round 448, RSME 1.0478739845723897\n",
      "INFO:solvers.solver_interface:Solution updated: Round 449, RSME 1.0474870753798071\n",
      "INFO:solvers.solver_interface:Solution updated: Round 453, RSME 1.0436279939328286\n",
      "INFO:solvers.solver_interface:Solution updated: Round 454, RSME 1.0419770859061397\n",
      "INFO:solvers.solver_interface:Solution updated: Round 456, RSME 1.0409672299097266\n",
      "INFO:solvers.solver_interface:Solution updated: Round 457, RSME 1.036791533175057\n",
      "INFO:solvers.solver_interface:Solution updated: Round 475, RSME 1.0367736836730395\n",
      "INFO:solvers.solver_interface:Solution updated: Round 478, RSME 1.0343988930052601\n",
      "INFO:solvers.solver_interface:Solution updated: Round 482, RSME 1.031965227621513\n",
      "INFO:solvers.solver_interface:Solution updated: Round 486, RSME 1.0273401682930101\n",
      "INFO:solvers.solver_interface:Solution updated: Round 487, RSME 1.02002914669711\n",
      "INFO:solvers.solver_interface:Solution updated: Round 493, RSME 1.0169451791603337\n",
      "INFO:solvers.solver_interface:Solution updated: Round 498, RSME 1.0157208712486192\n",
      "WARNING:solvers.solver_interface:Maximum number of generations reached. Iteration terminated at round 499.\n"
     ]
    }
   ],
   "source": [
    "solver = EASolver(X, pure_components, quadratic_correction)\n",
    "solution, parameters = solver.solve(signal)"
   ]
  }
 ],
 "metadata": {
  "kernelspec": {
   "display_name": "Python 3",
   "language": "python",
   "name": "python3"
  },
  "language_info": {
   "codemirror_mode": {
    "name": "ipython",
    "version": 3
   },
   "file_extension": ".py",
   "mimetype": "text/x-python",
   "name": "python",
   "nbconvert_exporter": "python",
   "pygments_lexer": "ipython3",
   "version": "3.6.5"
  },
  "varInspector": {
   "cols": {
    "lenName": 16,
    "lenType": 16,
    "lenVar": 40
   },
   "kernels_config": {
    "python": {
     "delete_cmd_postfix": "",
     "delete_cmd_prefix": "del ",
     "library": "var_list.py",
     "varRefreshCmd": "print(var_dic_list())"
    },
    "r": {
     "delete_cmd_postfix": ") ",
     "delete_cmd_prefix": "rm(",
     "library": "var_list.r",
     "varRefreshCmd": "cat(var_dic_list()) "
    }
   },
   "types_to_exclude": [
    "module",
    "function",
    "builtin_function_or_method",
    "instance",
    "_Feature"
   ],
   "window_display": false
  }
 },
 "nbformat": 4,
 "nbformat_minor": 2
}

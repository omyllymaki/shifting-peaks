{
 "cells": [
  {
   "cell_type": "markdown",
   "metadata": {},
   "source": [
    "# Evolutionary algorithm experiments"
   ]
  },
  {
   "cell_type": "code",
   "execution_count": 1,
   "metadata": {
    "ExecuteTime": {
     "end_time": "2019-07-19T11:32:04.842392Z",
     "start_time": "2019-07-19T11:32:04.385067Z"
    }
   },
   "outputs": [],
   "source": [
    "%matplotlib inline\n",
    "%load_ext autoreload\n",
    "%autoreload 2\n",
    "from IPython.core.interactiveshell import InteractiveShell\n",
    "InteractiveShell.ast_node_interactivity = \"all\""
   ]
  },
  {
   "cell_type": "markdown",
   "metadata": {},
   "source": [
    "## Imports"
   ]
  },
  {
   "cell_type": "code",
   "execution_count": 2,
   "metadata": {
    "ExecuteTime": {
     "end_time": "2019-07-19T11:32:05.098675Z",
     "start_time": "2019-07-19T11:32:04.844350Z"
    }
   },
   "outputs": [],
   "source": [
    "import matplotlib.pyplot as plt\n",
    "import numpy as np\n",
    "import logging\n",
    "import random\n",
    "\n",
    "from constants import PATH_PURE_COMPONENTS, PATH_MIXTURES, X\n",
    "from file_io import load_pickle_file\n",
    "from nnls_fit_with_x_axis_correction import analyze, nnls_fit_with_interpolated_library\n",
    "from utils import calculate_signal, nnls_fit, rsme\n",
    "from correction_models import quadratic_correction\n",
    "\n",
    "from numpy.random import normal\n",
    "\n",
    "logging.basicConfig(level=logging.INFO)"
   ]
  },
  {
   "cell_type": "markdown",
   "metadata": {},
   "source": [
    "## Load data"
   ]
  },
  {
   "cell_type": "code",
   "execution_count": 3,
   "metadata": {
    "ExecuteTime": {
     "end_time": "2019-07-19T11:32:05.188430Z",
     "start_time": "2019-07-19T11:32:05.100667Z"
    }
   },
   "outputs": [],
   "source": [
    "pure_components = load_pickle_file(PATH_PURE_COMPONENTS)\n",
    "mixtures_data = load_pickle_file(PATH_MIXTURES)"
   ]
  },
  {
   "cell_type": "markdown",
   "metadata": {},
   "source": [
    "## Experiment"
   ]
  },
  {
   "cell_type": "markdown",
   "metadata": {},
   "source": [
    "### Constants"
   ]
  },
  {
   "cell_type": "code",
   "execution_count": 4,
   "metadata": {
    "ExecuteTime": {
     "end_time": "2019-07-19T11:32:05.277196Z",
     "start_time": "2019-07-19T11:32:05.191423Z"
    }
   },
   "outputs": [],
   "source": [
    "N_POPULATION = 200\n",
    "N_SURVIVORS = 30\n",
    "N_LINEAR_COMBINATIONS = 30\n",
    "N_MUTATIONS = 100\n",
    "INIT_GUESS = [0, 0, 0]\n",
    "INIT_DEVIATIONS = [0.01, 0.1, 1]\n",
    "N_MAX_GENERATIONS = 300\n",
    "RSME_THRESHOLD = 1\n",
    "N_STEADY_THRESHOLD = 50"
   ]
  },
  {
   "cell_type": "code",
   "execution_count": 5,
   "metadata": {
    "ExecuteTime": {
     "end_time": "2019-07-19T11:32:05.345015Z",
     "start_time": "2019-07-19T11:32:05.280186Z"
    }
   },
   "outputs": [],
   "source": [
    "correction_model = quadratic_correction\n",
    "x_original = X\n",
    "signal = mixtures_data[0]['signal']\n",
    "true = mixtures_data[0]['contributions']"
   ]
  },
  {
   "cell_type": "code",
   "execution_count": 6,
   "metadata": {
    "ExecuteTime": {
     "end_time": "2019-07-19T11:32:05.409927Z",
     "start_time": "2019-07-19T11:32:05.347010Z"
    }
   },
   "outputs": [],
   "source": [
    "parameters = []\n",
    "for _ in range(N_POPULATION):\n",
    "    candidate = [normal(loc=mean, scale=stdev) for mean, stdev in zip(INIT_GUESS, INIT_DEVIATIONS)]\n",
    "    parameters.append(candidate)\n",
    "parameters = np.array(parameters) \n",
    "\n",
    "min_rsme = float(np.inf)\n",
    "best_solution = None\n",
    "all_rsme_values = []\n",
    "counter = 0"
   ]
  },
  {
   "cell_type": "code",
   "execution_count": 7,
   "metadata": {
    "ExecuteTime": {
     "end_time": "2019-07-19T11:32:06.366976Z",
     "start_time": "2019-07-19T11:32:05.411837Z"
    }
   },
   "outputs": [
    {
     "name": "stdout",
     "output_type": "stream",
     "text": [
      "1 397.6354323978395 [ 22.93681107 379.79457428 104.01265429]\n",
      "1 153.50620866777683 [ 26.48047689 401.23284563  43.41767272]\n",
      "1 59.08164876903521 [ 28.02552106 406.7114874    0.        ]\n",
      "2 54.1837160115064 [ 27.47152746 383.05897491   1.42254491]\n",
      "3 52.4424807372524 [ 27.45874737 402.4974974    0.        ]\n",
      "3 46.689236478963856 [ 28.25213898 402.2751003    0.        ]\n",
      "3 40.98372723404363 [ 26.28471376 377.66840546  25.15037575]\n",
      "3 11.977130739323222 [ 26.03508433 391.95784883   6.39823719]\n",
      "8 3.1997944151696043 [ 25.80648409 390.25562094  13.53862995]\n",
      "RSME didn't change in last 50 rounds. Iteration terminated at round 59.\n",
      "True contributions:  [ 25.53884062 389.36144086  14.74869716]\n"
     ]
    }
   ],
   "source": [
    "for k in range(1, N_MAX_GENERATIONS):\n",
    "    counter += 1\n",
    "    rsme_values = []\n",
    "    \n",
    "    for candidate in parameters:\n",
    "        x_target = correction_model(x_original, candidate)\n",
    "        \n",
    "        if min(x_target) < -50:\n",
    "            rsme_values.append(float(np.inf))\n",
    "            continue\n",
    "        if max(x_target) > 150:\n",
    "            rsme_values.append(float(np.inf))\n",
    "            continue\n",
    "            \n",
    "        solution, residual = nnls_fit_with_interpolated_library(x_original, x_target, pure_components, signal)\n",
    "        rsme_value = rsme(residual)\n",
    "        rsme_values.append(rsme_value)\n",
    "        if rsme_value < min_rsme:\n",
    "            min_rsme = rsme_value\n",
    "            best_solution = solution\n",
    "            counter = 0\n",
    "            print(k, min_rsme, solution)\n",
    "    \n",
    "    all_rsme_values.append(rsme_values)\n",
    "    \n",
    "    if min_rsme < RSME_THRESHOLD:\n",
    "        print(f'Target RSME treshold reached. Iteration terminated at round {k}.')\n",
    "        break\n",
    "        \n",
    "    if counter > N_STEADY_THRESHOLD:\n",
    "        print(f\"RSME didn't change in last {N_STEADY_THRESHOLD} rounds. Iteration terminated at round {k}.\")\n",
    "        break\n",
    "    \n",
    "    sorted_indices = np.argsort(rsme_values)\n",
    "    survivors = parameters[sorted_indices][:N_SURVIVORS]\n",
    "    best_parameters = survivors[0]\n",
    "\n",
    "    parameters = []\n",
    "    parameters.append(best_parameters)\n",
    "\n",
    "    for _ in range(N_LINEAR_COMBINATIONS):\n",
    "        candidate = [random.choice(column) for column in survivors.T]\n",
    "        parameters.append(candidate)\n",
    "\n",
    "    for _ in range(N_MUTATIONS):\n",
    "        candidate = [normal(loc=mean, scale=stdev) for mean, stdev in zip(best_parameters, INIT_DEVIATIONS)]\n",
    "        parameters.append(candidate)\n",
    "\n",
    "    for _ in range(N_POPULATION - len(parameters)):\n",
    "        candidate = [normal(loc=mean, scale=stdev) for mean, stdev in zip(INIT_GUESS, INIT_DEVIATIONS)]\n",
    "        parameters.append(candidate)\n",
    "    \n",
    "    parameters = np.array(parameters)\n",
    "\n",
    "print('True contributions: ', true)"
   ]
  },
  {
   "cell_type": "code",
   "execution_count": 8,
   "metadata": {
    "ExecuteTime": {
     "end_time": "2019-07-19T11:32:06.660233Z",
     "start_time": "2019-07-19T11:32:06.368970Z"
    }
   },
   "outputs": [
    {
     "name": "stderr",
     "output_type": "stream",
     "text": [
      "C:\\Users\\ossi\\Anaconda3\\lib\\site-packages\\numpy\\core\\_methods.py:112: RuntimeWarning: invalid value encountered in subtract\n",
      "  x = asanyarray(arr - arrmean)\n"
     ]
    },
    {
     "data": {
      "image/png": "[encoded data removed]",
      "text/plain": [
       "<Figure size 432x288 with 1 Axes>"
      ]
     },
     "metadata": {},
     "output_type": "display_data"
    }
   ],
   "source": [
    "for i, row in enumerate(all_rsme_values,1):\n",
    "    rsme_min = min(row)\n",
    "    rsme_stdev = np.std(row)\n",
    "    rsme_mean = np.mean(row)\n",
    "    _ = plt.plot(i, rsme_min, 'bo')"
   ]
  }
 ],
 "metadata": {
  "kernelspec": {
   "display_name": "Python 3",
   "language": "python",
   "name": "python3"
  },
  "language_info": {
   "codemirror_mode": {
    "name": "ipython",
    "version": 3
   },
   "file_extension": ".py",
   "mimetype": "text/x-python",
   "name": "python",
   "nbconvert_exporter": "python",
   "pygments_lexer": "ipython3",
   "version": "3.6.5"
  },
  "varInspector": {
   "cols": {
    "lenName": 16,
    "lenType": 16,
    "lenVar": 40
   },
   "kernels_config": {
    "python": {
     "delete_cmd_postfix": "",
     "delete_cmd_prefix": "del ",
     "library": "var_list.py",
     "varRefreshCmd": "print(var_dic_list())"
    },
    "r": {
     "delete_cmd_postfix": ") ",
     "delete_cmd_prefix": "rm(",
     "library": "var_list.r",
     "varRefreshCmd": "cat(var_dic_list()) "
    }
   },
   "types_to_exclude": [
    "module",
    "function",
    "builtin_function_or_method",
    "instance",
    "_Feature"
   ],
   "window_display": false
  }
 },
 "nbformat": 4,
 "nbformat_minor": 2
}

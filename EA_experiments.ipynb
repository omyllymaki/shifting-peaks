{
 "cells": [
  {
   "cell_type": "markdown",
   "metadata": {},
   "source": [
    "# Evolutionary algorithm experiments"
   ]
  },
  {
   "cell_type": "code",
   "execution_count": 1,
   "metadata": {
    "ExecuteTime": {
     "end_time": "2019-07-20T07:50:54.617225Z",
     "start_time": "2019-07-20T07:50:54.182627Z"
    }
   },
   "outputs": [],
   "source": [
    "%matplotlib inline\n",
    "%load_ext autoreload\n",
    "%autoreload 2\n",
    "from IPython.core.interactiveshell import InteractiveShell\n",
    "InteractiveShell.ast_node_interactivity = \"all\""
   ]
  },
  {
   "cell_type": "markdown",
   "metadata": {},
   "source": [
    "## Imports"
   ]
  },
  {
   "cell_type": "code",
   "execution_count": 2,
   "metadata": {
    "ExecuteTime": {
     "end_time": "2019-07-20T07:50:54.801248Z",
     "start_time": "2019-07-20T07:50:54.617225Z"
    }
   },
   "outputs": [],
   "source": [
    "import matplotlib.pyplot as plt\n",
    "import numpy as np\n",
    "import logging\n",
    "import random\n",
    "\n",
    "from constants import PATH_PURE_COMPONENTS, PATH_MIXTURES, X\n",
    "from file_io import load_pickle_file\n",
    "from nnls_fit_with_x_axis_correction import analyze, nnls_fit_with_interpolated_library\n",
    "from utils import calculate_signal, nnls_fit, rsme\n",
    "from correction_models import quadratic_correction\n",
    "\n",
    "from numpy.random import normal\n",
    "\n",
    "logging.basicConfig(level=logging.INFO)"
   ]
  },
  {
   "cell_type": "markdown",
   "metadata": {},
   "source": [
    "## Load data"
   ]
  },
  {
   "cell_type": "code",
   "execution_count": 3,
   "metadata": {
    "ExecuteTime": {
     "end_time": "2019-07-20T07:50:54.868069Z",
     "start_time": "2019-07-20T07:50:54.802184Z"
    }
   },
   "outputs": [],
   "source": [
    "pure_components = load_pickle_file(PATH_PURE_COMPONENTS)\n",
    "mixtures_data = load_pickle_file(PATH_MIXTURES)"
   ]
  },
  {
   "cell_type": "markdown",
   "metadata": {},
   "source": [
    "## Analysis"
   ]
  },
  {
   "cell_type": "markdown",
   "metadata": {},
   "source": [
    "### Constants"
   ]
  },
  {
   "cell_type": "code",
   "execution_count": 4,
   "metadata": {
    "ExecuteTime": {
     "end_time": "2019-07-20T07:50:54.933903Z",
     "start_time": "2019-07-20T07:50:54.870003Z"
    }
   },
   "outputs": [],
   "source": [
    "N_POPULATION = 200\n",
    "N_SURVIVORS = 30\n",
    "N_LINEAR_COMBINATIONS = 30\n",
    "N_MUTATIONS = 100\n",
    "INIT_GUESS = [0, 0, 0]\n",
    "INIT_DEVIATIONS = [0.01, 0.1, 1]\n",
    "N_MAX_GENERATIONS = 300\n",
    "RSME_THRESHOLD = 2\n",
    "N_STEADY_THRESHOLD = 50\n",
    "MAX_X_DEVIATION = 50"
   ]
  },
  {
   "cell_type": "code",
   "execution_count": 5,
   "metadata": {
    "ExecuteTime": {
     "end_time": "2019-07-20T07:50:54.997685Z",
     "start_time": "2019-07-20T07:50:54.935827Z"
    }
   },
   "outputs": [],
   "source": [
    "correction_model = quadratic_correction\n",
    "x_original = X\n",
    "signal = mixtures_data[0]['signal']\n",
    "true = mixtures_data[0]['contributions']"
   ]
  },
  {
   "cell_type": "markdown",
   "metadata": {},
   "source": [
    "### Optimization"
   ]
  },
  {
   "cell_type": "code",
   "execution_count": 6,
   "metadata": {
    "ExecuteTime": {
     "end_time": "2019-07-20T07:50:55.062854Z",
     "start_time": "2019-07-20T07:50:54.999656Z"
    }
   },
   "outputs": [],
   "source": [
    "parameters = []\n",
    "for _ in range(N_POPULATION):\n",
    "    candidate = [normal(loc=mean, scale=stdev) for mean, stdev in zip(INIT_GUESS, INIT_DEVIATIONS)]\n",
    "    parameters.append(candidate)\n",
    "parameters = np.array(parameters) \n",
    "\n",
    "min_rsme = float(np.inf)\n",
    "best_solution = None\n",
    "all_rsme_values = []\n",
    "counter = 0"
   ]
  },
  {
   "cell_type": "code",
   "execution_count": 7,
   "metadata": {
    "ExecuteTime": {
     "end_time": "2019-07-20T07:50:56.858460Z",
     "start_time": "2019-07-20T07:50:55.063850Z"
    }
   },
   "outputs": [
    {
     "name": "stdout",
     "output_type": "stream",
     "text": [
      "1 898.3911802572093 [54.18181952 85.97987551  0.        ]\n",
      "1 581.926856776246 [ 34.59144026 278.95068951   0.        ]\n",
      "1 252.25676645690578 [ 28.14669585 346.97768173   0.        ]\n",
      "1 83.73780100448437 [ 25.11168285 385.29931371  53.80329762]\n",
      "1 30.081501508525555 [ 27.79355489 398.46234507   2.50372241]\n",
      "5 9.655628201387787 [ 25.57545844 389.07986233  19.48269917]\n",
      "7 5.008113759262555 [ 26.06901166 390.3440083   12.56862681]\n",
      "26 4.216652639739476 [ 26.03998684 390.26993106  13.20155727]\n",
      "66 2.763539398357712 [ 25.73192142 389.03000789  16.77395809]\n",
      "RSME didn't change in last 50 rounds. Iteration terminated at round 117.\n",
      "True contributions:  [ 25.53884062 389.36144086  14.74869716]\n"
     ]
    }
   ],
   "source": [
    "for k in range(1, N_MAX_GENERATIONS):\n",
    "    counter += 1\n",
    "    rsme_values = []\n",
    "    \n",
    "    for candidate in parameters:\n",
    "        x_target = correction_model(x_original, candidate)\n",
    "        \n",
    "        if abs(min(x_target) - min(x_original)) > MAX_X_DEVIATION:\n",
    "            rsme_values.append(float(np.inf))\n",
    "            continue\n",
    "        if abs(max(x_target) - max(x_original)) > MAX_X_DEVIATION:\n",
    "            rsme_values.append(float(np.inf))\n",
    "            continue\n",
    "            \n",
    "        solution, residual = nnls_fit_with_interpolated_library(x_original, x_target, pure_components, signal)\n",
    "        rsme_value = rsme(residual)\n",
    "        rsme_values.append(rsme_value)\n",
    "        if rsme_value < min_rsme:\n",
    "            min_rsme = rsme_value\n",
    "            best_solution = solution\n",
    "            counter = 0\n",
    "            print(k, min_rsme, solution)\n",
    "    \n",
    "    all_rsme_values.append(rsme_values)\n",
    "    \n",
    "    if min_rsme < RSME_THRESHOLD:\n",
    "        print(f'Target RSME reached. Iteration terminated at round {k}.')\n",
    "        break\n",
    "        \n",
    "    if counter > N_STEADY_THRESHOLD:\n",
    "        print(f\"RSME didn't change in last {N_STEADY_THRESHOLD} rounds. Iteration terminated at round {k}.\")\n",
    "        break\n",
    "    \n",
    "    sorted_indices = np.argsort(rsme_values)\n",
    "    survivors = parameters[sorted_indices][:N_SURVIVORS]\n",
    "    best_parameters = survivors[0]\n",
    "\n",
    "    parameters = []\n",
    "    parameters.append(best_parameters)\n",
    "\n",
    "    for _ in range(N_LINEAR_COMBINATIONS):\n",
    "        candidate = [random.choice(column) for column in survivors.T]\n",
    "        parameters.append(candidate)\n",
    "\n",
    "    for _ in range(N_MUTATIONS):\n",
    "        candidate = [normal(loc=mean, scale=stdev) for mean, stdev in zip(best_parameters, INIT_DEVIATIONS)]\n",
    "        parameters.append(candidate)\n",
    "\n",
    "    for _ in range(N_POPULATION - len(parameters)):\n",
    "        candidate = [normal(loc=mean, scale=stdev) for mean, stdev in zip(INIT_GUESS, INIT_DEVIATIONS)]\n",
    "        parameters.append(candidate)\n",
    "    \n",
    "    parameters = np.array(parameters)\n",
    "\n",
    "print('True contributions: ', true)"
   ]
  },
  {
   "cell_type": "markdown",
   "metadata": {},
   "source": [
    "### Results"
   ]
  },
  {
   "cell_type": "code",
   "execution_count": 8,
   "metadata": {
    "ExecuteTime": {
     "end_time": "2019-07-20T07:50:57.201581Z",
     "start_time": "2019-07-20T07:50:56.860454Z"
    }
   },
   "outputs": [
    {
     "name": "stderr",
     "output_type": "stream",
     "text": [
      "C:\\Users\\ossi\\Anaconda3\\lib\\site-packages\\numpy\\core\\_methods.py:112: RuntimeWarning: invalid value encountered in subtract\n",
      "  x = asanyarray(arr - arrmean)\n"
     ]
    },
    {
     "data": {
      "image/png": "[encoded data removed]",
      "text/plain": [
       "<Figure size 432x288 with 1 Axes>"
      ]
     },
     "metadata": {},
     "output_type": "display_data"
    }
   ],
   "source": [
    "for i, row in enumerate(all_rsme_values,1):\n",
    "    rsme_min = min(row)\n",
    "    rsme_stdev = np.std(row)\n",
    "    rsme_mean = np.mean(row)\n",
    "    _ = plt.plot(i, rsme_min, 'bo')"
   ]
  },
  {
   "cell_type": "markdown",
   "metadata": {},
   "source": [
    "## Test refactored version"
   ]
  },
  {
   "cell_type": "code",
   "execution_count": 9,
   "metadata": {
    "ExecuteTime": {
     "end_time": "2019-07-20T07:50:57.266368Z",
     "start_time": "2019-07-20T07:50:57.202540Z"
    }
   },
   "outputs": [],
   "source": [
    "from nnls_fit_with_x_axis_correction import solve_with_EA"
   ]
  },
  {
   "cell_type": "code",
   "execution_count": 10,
   "metadata": {
    "ExecuteTime": {
     "end_time": "2019-07-20T07:50:58.098147Z",
     "start_time": "2019-07-20T07:50:57.268364Z"
    }
   },
   "outputs": [
    {
     "name": "stderr",
     "output_type": "stream",
     "text": [
      "INFO:nnls_fit_with_x_axis_correction:Solution updated: Round 1, RSME 179.5281179016847\n",
      "INFO:nnls_fit_with_x_axis_correction:Solution updated: Round 1, RSME 173.19900733398228\n",
      "INFO:nnls_fit_with_x_axis_correction:Solution updated: Round 1, RSME 150.53750307646578\n",
      "INFO:nnls_fit_with_x_axis_correction:Solution updated: Round 1, RSME 98.7837728641146\n",
      "INFO:nnls_fit_with_x_axis_correction:Solution updated: Round 1, RSME 56.55576262136594\n",
      "INFO:nnls_fit_with_x_axis_correction:Solution updated: Round 1, RSME 37.77254084620927\n",
      "INFO:nnls_fit_with_x_axis_correction:Solution updated: Round 2, RSME 23.807669317749905\n",
      "INFO:nnls_fit_with_x_axis_correction:Solution updated: Round 3, RSME 21.715375652096682\n",
      "INFO:nnls_fit_with_x_axis_correction:Solution updated: Round 5, RSME 13.430299372350017\n",
      "INFO:nnls_fit_with_x_axis_correction:Solution updated: Round 6, RSME 12.650088210519797\n",
      "INFO:nnls_fit_with_x_axis_correction:Solution updated: Round 8, RSME 7.885072724238668\n",
      "INFO:nnls_fit_with_x_axis_correction:Solution updated: Round 13, RSME 7.608435379538007\n",
      "INFO:nnls_fit_with_x_axis_correction:Solution updated: Round 13, RSME 7.479409904608086\n",
      "INFO:nnls_fit_with_x_axis_correction:Solution updated: Round 15, RSME 7.41805599520369\n",
      "INFO:nnls_fit_with_x_axis_correction:Solution updated: Round 16, RSME 7.193834440991429\n",
      "INFO:nnls_fit_with_x_axis_correction:Solution updated: Round 19, RSME 7.005091481231697\n",
      "INFO:nnls_fit_with_x_axis_correction:Solution updated: Round 21, RSME 6.889309045991738\n",
      "INFO:nnls_fit_with_x_axis_correction:Solution updated: Round 22, RSME 6.691307916386561\n",
      "INFO:nnls_fit_with_x_axis_correction:Solution updated: Round 24, RSME 6.666325330896758\n",
      "INFO:nnls_fit_with_x_axis_correction:Solution updated: Round 27, RSME 6.6603002523263\n",
      "INFO:nnls_fit_with_x_axis_correction:Solution updated: Round 27, RSME 6.583909157759133\n",
      "INFO:nnls_fit_with_x_axis_correction:Solution updated: Round 31, RSME 6.556741307925252\n",
      "INFO:nnls_fit_with_x_axis_correction:Solution updated: Round 32, RSME 6.540226020850861\n",
      "INFO:nnls_fit_with_x_axis_correction:Solution updated: Round 33, RSME 6.503471490649457\n",
      "INFO:nnls_fit_with_x_axis_correction:Solution updated: Round 36, RSME 6.4966454892987375\n",
      "INFO:nnls_fit_with_x_axis_correction:Solution updated: Round 39, RSME 6.486226011746039\n",
      "INFO:nnls_fit_with_x_axis_correction:Solution updated: Round 39, RSME 2.9840286196718258\n",
      "INFO:nnls_fit_with_x_axis_correction:Solution updated: Round 40, RSME 2.1482125193305053\n",
      "INFO:nnls_fit_with_x_axis_correction:Solution updated: Round 40, RSME 1.701396435075334\n",
      "INFO:nnls_fit_with_x_axis_correction:Target RSME reached. Iteration terminated at round 40.\n"
     ]
    }
   ],
   "source": [
    "solution, parameters = solve_with_EA(x_original,\n",
    "                  signal,\n",
    "                  pure_components,\n",
    "                  correction_model,\n",
    "                                    n_max_generations=300)"
   ]
  },
  {
   "cell_type": "code",
   "execution_count": null,
   "metadata": {},
   "outputs": [],
   "source": []
  }
 ],
 "metadata": {
  "kernelspec": {
   "display_name": "Python 3",
   "language": "python",
   "name": "python3"
  },
  "language_info": {
   "codemirror_mode": {
    "name": "ipython",
    "version": 3
   },
   "file_extension": ".py",
   "mimetype": "text/x-python",
   "name": "python",
   "nbconvert_exporter": "python",
   "pygments_lexer": "ipython3",
   "version": "3.6.5"
  },
  "varInspector": {
   "cols": {
    "lenName": 16,
    "lenType": 16,
    "lenVar": 40
   },
   "kernels_config": {
    "python": {
     "delete_cmd_postfix": "",
     "delete_cmd_prefix": "del ",
     "library": "var_list.py",
     "varRefreshCmd": "print(var_dic_list())"
    },
    "r": {
     "delete_cmd_postfix": ") ",
     "delete_cmd_prefix": "rm(",
     "library": "var_list.r",
     "varRefreshCmd": "cat(var_dic_list()) "
    }
   },
   "types_to_exclude": [
    "module",
    "function",
    "builtin_function_or_method",
    "instance",
    "_Feature"
   ],
   "window_display": false
  }
 },
 "nbformat": 4,
 "nbformat_minor": 2
}

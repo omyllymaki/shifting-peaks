{
 "cells": [
  {
   "cell_type": "markdown",
   "metadata": {},
   "source": [
    "# Evolutionary algorithm experiments"
   ]
  },
  {
   "cell_type": "code",
   "execution_count": 1,
   "metadata": {
    "ExecuteTime": {
     "end_time": "2019-07-22T08:06:52.138955Z",
     "start_time": "2019-07-22T08:06:51.732963Z"
    }
   },
   "outputs": [],
   "source": [
    "%matplotlib inline\n",
    "%load_ext autoreload\n",
    "%autoreload 2\n",
    "from IPython.core.interactiveshell import InteractiveShell\n",
    "InteractiveShell.ast_node_interactivity = \"all\""
   ]
  },
  {
   "cell_type": "markdown",
   "metadata": {},
   "source": [
    "## Imports"
   ]
  },
  {
   "cell_type": "code",
   "execution_count": 2,
   "metadata": {
    "ExecuteTime": {
     "end_time": "2019-07-22T08:06:52.313207Z",
     "start_time": "2019-07-22T08:06:52.140906Z"
    }
   },
   "outputs": [],
   "source": [
    "import matplotlib.pyplot as plt\n",
    "import numpy as np\n",
    "import logging\n",
    "import random\n",
    "from typing import Tuple\n",
    "\n",
    "from constants import PATH_PURE_COMPONENTS, PATH_MIXTURES, X\n",
    "from file_io import load_pickle_file\n",
    "from solvers.math import *\n",
    "from solvers.correction_models import *\n",
    "\n",
    "from numpy.random import normal\n",
    "\n",
    "logging.basicConfig(level=logging.INFO)"
   ]
  },
  {
   "cell_type": "code",
   "execution_count": 3,
   "metadata": {
    "ExecuteTime": {
     "end_time": "2019-07-22T08:06:52.382280Z",
     "start_time": "2019-07-22T08:06:52.314952Z"
    }
   },
   "outputs": [],
   "source": [
    "logger = logging.getLogger(__name__)"
   ]
  },
  {
   "cell_type": "markdown",
   "metadata": {},
   "source": [
    "## Load data"
   ]
  },
  {
   "cell_type": "code",
   "execution_count": 4,
   "metadata": {
    "ExecuteTime": {
     "end_time": "2019-07-22T08:06:52.452091Z",
     "start_time": "2019-07-22T08:06:52.384274Z"
    }
   },
   "outputs": [],
   "source": [
    "pure_components = load_pickle_file(PATH_PURE_COMPONENTS)\n",
    "mixtures_data = load_pickle_file(PATH_MIXTURES)"
   ]
  },
  {
   "cell_type": "markdown",
   "metadata": {},
   "source": [
    "## Analysis"
   ]
  },
  {
   "cell_type": "markdown",
   "metadata": {},
   "source": [
    "### Constants"
   ]
  },
  {
   "cell_type": "code",
   "execution_count": 5,
   "metadata": {
    "ExecuteTime": {
     "end_time": "2019-07-22T08:06:52.517926Z",
     "start_time": "2019-07-22T08:06:52.454087Z"
    }
   },
   "outputs": [],
   "source": [
    "N_POPULATION = 200\n",
    "N_SURVIVORS = 30\n",
    "N_LINEAR_COMBINATIONS = 30\n",
    "N_MUTATIONS = 100\n",
    "INIT_GUESS = [0, 0, 0]\n",
    "INIT_DEVIATIONS = [0.01, 0.1, 1]\n",
    "N_MAX_GENERATIONS = 300\n",
    "RSME_THRESHOLD = 2\n",
    "N_STEADY_THRESHOLD = 50\n",
    "MAX_X_DEVIATION = 50"
   ]
  },
  {
   "cell_type": "code",
   "execution_count": 6,
   "metadata": {
    "ExecuteTime": {
     "end_time": "2019-07-22T08:06:52.594710Z",
     "start_time": "2019-07-22T08:06:52.519911Z"
    }
   },
   "outputs": [],
   "source": [
    "correction_model = quadratic_correction\n",
    "x_original = X\n",
    "signal = mixtures_data[0]['signal']\n",
    "true = mixtures_data[0]['contributions']"
   ]
  },
  {
   "cell_type": "markdown",
   "metadata": {},
   "source": [
    "### Optimization"
   ]
  },
  {
   "cell_type": "code",
   "execution_count": 7,
   "metadata": {
    "ExecuteTime": {
     "end_time": "2019-07-22T08:06:52.661532Z",
     "start_time": "2019-07-22T08:06:52.596705Z"
    }
   },
   "outputs": [],
   "source": [
    "correction_model = quadratic_correction\n",
    "n_population: int = 50\n",
    "n_survivors: int = None\n",
    "n_crossovers: int = None\n",
    "n_mutations: int = None\n",
    "init_guess: Tuple[float] = (0, 0, 0)\n",
    "deviations: Tuple[float] = (0.01, 0.1, 1)\n",
    "deviations_scaling: Tuple[float] = None\n",
    "n_max_generations: int = 500\n",
    "rsme_threshold: float = 1\n",
    "n_no_change_threshold: int = 50\n",
    "max_x_deviation: float = None\n",
    "scaled_proportion = 0.7"
   ]
  },
  {
   "cell_type": "code",
   "execution_count": 8,
   "metadata": {
    "ExecuteTime": {
     "end_time": "2019-07-22T08:06:52.727841Z",
     "start_time": "2019-07-22T08:06:52.663013Z"
    }
   },
   "outputs": [],
   "source": [
    "all_rsme_values = []"
   ]
  },
  {
   "cell_type": "code",
   "execution_count": 9,
   "metadata": {
    "ExecuteTime": {
     "end_time": "2019-07-22T08:06:57.162112Z",
     "start_time": "2019-07-22T08:06:52.730831Z"
    }
   },
   "outputs": [
    {
     "name": "stderr",
     "output_type": "stream",
     "text": [
      "INFO:__main__:Solution updated: Round 0, RSME 186.91740716300512\n",
      "INFO:__main__:Solution updated: Round 0, RSME 147.77012065707655\n",
      "INFO:__main__:Solution updated: Round 0, RSME 31.48692285445077\n",
      "INFO:__main__:Solution updated: Round 2, RSME 6.373865579021815\n",
      "INFO:__main__:Solution updated: Round 6, RSME 3.686622812057095\n",
      "INFO:__main__:Solution updated: Round 12, RSME 2.946895227233675\n",
      "INFO:__main__:Solution updated: Round 14, RSME 2.465510150628926\n",
      "INFO:__main__:Solution updated: Round 18, RSME 1.9887685685710792\n",
      "INFO:__main__:Solution updated: Round 19, RSME 1.8634895125227557\n",
      "INFO:__main__:Solution updated: Round 22, RSME 1.8171392609215584\n",
      "INFO:__main__:Solution updated: Round 26, RSME 1.6925217869838558\n",
      "INFO:__main__:Solution updated: Round 34, RSME 1.6574547336694794\n",
      "INFO:__main__:Solution updated: Round 37, RSME 1.6422331615510786\n",
      "INFO:__main__:Solution updated: Round 44, RSME 1.6288081993902286\n",
      "INFO:__main__:Solution updated: Round 51, RSME 1.627393542415505\n",
      "INFO:__main__:Solution updated: Round 52, RSME 1.544803589924656\n",
      "INFO:__main__:Solution updated: Round 58, RSME 1.5074977839993635\n",
      "INFO:__main__:Solution updated: Round 61, RSME 1.4870250641695426\n",
      "INFO:__main__:Solution updated: Round 62, RSME 1.399355718762092\n",
      "INFO:__main__:Solution updated: Round 68, RSME 1.3577565941193388\n",
      "INFO:__main__:Solution updated: Round 70, RSME 1.317253248044928\n",
      "INFO:__main__:Solution updated: Round 70, RSME 1.2731994579998749\n",
      "INFO:__main__:Solution updated: Round 74, RSME 1.26530720510319\n",
      "INFO:__main__:Solution updated: Round 75, RSME 1.2613405296544025\n",
      "INFO:__main__:Solution updated: Round 77, RSME 1.2367037503830247\n",
      "INFO:__main__:Solution updated: Round 84, RSME 1.232544251316396\n",
      "INFO:__main__:Solution updated: Round 88, RSME 1.210827345003194\n",
      "INFO:__main__:Solution updated: Round 89, RSME 1.1999060499757828\n",
      "INFO:__main__:Solution updated: Round 90, RSME 1.1802104174980688\n",
      "INFO:__main__:Solution updated: Round 112, RSME 1.1774695074105135\n",
      "INFO:__main__:Solution updated: Round 116, RSME 1.1661103349958755\n",
      "INFO:__main__:Solution updated: Round 124, RSME 1.1658633630464788\n",
      "INFO:__main__:Solution updated: Round 132, RSME 1.162938800367064\n",
      "INFO:__main__:Solution updated: Round 137, RSME 1.1612185175415077\n",
      "INFO:__main__:Solution updated: Round 142, RSME 1.1533124298741664\n",
      "INFO:__main__:Solution updated: Round 145, RSME 1.1454550175012561\n",
      "INFO:__main__:Solution updated: Round 145, RSME 1.1410205703065652\n",
      "INFO:__main__:Solution updated: Round 148, RSME 1.1402152902543772\n",
      "INFO:__main__:Solution updated: Round 154, RSME 1.1394456666644872\n",
      "INFO:__main__:Solution updated: Round 156, RSME 1.1385719340133507\n",
      "INFO:__main__:Solution updated: Round 177, RSME 1.1331282966102407\n",
      "INFO:__main__:Solution updated: Round 181, RSME 1.130503042057122\n",
      "INFO:__main__:Solution updated: Round 191, RSME 1.1154815436890606\n",
      "INFO:__main__:Solution updated: Round 194, RSME 1.1065167128157427\n",
      "INFO:__main__:Solution updated: Round 203, RSME 1.0922307438344763\n",
      "INFO:__main__:Solution updated: Round 204, RSME 1.0902745912890357\n",
      "INFO:__main__:Solution updated: Round 206, RSME 1.0823063481582154\n",
      "INFO:__main__:Solution updated: Round 216, RSME 1.0696163282194038\n",
      "INFO:__main__:Solution updated: Round 225, RSME 1.0643105335631835\n",
      "INFO:__main__:Solution updated: Round 225, RSME 1.0633799897376444\n",
      "INFO:__main__:Solution updated: Round 232, RSME 1.0627469572560673\n",
      "INFO:__main__:Solution updated: Round 235, RSME 1.0572698407368317\n",
      "INFO:__main__:Solution updated: Round 239, RSME 1.053276626883011\n",
      "INFO:__main__:Solution updated: Round 243, RSME 1.0468068782417168\n",
      "INFO:__main__:Solution updated: Round 246, RSME 1.0442585468181795\n",
      "INFO:__main__:Solution updated: Round 247, RSME 1.0327876945739616\n",
      "INFO:__main__:Solution updated: Round 249, RSME 1.0258719447803373\n",
      "INFO:__main__:Solution updated: Round 251, RSME 1.0226818802719013\n",
      "INFO:__main__:Solution updated: Round 252, RSME 1.0162934352516337\n",
      "INFO:__main__:Solution updated: Round 254, RSME 1.0109969880731806\n",
      "INFO:__main__:Solution updated: Round 255, RSME 1.0069814109601152\n",
      "INFO:__main__:Solution updated: Round 257, RSME 1.0013959458161\n",
      "INFO:__main__:Solution updated: Round 271, RSME 1.0005826193879124\n",
      "INFO:__main__:Solution updated: Round 273, RSME 0.9991652116736179\n",
      "INFO:__main__:Target RSME reached. Iteration terminated at round 273.\n"
     ]
    }
   ],
   "source": [
    "# Initialize optional arguments if not given\n",
    "if not max_x_deviation:\n",
    "    max_x_deviation = (max(x_original) - min(x_original)) // 2\n",
    "if not deviations_scaling:\n",
    "    deviations_scaling = np.array([1 / k for k in range(1, n_max_generations + 1)])\n",
    "\n",
    "# Initialize parameter candidates\n",
    "parameters = []\n",
    "for _ in range(n_population):\n",
    "    candidate = [normal(loc=mean, scale=stdev) for mean, stdev in zip(init_guess, deviations)]\n",
    "    parameters.append(candidate)\n",
    "parameters = np.array(parameters)\n",
    "\n",
    "# Initialize optimization\n",
    "min_rsme = float(np.inf)\n",
    "return_solution, return_parameters = None, None\n",
    "counter = 0\n",
    "\n",
    "# Search for best parameter combination\n",
    "for round in range(n_max_generations):\n",
    "    counter += 1\n",
    "    rsme_values = []\n",
    "\n",
    "    for candidate in parameters:\n",
    "        x_target = correction_model(x_original, candidate)\n",
    "\n",
    "        # Check that interpolated x axis is within accepted range\n",
    "        if abs(min(x_target) - min(x_original)) > max_x_deviation:\n",
    "            rsme_values.append(float(np.inf))\n",
    "            continue\n",
    "        if abs(max(x_target) - max(x_original)) > max_x_deviation:\n",
    "            rsme_values.append(float(np.inf))\n",
    "            continue\n",
    "\n",
    "        solution, residual = nnls_fit_with_interpolated_library(x_original, x_target, pure_components, signal)\n",
    "        rsme_value = rsme(residual)\n",
    "        rsme_values.append(rsme_value)\n",
    "\n",
    "        # Update solution if RSME is smaller than current minimum\n",
    "        if rsme_value < min_rsme:\n",
    "            min_rsme = rsme_value\n",
    "            return_solution = solution\n",
    "            return_parameters = candidate\n",
    "            counter = 0\n",
    "            logger.info(f'Solution updated: Round {round}, RSME {min_rsme}')\n",
    "    \n",
    "    all_rsme_values.append(rsme_values)\n",
    "    \n",
    "    # Check termination conditions\n",
    "    if min_rsme < rsme_threshold:\n",
    "        logger.info(f'Target RSME reached. Iteration terminated at round {round}.')\n",
    "        break\n",
    "    if counter > n_no_change_threshold:\n",
    "        logger.info(\n",
    "            f\"RSME didn't change in last {n_no_change_threshold} rounds. Iteration terminated at round {round}.\")\n",
    "        break\n",
    "    if round == n_max_generations - 1:\n",
    "        logger.warning(f\"Maximum number of generations reached. Iteration terminated at round {round}.\")\n",
    "        break\n",
    "\n",
    "    # Find best parameter combination\n",
    "    index_lowest_rsme = np.argmin(rsme_values)\n",
    "    best_parameters = parameters[index_lowest_rsme]\n",
    "\n",
    "    # Generate new parameter combinations\n",
    "    parameters = []\n",
    "    parameters.append(best_parameters)\n",
    "    scale = deviations_scaling[round]\n",
    "    n_scaled = int(scaled_proportion * n_population)\n",
    "    for _ in range(n_scaled):\n",
    "        candidate = [normal(loc=mean, scale=scale * stdev) for mean, stdev in zip(best_parameters, deviations)]\n",
    "        parameters.append(candidate)\n",
    "    for _ in range(n_population - len(parameters)):\n",
    "        candidate = [normal(loc=mean, scale=stdev) for mean, stdev in zip(best_parameters, deviations)]\n",
    "        parameters.append(candidate)\n",
    "    parameters = np.array(parameters)"
   ]
  },
  {
   "cell_type": "markdown",
   "metadata": {},
   "source": [
    "### Results"
   ]
  },
  {
   "cell_type": "code",
   "execution_count": 10,
   "metadata": {
    "ExecuteTime": {
     "end_time": "2019-07-22T08:06:58.347663Z",
     "start_time": "2019-07-22T08:06:57.164105Z"
    }
   },
   "outputs": [
    {
     "name": "stderr",
     "output_type": "stream",
     "text": [
      "/home/ossi/anaconda3/lib/python3.7/site-packages/numpy/core/_methods.py:117: RuntimeWarning: invalid value encountered in subtract\n",
      "  x = asanyarray(arr - arrmean)\n"
     ]
    },
    {
     "data": {
      "image/png": "[encoded data removed]",
      "text/plain": [
       "<Figure size 432x288 with 1 Axes>"
      ]
     },
     "metadata": {
      "needs_background": "light"
     },
     "output_type": "display_data"
    }
   ],
   "source": [
    "for i, row in enumerate(all_rsme_values,1):\n",
    "    rsme_min = min(row)\n",
    "    rsme_stdev = np.std(row)\n",
    "    rsme_mean = np.mean(row)\n",
    "    _ = plt.plot(i, rsme_min, 'bo')"
   ]
  },
  {
   "cell_type": "markdown",
   "metadata": {},
   "source": [
    "## Test refactored version"
   ]
  },
  {
   "cell_type": "code",
   "execution_count": 11,
   "metadata": {
    "ExecuteTime": {
     "end_time": "2019-07-22T08:06:58.421426Z",
     "start_time": "2019-07-22T08:06:58.349617Z"
    }
   },
   "outputs": [],
   "source": [
    "from solvers.ea_solver import EASolver"
   ]
  },
  {
   "cell_type": "code",
   "execution_count": 12,
   "metadata": {
    "ExecuteTime": {
     "end_time": "2019-07-22T08:07:11.329743Z",
     "start_time": "2019-07-22T08:06:58.424417Z"
    }
   },
   "outputs": [
    {
     "name": "stderr",
     "output_type": "stream",
     "text": [
      "INFO:solvers.base_solver:Solution updated: Round 0, RSME 219.0718716760168\n",
      "INFO:solvers.base_solver:Solution updated: Round 0, RSME 209.43003778608346\n",
      "INFO:solvers.base_solver:Solution updated: Round 0, RSME 184.90631859994824\n",
      "INFO:solvers.base_solver:Solution updated: Round 0, RSME 70.57948700301337\n",
      "INFO:solvers.base_solver:Solution updated: Round 0, RSME 28.10948515831259\n",
      "INFO:solvers.base_solver:Solution updated: Round 0, RSME 9.561466449775038\n",
      "INFO:solvers.base_solver:Solution updated: Round 6, RSME 9.42913263579649\n",
      "INFO:solvers.base_solver:Solution updated: Round 9, RSME 9.37131957390198\n",
      "INFO:solvers.base_solver:Solution updated: Round 9, RSME 8.616206316728007\n",
      "INFO:solvers.base_solver:Solution updated: Round 10, RSME 8.540209433000802\n",
      "INFO:solvers.base_solver:Solution updated: Round 10, RSME 8.480997630393022\n",
      "INFO:solvers.base_solver:Solution updated: Round 11, RSME 8.260821897059644\n",
      "INFO:solvers.base_solver:Solution updated: Round 13, RSME 8.184176301801772\n",
      "INFO:solvers.base_solver:Solution updated: Round 15, RSME 7.9278228006423825\n",
      "INFO:solvers.base_solver:Solution updated: Round 16, RSME 7.9103395345072585\n",
      "INFO:solvers.base_solver:Solution updated: Round 17, RSME 7.829689089175543\n",
      "INFO:solvers.base_solver:Solution updated: Round 18, RSME 7.314550588270237\n",
      "INFO:solvers.base_solver:Solution updated: Round 20, RSME 7.190686147868638\n",
      "INFO:solvers.base_solver:Solution updated: Round 21, RSME 6.834109103822246\n",
      "INFO:solvers.base_solver:Solution updated: Round 22, RSME 6.704853389502242\n",
      "INFO:solvers.base_solver:Solution updated: Round 23, RSME 6.55263705548226\n",
      "INFO:solvers.base_solver:Solution updated: Round 24, RSME 5.575327464133155\n",
      "INFO:solvers.base_solver:Solution updated: Round 25, RSME 5.466358625993047\n",
      "INFO:solvers.base_solver:Solution updated: Round 25, RSME 4.329513552194095\n",
      "INFO:solvers.base_solver:Solution updated: Round 26, RSME 3.8158702052408495\n",
      "INFO:solvers.base_solver:Solution updated: Round 26, RSME 3.7019552819434365\n",
      "INFO:solvers.base_solver:Solution updated: Round 26, RSME 3.1059413941526532\n",
      "INFO:solvers.base_solver:Solution updated: Round 28, RSME 3.052353133651795\n",
      "INFO:solvers.base_solver:Solution updated: Round 28, RSME 2.7060221346079802\n",
      "INFO:solvers.base_solver:Solution updated: Round 28, RSME 2.60178414294379\n",
      "INFO:solvers.base_solver:Solution updated: Round 29, RSME 2.23419270756099\n",
      "INFO:solvers.base_solver:Solution updated: Round 29, RSME 2.226335154932647\n",
      "INFO:solvers.base_solver:Solution updated: Round 30, RSME 2.059547894136999\n",
      "INFO:solvers.base_solver:Solution updated: Round 30, RSME 1.973141937864061\n",
      "INFO:solvers.base_solver:Solution updated: Round 31, RSME 1.7231079481289293\n",
      "INFO:solvers.base_solver:Solution updated: Round 33, RSME 1.586121303600371\n",
      "INFO:solvers.base_solver:Solution updated: Round 34, RSME 1.5349753466440954\n",
      "INFO:solvers.base_solver:Solution updated: Round 34, RSME 1.5046299545170112\n",
      "INFO:solvers.base_solver:Solution updated: Round 35, RSME 1.449423727826373\n",
      "INFO:solvers.base_solver:Solution updated: Round 36, RSME 1.4463045605702551\n",
      "INFO:solvers.base_solver:Solution updated: Round 36, RSME 1.4197875765552013\n",
      "INFO:solvers.base_solver:Solution updated: Round 40, RSME 1.37017318336926\n",
      "INFO:solvers.base_solver:Solution updated: Round 43, RSME 1.3393861342099258\n",
      "INFO:solvers.base_solver:Solution updated: Round 47, RSME 1.272945513502699\n",
      "INFO:solvers.base_solver:Solution updated: Round 53, RSME 1.2155585051922333\n",
      "INFO:solvers.base_solver:Solution updated: Round 54, RSME 1.2054354978376327\n",
      "INFO:solvers.base_solver:Solution updated: Round 55, RSME 1.1845876251364402\n",
      "INFO:solvers.base_solver:Solution updated: Round 55, RSME 1.1741151047311387\n",
      "INFO:solvers.base_solver:Solution updated: Round 60, RSME 1.1697465361480277\n",
      "INFO:solvers.base_solver:Solution updated: Round 60, RSME 1.1684797164533478\n",
      "INFO:solvers.base_solver:Solution updated: Round 61, RSME 1.1367939346411033\n",
      "INFO:solvers.base_solver:Solution updated: Round 63, RSME 1.112260843794633\n",
      "INFO:solvers.base_solver:Solution updated: Round 65, RSME 1.08490107275755\n",
      "INFO:solvers.base_solver:Solution updated: Round 66, RSME 1.0622493581581234\n",
      "INFO:solvers.base_solver:Solution updated: Round 69, RSME 1.060437151699032\n",
      "INFO:solvers.base_solver:Solution updated: Round 70, RSME 1.0534620393592629\n",
      "INFO:solvers.base_solver:Solution updated: Round 72, RSME 1.0209492726906568\n",
      "INFO:solvers.base_solver:Solution updated: Round 81, RSME 1.009109092741686\n",
      "INFO:solvers.base_solver:Solution updated: Round 82, RSME 0.9871408290349939\n",
      "INFO:solvers.base_solver:Target RSME reached. Iteration terminated at round 82.\n"
     ]
    }
   ],
   "source": [
    "solver = EASolver(X, pure_components, quadratic_correction)\n",
    "solution, parameters = solver.solve(signal)"
   ]
  }
 ],
 "metadata": {
  "kernelspec": {
   "display_name": "Python 3",
   "language": "python",
   "name": "python3"
  },
  "language_info": {
   "codemirror_mode": {
    "name": "ipython",
    "version": 3
   },
   "file_extension": ".py",
   "mimetype": "text/x-python",
   "name": "python",
   "nbconvert_exporter": "python",
   "pygments_lexer": "ipython3",
   "version": "3.7.1"
  },
  "varInspector": {
   "cols": {
    "lenName": 16,
    "lenType": 16,
    "lenVar": 40
   },
   "kernels_config": {
    "python": {
     "delete_cmd_postfix": "",
     "delete_cmd_prefix": "del ",
     "library": "var_list.py",
     "varRefreshCmd": "print(var_dic_list())"
    },
    "r": {
     "delete_cmd_postfix": ") ",
     "delete_cmd_prefix": "rm(",
     "library": "var_list.r",
     "varRefreshCmd": "cat(var_dic_list()) "
    }
   },
   "types_to_exclude": [
    "module",
    "function",
    "builtin_function_or_method",
    "instance",
    "_Feature"
   ],
   "window_display": false
  }
 },
 "nbformat": 4,
 "nbformat_minor": 2
}

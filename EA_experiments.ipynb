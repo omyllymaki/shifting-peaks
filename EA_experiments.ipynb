{
 "cells": [
  {
   "cell_type": "markdown",
   "metadata": {},
   "source": [
    "# EA experiments"
   ]
  },
  {
   "cell_type": "code",
   "execution_count": 1,
   "metadata": {
    "ExecuteTime": {
     "end_time": "2019-07-19T09:06:55.398160Z",
     "start_time": "2019-07-19T09:06:54.990724Z"
    }
   },
   "outputs": [],
   "source": [
    "%matplotlib inline\n",
    "%load_ext autoreload\n",
    "%autoreload 2\n",
    "from IPython.core.interactiveshell import InteractiveShell\n",
    "InteractiveShell.ast_node_interactivity = \"all\""
   ]
  },
  {
   "cell_type": "markdown",
   "metadata": {},
   "source": [
    "## Imports"
   ]
  },
  {
   "cell_type": "code",
   "execution_count": 2,
   "metadata": {
    "ExecuteTime": {
     "end_time": "2019-07-19T09:06:55.579744Z",
     "start_time": "2019-07-19T09:06:55.400141Z"
    }
   },
   "outputs": [],
   "source": [
    "import matplotlib.pyplot as plt\n",
    "import numpy as np\n",
    "import logging\n",
    "import random\n",
    "\n",
    "from constants import PATH_PURE_COMPONENTS, PATH_MIXTURES, X\n",
    "from file_io import load_pickle_file\n",
    "from nnls_fit_with_x_axis_correction import analyze, nnls_fit_with_interpolated_library\n",
    "from utils import calculate_signal, nnls_fit, rsme\n",
    "from correction_models import quadratic_correction\n",
    "\n",
    "from numpy.random import normal\n",
    "\n",
    "logging.basicConfig(level=logging.INFO)"
   ]
  },
  {
   "cell_type": "markdown",
   "metadata": {},
   "source": [
    "## Load data"
   ]
  },
  {
   "cell_type": "code",
   "execution_count": 3,
   "metadata": {
    "ExecuteTime": {
     "end_time": "2019-07-19T09:06:55.650410Z",
     "start_time": "2019-07-19T09:06:55.581490Z"
    }
   },
   "outputs": [],
   "source": [
    "pure_components = load_pickle_file(PATH_PURE_COMPONENTS)\n",
    "mixtures_data = load_pickle_file(PATH_MIXTURES)"
   ]
  },
  {
   "cell_type": "markdown",
   "metadata": {},
   "source": [
    "## Experiment"
   ]
  },
  {
   "cell_type": "code",
   "execution_count": 4,
   "metadata": {
    "ExecuteTime": {
     "end_time": "2019-07-19T09:06:55.718124Z",
     "start_time": "2019-07-19T09:06:55.653296Z"
    }
   },
   "outputs": [],
   "source": [
    "N_POPULATION = 200\n",
    "N_SURVIVORS = 50\n",
    "N_LINEAR_COMBINATIONS = 50\n",
    "N_MUTATIONS = 50\n",
    "INIT_GUESS = [0, 0, 0]\n",
    "INIT_DEVIATIONS = [0.01, 0.1, 1]\n",
    "N_GENERATIONS = 300\n",
    "RSME_THRESHOLD = 5"
   ]
  },
  {
   "cell_type": "code",
   "execution_count": 5,
   "metadata": {
    "ExecuteTime": {
     "end_time": "2019-07-19T09:06:55.783461Z",
     "start_time": "2019-07-19T09:06:55.720120Z"
    }
   },
   "outputs": [],
   "source": [
    "correction_model = quadratic_correction\n",
    "x_original = X\n",
    "signal = mixtures_data[0]['signal']\n",
    "true = mixtures_data[0]['contributions']"
   ]
  },
  {
   "cell_type": "code",
   "execution_count": 6,
   "metadata": {
    "ExecuteTime": {
     "end_time": "2019-07-19T09:06:55.851888Z",
     "start_time": "2019-07-19T09:06:55.786452Z"
    }
   },
   "outputs": [],
   "source": [
    "parameters = []\n",
    "for _ in range(N_POPULATION):\n",
    "    candidate = [normal(loc=mean, scale=stdev) for mean, stdev in zip(INIT_GUESS, INIT_DEVIATIONS)]\n",
    "    parameters.append(candidate)\n",
    "parameters = np.array(parameters) \n",
    "\n",
    "min_rsme = float(np.inf)\n",
    "best_solution = None"
   ]
  },
  {
   "cell_type": "code",
   "execution_count": 7,
   "metadata": {
    "ExecuteTime": {
     "end_time": "2019-07-19T09:06:58.842818Z",
     "start_time": "2019-07-19T09:06:55.853883Z"
    }
   },
   "outputs": [
    {
     "name": "stdout",
     "output_type": "stream",
     "text": [
      "0 782.8948428736031 [ 32.77294555 142.56121319   0.        ]\n",
      "0 296.0289304590176 [0.00000000e+000 3.33681103e+003 2.31159642e+154]\n",
      "0 248.4414978778072 [ 25.72070422 344.93288968   0.        ]\n",
      "0 170.36009776060033 [ 25.33017034 389.21560641  73.37610442]\n",
      "0 131.84213650064075 [ 26.99683756 402.19457584  39.95356257]\n",
      "0 117.27520781705599 [ 27.70908092 413.45458978  13.64024539]\n",
      "0 110.24802733971832 [ 27.55718858 417.8069961    0.        ]\n",
      "0 75.2597088063432 [ 26.2286778  383.61287449  53.80261961]\n",
      "0 72.94361542610915 [ 28.29037382 408.91649844   0.        ]\n",
      "0 44.58571643856745 [ 26.76918111 394.71561587  28.03989046]\n",
      "0 36.095439858245314 [ 27.86233184 400.28205792   5.39664079]\n",
      "2 27.282386207324134 [ 27.27546165 394.71386312  19.0713757 ]\n",
      "3 21.408224029408146 [ 26.81929108 392.73278333   1.76162931]\n",
      "3 17.496372707235714 [ 26.0549901  387.63114649  26.35290932]\n",
      "16 12.468555053467085 [ 26.38271895 389.89142473  20.14817108]\n",
      "17 10.382034274989055 [ 26.55696267 387.93081885  21.9950327 ]\n",
      "27 10.241392771956162 [ 27.1077757 388.0302022  20.6686313]\n",
      "29 7.8116717713653925 [ 26.64236491 391.14627917  13.81182573]\n",
      "31 6.749371585799581 [ 26.73327482 389.94701091  16.31789694]\n",
      "31 5.772723281823803 [ 26.5878002  388.89541561  17.02961611]\n",
      "194 5.679392146719692 [ 26.20450042 388.4101436   15.81238612]\n",
      "197 3.9886553620317295 [ 26.09499504 388.39934328  17.69780387]\n",
      "True:  [ 25.53884062 389.36144086  14.74869716]\n"
     ]
    }
   ],
   "source": [
    "for k in range(N_GENERATIONS):\n",
    "\n",
    "    rsme_values = []\n",
    "    for candidate in parameters:\n",
    "        x_target = correction_model(x_original, candidate)\n",
    "        \n",
    "        if min(x_target) < -50:\n",
    "            continue\n",
    "        if max(x_target) > 150:\n",
    "            continue\n",
    "            \n",
    "        solution, residual = nnls_fit_with_interpolated_library(x_original, x_target, pure_components, signal)\n",
    "        rsme_value = rsme(residual)\n",
    "        rsme_values.append(rsme_value)\n",
    "        if rsme_value < min_rsme:\n",
    "            min_rsme = rsme_value\n",
    "            best_solution = solution\n",
    "            print(k, min_rsme, solution)\n",
    "    \n",
    "    if min_rsme < RSME_THRESHOLD:\n",
    "        break\n",
    "        \n",
    "    sorted_indices = np.argsort(rsme_values)\n",
    "    best_parameters = parameters[sorted_indices][:N_SURVIVORS]\n",
    "\n",
    "    best_parameters_mean = np.mean(best_parameters, axis=0)\n",
    "    best_parameters_stdev = np.std(best_parameters, axis=0)\n",
    "\n",
    "    parameters = []\n",
    "\n",
    "    parameters.append(best_parameters[0].tolist())\n",
    "\n",
    "    for _ in range(N_LINEAR_COMBINATIONS):\n",
    "        candidate = [random.choice(column) for column in best_parameters.T]\n",
    "        parameters.append(candidate)\n",
    "\n",
    "    for _ in range(N_MUTATIONS):\n",
    "        candidate = [normal(loc=mean, scale=stdev) for mean, stdev in zip(best_parameters_mean, INIT_DEVIATIONS)]\n",
    "        parameters.append(candidate)\n",
    "\n",
    "    for _ in range(N_POPULATION - len(parameters)):\n",
    "        candidate = [normal(loc=mean, scale=stdev) for mean, stdev in zip(INIT_GUESS, INIT_DEVIATIONS)]\n",
    "        parameters.append(candidate)\n",
    "    \n",
    "    parameters = np.array(parameters)\n",
    "\n",
    "print('True: ', true)"
   ]
  },
  {
   "cell_type": "code",
   "execution_count": null,
   "metadata": {},
   "outputs": [],
   "source": []
  }
 ],
 "metadata": {
  "kernelspec": {
   "display_name": "Python 3",
   "language": "python",
   "name": "python3"
  },
  "language_info": {
   "codemirror_mode": {
    "name": "ipython",
    "version": 3
   },
   "file_extension": ".py",
   "mimetype": "text/x-python",
   "name": "python",
   "nbconvert_exporter": "python",
   "pygments_lexer": "ipython3",
   "version": "3.6.5"
  },
  "varInspector": {
   "cols": {
    "lenName": 16,
    "lenType": 16,
    "lenVar": 40
   },
   "kernels_config": {
    "python": {
     "delete_cmd_postfix": "",
     "delete_cmd_prefix": "del ",
     "library": "var_list.py",
     "varRefreshCmd": "print(var_dic_list())"
    },
    "r": {
     "delete_cmd_postfix": ") ",
     "delete_cmd_prefix": "rm(",
     "library": "var_list.r",
     "varRefreshCmd": "cat(var_dic_list()) "
    }
   },
   "types_to_exclude": [
    "module",
    "function",
    "builtin_function_or_method",
    "instance",
    "_Feature"
   ],
   "window_display": false
  }
 },
 "nbformat": 4,
 "nbformat_minor": 2
}
